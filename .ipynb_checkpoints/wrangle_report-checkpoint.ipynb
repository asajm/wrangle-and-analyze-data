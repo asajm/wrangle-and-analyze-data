{
 "cells": [
  {
   "cell_type": "markdown",
   "metadata": {},
   "source": [
    "# Wrangle and Analyze Data"
   ]
  },
  {
   "cell_type": "markdown",
   "metadata": {},
   "source": [
    "In this project I have wrangled, analyzed and visualized datasets which are rleated to Twitter user `@dog_rates`, known as `WeRateDogs`. `WeRateDogs` is a Twitter account that rates people's dogs with a humorous comment about the dog."
   ]
  },
  {
   "cell_type": "markdown",
   "metadata": {},
   "source": [
    "the journey started from gathering data from three different sources, then through assessing stage which covered Quality, resolved issues with content, and Tidiness, resolved issues with structure. Finally cleaning stage that treated and handled each assessing point by defining the solution, codeing and then test. after that, I abled to create the master dataset which is ready for analysis and visualization."
   ]
  },
  {
   "cell_type": "markdown",
   "metadata": {},
   "source": [
    "## Gathering Stage"
   ]
  },
  {
   "cell_type": "code",
   "execution_count": null,
   "metadata": {},
   "outputs": [],
   "source": []
  },
  {
   "cell_type": "markdown",
   "metadata": {},
   "source": [
    "I have gathered data from three different sources. reading csv file, retrieving tsv file from URL `https://d17h27t6h515a5.cloudfront.net/topher/2017/August/599fd2ad_image-predictions/image-predictions.tsv` and utilizing Twitter APIs which was configured to avoid the rate limit and potential error like the tweet_id is not existed anymore."
   ]
  },
  {
   "cell_type": "markdown",
   "metadata": {},
   "source": [
    "## Assessing Stage"
   ]
  },
  {
   "cell_type": "markdown",
   "metadata": {},
   "source": [
    "I have started with visual assessment by scrolling through the data and then programmatic assessment by using codes to view specific portions and summaries of the data e.g. `sample`, `info`, `describe`, `value_counts`, `hist` and customized code for exploring the repated valued in each column."
   ]
  },
  {
   "cell_type": "markdown",
   "metadata": {},
   "source": [
    "There are 7 content issues have been observated on `twitter_archive_enhanced` table, 1 on `twitter_archive_enhanced` table and another 1 on `tweets` table. On the other hand, there are 4 structure issues have been observated on all tables."
   ]
  },
  {
   "cell_type": "markdown",
   "metadata": {},
   "source": [
    "## Cleaning Stage"
   ]
  },
  {
   "cell_type": "markdown",
   "metadata": {},
   "source": [
    "In the cleaning stage, I have followed data cleaning process programmatically through three steps:\n",
    "- `Define` which converts assessments have been observated in assessing stage into defined cleaning tasks. \n",
    "- `code` which converts definitions to code and run that code.\n",
    "- `test` which make sure cleaning operations worked properly.\n"
   ]
  }
 ],
 "metadata": {
  "kernelspec": {
   "display_name": "Python 3",
   "language": "python",
   "name": "python3"
  },
  "language_info": {
   "codemirror_mode": {
    "name": "ipython",
    "version": 3
   },
   "file_extension": ".py",
   "mimetype": "text/x-python",
   "name": "python",
   "nbconvert_exporter": "python",
   "pygments_lexer": "ipython3",
   "version": "3.7.2"
  }
 },
 "nbformat": 4,
 "nbformat_minor": 2
}
