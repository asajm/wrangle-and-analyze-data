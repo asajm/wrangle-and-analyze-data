{
 "cells": [
  {
   "cell_type": "markdown",
   "metadata": {},
   "source": [
    "# Wrangle and Analyze Data"
   ]
  },
  {
   "cell_type": "markdown",
   "metadata": {},
   "source": [
    "In this project we are going to analyze 2348 records of dogs to discover the ranks of dogs' `stages` and `breeds` in terms of `votes`, `favorite` & `retweets`. These records belong to **WeRateDogs** which is a Twitter account that rates people's dogs with a humorous comment about the dog.\n",
    "#### Dog Stages\n",
    "- What is the order of stages in terms of votes?\n",
    "- What is the order of stages in terms of favorite?\n",
    "- What is the order of stages in terms of retweets?\n",
    "\n",
    "#### Dog Breeds\n",
    "- What is the order of breeds in terms of votes?\n",
    "- What is the order of breeds in terms of favorite?\n",
    "- What is the order of breeds in terms of retweets?"
   ]
  },
  {
   "cell_type": "code",
   "execution_count": 121,
   "metadata": {},
   "outputs": [],
   "source": [
    "import pandas as pd\n",
    "import numpy as np\n",
    "import matplotlib.pyplot as plt\n",
    "%matplotlib inline"
   ]
  },
  {
   "cell_type": "code",
   "execution_count": 122,
   "metadata": {},
   "outputs": [],
   "source": [
    "df = pd.read_csv('twitter_archive_master.csv')"
   ]
  },
  {
   "cell_type": "markdown",
   "metadata": {},
   "source": [
    "# Dog Stages"
   ]
  },
  {
   "cell_type": "markdown",
   "metadata": {},
   "source": [
    "## What is the order of stages in terms of votes?"
   ]
  },
  {
   "cell_type": "markdown",
   "metadata": {},
   "source": [
    "<div style=\"text-align\">\n",
    "    <img src=\"https://pbs.twimg.com/media/DCIgSR0XgAANEOY.jpg\" alt=\"dog1\" style=\"border: 1px solid #ddd; border-radius: 4px; padding: 5px; width: 250px; display: inline-block; margin: auto;\">\n",
    "    <img src=\"https://pbs.twimg.com/media/DCsnnZsVwAEfkyi.jpg\" alt=\"dog1\" style=\"border: 1px solid #ddd; border-radius: 4px; padding: 5px; width: 350px; display: inline-block; margin: auto;\">\n",
    "    <img src=\"https://pbs.twimg.com/media/DE0BTnQUwAApKEH.jpg\" alt=\"dog1\" style=\"border: 1px solid #ddd; border-radius: 4px; padding: 5px; width: 250px; display: inline-block; margin: auto;\">\n",
    "</div>"
   ]
  },
  {
   "cell_type": "code",
   "execution_count": 123,
   "metadata": {
    "scrolled": true
   },
   "outputs": [
    {
     "data": {
      "text/plain": [
       "<BarContainer object of 7 artists>"
      ]
     },
     "execution_count": 123,
     "metadata": {},
     "output_type": "execute_result"
    },
    {
     "data": {
      "image/png": "[encoded data removed]",
      "text/plain": [
       "<Figure size 432x288 with 1 Axes>"
      ]
     },
     "metadata": {
      "needs_background": "light"
     },
     "output_type": "display_data"
    }
   ],
   "source": [
    "stages_votes = stages['rating_numerator'].mean()\n",
    "stages_votes.sort_values(ascending=True, inplace=True)\n",
    "plt.barh(stages_votes.index, stages_votes.values)"
   ]
  },
  {
   "cell_type": "markdown",
   "metadata": {},
   "source": [
    "## What is the order of stages in terms of favorite?"
   ]
  },
  {
   "cell_type": "markdown",
   "metadata": {},
   "source": [
    "<div style=\"text-align\">\n",
    "    <img src=\"https://pbs.twimg.com/media/CyIgaTEVEAA-9zS.jpg\" alt=\"dog1\" style=\"border: 1px solid #ddd; border-radius: 4px; padding: 5px; width: 250px; display: inline-block; margin: auto;\">\n",
    "    <img src=\"https://pbs.twimg.com/media/DAmyy8FXYAIH8Ty.jpg\" alt=\"dog1\" style=\"border: 1px solid #ddd; border-radius: 4px; padding: 5px; width: 350px; display: inline-block;\">\n",
    "    <img src=\"https://pbs.twimg.com/media/DEJT3FeXoAAtwUy.jpg\" alt=\"dog1\" style=\"border: 1px solid #ddd; border-radius: 4px; padding: 5px; width: 250px; display: inline-block; margin: auto;\">\n",
    "</div>"
   ]
  },
  {
   "cell_type": "code",
   "execution_count": 124,
   "metadata": {
    "scrolled": false
   },
   "outputs": [
    {
     "data": {
      "text/plain": [
       "<BarContainer object of 7 artists>"
      ]
     },
     "execution_count": 124,
     "metadata": {},
     "output_type": "execute_result"
    },
    {
     "data": {
      "image/png": "[encoded data removed]",
      "text/plain": [
       "<Figure size 432x288 with 1 Axes>"
      ]
     },
     "metadata": {
      "needs_background": "light"
     },
     "output_type": "display_data"
    }
   ],
   "source": [
    "stages_fav = stages['favorite_count'].mean()\n",
    "stages_fav.sort_values(ascending=True, inplace=True)\n",
    "plt.barh(stages_fav.index, stages_fav.values)"
   ]
  },
  {
   "cell_type": "markdown",
   "metadata": {},
   "source": [
    "## What is the order of stages in terms of retweets?"
   ]
  },
  {
   "cell_type": "markdown",
   "metadata": {},
   "source": [
    "<img src=\"https://pbs.twimg.com/media/CnF8qVDWYAAh0g1.jpg\" alt=\"dog1\" style=\"border: 1px solid #ddd; border-radius: 4px; padding: 5px; width: 250px; display: inline-block;\">\n",
    "<img src=\"https://pbs.twimg.com/media/C3CXxaoWQAAiLuC.jpg\" alt=\"dog1\" style=\"border: 1px solid #ddd; border-radius: 4px; padding: 5px; width: 350px; display: inline-block;\">\n",
    "<img src=\"https://pbs.twimg.com/media/C12whDoVEAALRxa.jpg\" alt=\"dog1\" style=\"border: 1px solid #ddd; border-radius: 4px; padding: 5px; width: 250px; display: inline-block;\">"
   ]
  },
  {
   "cell_type": "code",
   "execution_count": 125,
   "metadata": {
    "scrolled": false
   },
   "outputs": [
    {
     "data": {
      "text/plain": [
       "<BarContainer object of 7 artists>"
      ]
     },
     "execution_count": 125,
     "metadata": {},
     "output_type": "execute_result"
    },
    {
     "data": {
      "image/png": "[encoded data removed]",
      "text/plain": [
       "<Figure size 432x288 with 1 Axes>"
      ]
     },
     "metadata": {
      "needs_background": "light"
     },
     "output_type": "display_data"
    }
   ],
   "source": [
    "stages_retweets = stages['retweet_count'].mean()\n",
    "stages_retweets.sort_values(ascending=True, inplace=True)\n",
    "plt.barh(stages_retweets.index, stages_retweets.values)"
   ]
  },
  {
   "cell_type": "markdown",
   "metadata": {},
   "source": [
    "#  Dog Breeds"
   ]
  },
  {
   "cell_type": "markdown",
   "metadata": {},
   "source": [
    "## What is the order of breeds in terms of votes?"
   ]
  },
  {
   "cell_type": "markdown",
   "metadata": {},
   "source": [
    "<img src=\"https://pbs.twimg.com/media/CUcjtL8WUAAAJoz.jpg\" alt=\"dog1\" style=\"border: 1px solid #ddd; border-radius: 4px; padding: 5px; width: 250px; display: inline-block;\">\n",
    "<img src=\"https://pbs.twimg.com/media/C8IKUjAUwAEP-En.jpg\" alt=\"dog1\" style=\"border: 1px solid #ddd; border-radius: 4px; padding: 5px; width: 350px; display: inline-block;\">\n",
    "<img src=\"https://pbs.twimg.com/media/CwJR1okWIAA6XMp.jpg\" alt=\"dog1\" style=\"border: 1px solid #ddd; border-radius: 4px; padding: 5px; width: 350px; display: inline-block;\">"
   ]
  },
  {
   "cell_type": "code",
   "execution_count": 126,
   "metadata": {
    "scrolled": false
   },
   "outputs": [
    {
     "data": {
      "text/plain": [
       "<BarContainer object of 5 artists>"
      ]
     },
     "execution_count": 126,
     "metadata": {},
     "output_type": "execute_result"
    },
    {
     "data": {
      "image/png": "[encoded data removed]",
      "text/plain": [
       "<Figure size 432x288 with 1 Axes>"
      ]
     },
     "metadata": {
      "needs_background": "light"
     },
     "output_type": "display_data"
    }
   ],
   "source": [
    "breeds_votes = breeds['rating_numerator'].mean()\n",
    "breeds_votes = breeds_votes.head(5)\n",
    "breeds_votes.sort_values(ascending=True, inplace=True)\n",
    "plt.barh(breeds_votes.index, breeds_votes.values, color='C9')"
   ]
  },
  {
   "cell_type": "markdown",
   "metadata": {},
   "source": [
    "## What is the order of breeds in terms of favorite?"
   ]
  },
  {
   "cell_type": "markdown",
   "metadata": {},
   "source": [
    "\n",
    "<img src=\"https://pbs.twimg.com/media/CaLWOPfWkAAo2Dt.jpg\" alt=\"dog1\" style=\"border: 1px solid #ddd; border-radius: 4px; padding: 5px; width: 250px; display: inline-block;\">\n",
    "<img src=\"https://pbs.twimg.com/media/DF1eOmZXUAALUcq.jpg\" alt=\"dog1\" style=\"border: 1px solid #ddd; border-radius: 4px; padding: 5px; width: 350px; display: inline-block;\">\n",
    "<img src=\"https://pbs.twimg.com/media/C378BwxWMAA6CNK.jpg\" alt=\"dog1\" style=\"border: 1px solid #ddd; border-radius: 4px; padding: 5px; width: 250px; display: inline-block;\">"
   ]
  },
  {
   "cell_type": "code",
   "execution_count": 127,
   "metadata": {
    "scrolled": false
   },
   "outputs": [
    {
     "data": {
      "text/plain": [
       "<BarContainer object of 5 artists>"
      ]
     },
     "execution_count": 127,
     "metadata": {},
     "output_type": "execute_result"
    },
    {
     "data": {
      "image/png": "[encoded data removed]",
      "text/plain": [
       "<Figure size 432x288 with 1 Axes>"
      ]
     },
     "metadata": {
      "needs_background": "light"
     },
     "output_type": "display_data"
    }
   ],
   "source": [
    "breeds_fav = breeds['favorite_count'].mean()\n",
    "breeds_fav = breeds_fav.head(5)\n",
    "breeds_fav.sort_values(ascending=True, inplace=True)\n",
    "plt.barh(breeds_fav.index, breeds_fav.values, color='C9')"
   ]
  },
  {
   "cell_type": "markdown",
   "metadata": {},
   "source": [
    "## What is the order of breeds in terms of retweets?"
   ]
  },
  {
   "cell_type": "markdown",
   "metadata": {},
   "source": [
    "<img src=\"https://pbs.twimg.com/media/CWciPonWEAUOqLD.jpg\" alt=\"dog1\" style=\"border: 1px solid #ddd; border-radius: 4px; padding: 5px; width: 350px; display: inline-block;\">\n",
    "<img src=\"https://pbs.twimg.com/media/Cw6o1JQXcAAtP78.jpg\" alt=\"dog1\" style=\"border: 1px solid #ddd; border-radius: 4px; padding: 5px; width: 250px; display: inline-block;\">\n",
    "<img src=\"https://pbs.twimg.com/media/Czhf4XtVQAAIqpd.jpg\" alt=\"dog1\" style=\"border: 1px solid #ddd; border-radius: 4px; padding: 5px; width: 350px; display: inline-block;\">"
   ]
  },
  {
   "cell_type": "code",
   "execution_count": 128,
   "metadata": {
    "scrolled": true
   },
   "outputs": [
    {
     "data": {
      "text/plain": [
       "<BarContainer object of 5 artists>"
      ]
     },
     "execution_count": 128,
     "metadata": {},
     "output_type": "execute_result"
    },
    {
     "data": {
      "image/png": "[encoded data removed]",
      "text/plain": [
       "<Figure size 432x288 with 1 Axes>"
      ]
     },
     "metadata": {
      "needs_background": "light"
     },
     "output_type": "display_data"
    }
   ],
   "source": [
    "breeds_retweets = breeds['retweet_count'].mean()\n",
    "breeds_retweets = breeds_retweets.head(5)\n",
    "breeds_retweets.sort_values(ascending=True, inplace=True)\n",
    "plt.barh(breeds_retweets.index, breeds_retweets.values, color='C9')"
   ]
  },
  {
   "cell_type": "code",
   "execution_count": 129,
   "metadata": {},
   "outputs": [
    {
     "data": {
      "text/plain": [
       "0"
      ]
     },
     "execution_count": 129,
     "metadata": {},
     "output_type": "execute_result"
    }
   ],
   "source": [
    "from subprocess import call\n",
    "call(['python', '-m', 'nbconvert', 'act_report.ipynb'])"
   ]
  },
  {
   "cell_type": "code",
   "execution_count": null,
   "metadata": {},
   "outputs": [],
   "source": []
  }
 ],
 "metadata": {
  "kernelspec": {
   "display_name": "Python 3",
   "language": "python",
   "name": "python3"
  },
  "language_info": {
   "codemirror_mode": {
    "name": "ipython",
    "version": 3
   },
   "file_extension": ".py",
   "mimetype": "text/x-python",
   "name": "python",
   "nbconvert_exporter": "python",
   "pygments_lexer": "ipython3",
   "version": "3.7.2"
  }
 },
 "nbformat": 4,
 "nbformat_minor": 2
}
