{
 "cells": [
  {
   "cell_type": "markdown",
   "metadata": {},
   "source": [
    "# Wrangle and Analyze Data\n",
    "\n",
    "## Table of Contents\n",
    "- [Gather](#gather)\n",
    "- [Assess](#assess)\n",
    "- [Clean](#clean)"
   ]
  },
  {
   "cell_type": "code",
   "execution_count": 1,
   "metadata": {},
   "outputs": [],
   "source": [
    "import pandas as pd\n",
    "import numpy as np\n",
    "import requests\n",
    "import os\n",
    "import tweepy\n",
    "import json\n",
    "import config"
   ]
  },
  {
   "cell_type": "markdown",
   "metadata": {},
   "source": [
    "<a id='gather'></a>\n",
    "<h2 id=\"-Gather\" style=\"\n",
    "    background-color: #555;\n",
    "    color: #eee;\n",
    "    padding: 10px 5px;\n",
    "\">Gather</h2>"
   ]
  },
  {
   "cell_type": "code",
   "execution_count": 2,
   "metadata": {},
   "outputs": [],
   "source": [
    "df_twitter_archive_enhanced = pd.read_csv('twitter-archive-enhanced.csv')"
   ]
  },
  {
   "cell_type": "code",
   "execution_count": 3,
   "metadata": {},
   "outputs": [],
   "source": [
    "url = 'https://d17h27t6h515a5.cloudfront.net/topher/2017/August/599fd2ad_image-predictions/image-predictions.tsv'\n",
    "response = requests.get(url)\n",
    "\n",
    "with open(os.path.join(os.getcwd(),'image-predictions.tsv'), mode='wb') as file:\n",
    "    file.write(response.content)\n",
    "\n",
    "df_image_predictions = pd.read_csv('image-predictions.tsv', sep='\\t')"
   ]
  },
  {
   "cell_type": "code",
   "execution_count": 28,
   "metadata": {},
   "outputs": [],
   "source": [
    "auth = tweepy.OAuthHandler(config.consumer_key, config.consumer_secret)\n",
    "auth.set_access_token(config.access_token, config.access_secret)\n",
    "\n",
    "api = tweepy.API(auth, wait_on_rate_limit=True, wait_on_rate_limit_notify=True)"
   ]
  },
  {
   "cell_type": "code",
   "execution_count": 29,
   "metadata": {
    "scrolled": true
   },
   "outputs": [],
   "source": [
    "tweet_id_list = pd.concat( [df_image_predictions['tweet_id'], \n",
    "                          df_twitter_archive_enhanced['tweet_id']], ignore_index=True)\n",
    "\n",
    "tweet_id_list = tweet_id_list.drop_duplicates()"
   ]
  },
  {
   "cell_type": "code",
   "execution_count": 30,
   "metadata": {},
   "outputs": [],
   "source": [
    "# this function just to calculate the performance \n",
    "time_prv_step = time_step = None\n",
    "def performance(count,iterations):\n",
    "    progress = round((count/iterations)*100,2)\n",
    "    print('processing {}%'.format(progress), end='\\r')\n",
    "    if(count%round(iterations/10) == 0): \n",
    "        global time_prv_step\n",
    "        global time_step\n",
    "        \n",
    "        time_prv_step = pd.Timestamp.now() if count == 0 else time_step\n",
    "        time_step = pd.Timestamp.now()\n",
    "        \n",
    "        duration = (time_step - time_prv_step).total_seconds()\n",
    "        print('{} samples, during {}s'.format(count, round(duration,2) ))\n",
    "        time_start = time_step"
   ]
  },
  {
   "cell_type": "code",
   "execution_count": 31,
   "metadata": {
    "scrolled": false
   },
   "outputs": [
    {
     "name": "stdout",
     "output_type": "stream",
     "text": [
      "0 samples, during 0.0s\n",
      "236 samples, during 237.16s\n",
      "472 samples, during 216.98s\n",
      "680055455951884288: [{'code': 144, 'message': 'No status found with that ID.'}]\n",
      "708 samples, during 209.0s\n",
      "processing 38.2%%\r"
     ]
    },
    {
     "name": "stderr",
     "output_type": "stream",
     "text": [
      "Rate limit reached. Sleeping for: 77\n"
     ]
    },
    {
     "name": "stdout",
     "output_type": "stream",
     "text": [
      "944 samples, during 285.19s\n",
      "1180 samples, during 212.78s\n",
      "754011816964026368: [{'code': 144, 'message': 'No status found with that ID.'}]\n",
      "1416 samples, during 214.6s\n",
      "802247111496568832: [{'code': 144, 'message': 'No status found with that ID.'}]\n",
      "1652 samples, during 201.68s\n",
      "829374341691346946: [{'code': 144, 'message': 'No status found with that ID.'}]\n",
      "processing 76.4%%\r"
     ]
    },
    {
     "name": "stderr",
     "output_type": "stream",
     "text": [
      "Rate limit reached. Sleeping for: 102\n"
     ]
    },
    {
     "name": "stdout",
     "output_type": "stream",
     "text": [
      "837012587749474308: [{'code': 144, 'message': 'No status found with that ID.'}]\n",
      "837366284874571778: [{'code': 144, 'message': 'No status found with that ID.'}]\n",
      "842892208864923648: [{'code': 144, 'message': 'No status found with that ID.'}]\n",
      "844704788403113984: [{'code': 144, 'message': 'No status found with that ID.'}]\n",
      "1888 samples, during 319.52s\n",
      "851953902622658560: [{'code': 144, 'message': 'No status found with that ID.'}]\n",
      "861769973181624320: [{'code': 144, 'message': 'No status found with that ID.'}]\n",
      "872261713294495745: [{'code': 144, 'message': 'No status found with that ID.'}]\n",
      "873697596434513921: [{'code': 144, 'message': 'No status found with that ID.'}]\n",
      "888202515573088257: [{'code': 144, 'message': 'No status found with that ID.'}]\n",
      "872668790621863937: [{'code': 144, 'message': 'No status found with that ID.'}]\n",
      "869988702071779329: [{'code': 144, 'message': 'No status found with that ID.'}]\n",
      "866816280283807744: [{'code': 144, 'message': 'No status found with that ID.'}]\n",
      "856602993587888130: [{'code': 144, 'message': 'No status found with that ID.'}]\n",
      "845459076796616705: [{'code': 144, 'message': 'No status found with that ID.'}]\n",
      "2124 samples, during 257.93s\n",
      "827228250799742977: [{'code': 144, 'message': 'No status found with that ID.'}]\n",
      "812747805718642688: [{'code': 144, 'message': 'No status found with that ID.'}]\n",
      "775096608509886464: [{'code': 144, 'message': 'No status found with that ID.'}]\n",
      "770743923962707968: [{'code': 144, 'message': 'No status found with that ID.'}]\n",
      "processing 99.96%\r"
     ]
    }
   ],
   "source": [
    "df_tweets = []\n",
    "tweet_id_list_error = []\n",
    "iterations = tweet_id_list.shape[0]\n",
    "count = 0\n",
    "for tweet_id in tweet_id_list:\n",
    "    performance(count, iterations)\n",
    "    count += 1\n",
    "    try:\n",
    "        df_tweets.append(api.get_status(tweet_id)._json)\n",
    "    except Exception as e:\n",
    "        print(str(tweet_id) + \": \" + str(e))\n",
    "        tweet_id_list_error.append(tweet_id)"
   ]
  },
  {
   "cell_type": "code",
   "execution_count": 67,
   "metadata": {},
   "outputs": [],
   "source": [
    "df_tweets = pd.DataFrame(df_tweets)\n",
    "df_tweets.to_csv('tweets.csv', index=False)"
   ]
  },
  {
   "cell_type": "markdown",
   "metadata": {},
   "source": [
    "> There are 22 tweets that no longer exist."
   ]
  },
  {
   "cell_type": "markdown",
   "metadata": {},
   "source": [
    "<a id='assess'></a>\n",
    "<h2 id=\"-Gather\" style=\"\n",
    "    background-color: #555;\n",
    "    color: #eee;\n",
    "    padding: 10px 5px;\n",
    "\">Assess</h2>"
   ]
  },
  {
   "cell_type": "markdown",
   "metadata": {},
   "source": [
    "#### Quality\n",
    "##### `name` table\n",
    "- abc."
   ]
  },
  {
   "cell_type": "markdown",
   "metadata": {},
   "source": [
    "#### Tidiness\n",
    "- abc."
   ]
  },
  {
   "cell_type": "markdown",
   "metadata": {},
   "source": [
    "<a id='clean'></a>\n",
    "<h2 id=\"-Gather\" style=\"\n",
    "    background-color: #555;\n",
    "    color: #eee;\n",
    "    padding: 10px 5px;\n",
    "\">Clean</h2>"
   ]
  },
  {
   "cell_type": "code",
   "execution_count": null,
   "metadata": {},
   "outputs": [],
   "source": []
  }
 ],
 "metadata": {
  "kernelspec": {
   "display_name": "Python 3",
   "language": "python",
   "name": "python3"
  },
  "language_info": {
   "codemirror_mode": {
    "name": "ipython",
    "version": 3
   },
   "file_extension": ".py",
   "mimetype": "text/x-python",
   "name": "python",
   "nbconvert_exporter": "python",
   "pygments_lexer": "ipython3",
   "version": "3.7.2"
  }
 },
 "nbformat": 4,
 "nbformat_minor": 2
}
