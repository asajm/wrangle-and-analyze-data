{
 "cells": [
  {
   "cell_type": "markdown",
   "metadata": {},
   "source": [
    "# Wrangle and Analyze Data\n",
    "\n",
    "## Table of Contents\n",
    "- [Gather](#gather)\n",
    "- [Assess](#assess)\n",
    "- [Clean](#clean)"
   ]
  },
  {
   "cell_type": "code",
   "execution_count": 441,
   "metadata": {},
   "outputs": [],
   "source": [
    "import pandas as pd\n",
    "import numpy as np\n",
    "import requests\n",
    "import os\n",
    "import tweepy\n",
    "import json\n",
    "import config\n",
    "import matplotlib.pyplot as plt\n",
    "%matplotlib inline"
   ]
  },
  {
   "cell_type": "markdown",
   "metadata": {},
   "source": [
    "<a id='gather'></a>\n",
    "<h2 id=\"-Gather\" style=\"\n",
    "    background-color: #555;\n",
    "    color: #eee;\n",
    "    padding: 10px 5px;\n",
    "\">Gather</h2>"
   ]
  },
  {
   "cell_type": "code",
   "execution_count": 2,
   "metadata": {},
   "outputs": [],
   "source": [
    "df_twitter_archive_enhanced = pd.read_csv('twitter-archive-enhanced.csv')"
   ]
  },
  {
   "cell_type": "code",
   "execution_count": 3,
   "metadata": {},
   "outputs": [],
   "source": [
    "url = 'https://d17h27t6h515a5.cloudfront.net/topher/2017/August/599fd2ad_image-predictions/image-predictions.tsv'\n",
    "response = requests.get(url)\n",
    "\n",
    "with open(os.path.join(os.getcwd(),'image-predictions.tsv'), mode='wb') as file:\n",
    "    file.write(response.content)\n",
    "\n",
    "df_image_predictions = pd.read_csv('image-predictions.tsv', sep='\\t')"
   ]
  },
  {
   "cell_type": "code",
   "execution_count": 4,
   "metadata": {},
   "outputs": [],
   "source": [
    "auth = tweepy.OAuthHandler(config.consumer_key, config.consumer_secret)\n",
    "auth.set_access_token(config.access_token, config.access_secret)\n",
    "\n",
    "api = tweepy.API(auth, wait_on_rate_limit=True, wait_on_rate_limit_notify=True)"
   ]
  },
  {
   "cell_type": "code",
   "execution_count": 5,
   "metadata": {
    "scrolled": true
   },
   "outputs": [],
   "source": [
    "tweet_id_list = pd.concat( [df_image_predictions['tweet_id'], \n",
    "                          df_twitter_archive_enhanced['tweet_id']], ignore_index=True)\n",
    "\n",
    "tweet_id_list = tweet_id_list.drop_duplicates()"
   ]
  },
  {
   "cell_type": "code",
   "execution_count": 6,
   "metadata": {},
   "outputs": [],
   "source": [
    "# this function just to calculate the performance \n",
    "time_prv_step = time_step = None\n",
    "def performance(count,iterations):\n",
    "    progress = round((count/iterations)*100,2)\n",
    "    print('processing {}%'.format(progress), end='\\r')\n",
    "    if(count%round(iterations/10) == 0): \n",
    "        global time_prv_step\n",
    "        global time_step\n",
    "        \n",
    "        time_prv_step = pd.Timestamp.now() if count == 0 else time_step\n",
    "        time_step = pd.Timestamp.now()\n",
    "        \n",
    "        duration = (time_step - time_prv_step).total_seconds()\n",
    "        print('{} samples, during {}s'.format(count, round(duration,2) ))\n",
    "        time_start = time_step"
   ]
  },
  {
   "cell_type": "code",
   "execution_count": 31,
   "metadata": {
    "scrolled": false
   },
   "outputs": [
    {
     "name": "stdout",
     "output_type": "stream",
     "text": [
      "0 samples, during 0.0s\n",
      "236 samples, during 237.16s\n",
      "472 samples, during 216.98s\n",
      "680055455951884288: [{'code': 144, 'message': 'No status found with that ID.'}]\n",
      "708 samples, during 209.0s\n",
      "processing 38.2%%\r"
     ]
    },
    {
     "name": "stderr",
     "output_type": "stream",
     "text": [
      "Rate limit reached. Sleeping for: 77\n"
     ]
    },
    {
     "name": "stdout",
     "output_type": "stream",
     "text": [
      "944 samples, during 285.19s\n",
      "1180 samples, during 212.78s\n",
      "754011816964026368: [{'code': 144, 'message': 'No status found with that ID.'}]\n",
      "1416 samples, during 214.6s\n",
      "802247111496568832: [{'code': 144, 'message': 'No status found with that ID.'}]\n",
      "1652 samples, during 201.68s\n",
      "829374341691346946: [{'code': 144, 'message': 'No status found with that ID.'}]\n",
      "processing 76.4%%\r"
     ]
    },
    {
     "name": "stderr",
     "output_type": "stream",
     "text": [
      "Rate limit reached. Sleeping for: 102\n"
     ]
    },
    {
     "name": "stdout",
     "output_type": "stream",
     "text": [
      "837012587749474308: [{'code': 144, 'message': 'No status found with that ID.'}]\n",
      "837366284874571778: [{'code': 144, 'message': 'No status found with that ID.'}]\n",
      "842892208864923648: [{'code': 144, 'message': 'No status found with that ID.'}]\n",
      "844704788403113984: [{'code': 144, 'message': 'No status found with that ID.'}]\n",
      "1888 samples, during 319.52s\n",
      "851953902622658560: [{'code': 144, 'message': 'No status found with that ID.'}]\n",
      "861769973181624320: [{'code': 144, 'message': 'No status found with that ID.'}]\n",
      "872261713294495745: [{'code': 144, 'message': 'No status found with that ID.'}]\n",
      "873697596434513921: [{'code': 144, 'message': 'No status found with that ID.'}]\n",
      "888202515573088257: [{'code': 144, 'message': 'No status found with that ID.'}]\n",
      "872668790621863937: [{'code': 144, 'message': 'No status found with that ID.'}]\n",
      "869988702071779329: [{'code': 144, 'message': 'No status found with that ID.'}]\n",
      "866816280283807744: [{'code': 144, 'message': 'No status found with that ID.'}]\n",
      "856602993587888130: [{'code': 144, 'message': 'No status found with that ID.'}]\n",
      "845459076796616705: [{'code': 144, 'message': 'No status found with that ID.'}]\n",
      "2124 samples, during 257.93s\n",
      "827228250799742977: [{'code': 144, 'message': 'No status found with that ID.'}]\n",
      "812747805718642688: [{'code': 144, 'message': 'No status found with that ID.'}]\n",
      "775096608509886464: [{'code': 144, 'message': 'No status found with that ID.'}]\n",
      "770743923962707968: [{'code': 144, 'message': 'No status found with that ID.'}]\n",
      "processing 99.96%\r"
     ]
    }
   ],
   "source": [
    "tweets = []\n",
    "tweet_id_list_error = []\n",
    "iterations = tweet_id_list.shape[0]\n",
    "count = 0\n",
    "for tweet_id in tweet_id_list:\n",
    "    performance(count, iterations)\n",
    "    count += 1\n",
    "    try:\n",
    "        tweets.append(api.get_status(tweet_id)._json)\n",
    "    except Exception as e:\n",
    "        print(str(tweet_id) + \": \" + str(e))\n",
    "        tweet_id_list_error.append(tweet_id)\n",
    "\n",
    "df_tweets = pd.DataFrame(df_tweets)\n",
    "df_tweets.to_csv('tweets.csv', index=False)"
   ]
  },
  {
   "cell_type": "code",
   "execution_count": 9,
   "metadata": {},
   "outputs": [],
   "source": [
    "df_tweets = pd.read_csv('tweets.csv')"
   ]
  },
  {
   "cell_type": "markdown",
   "metadata": {},
   "source": [
    "> There are 22 tweets that no longer exist."
   ]
  },
  {
   "cell_type": "markdown",
   "metadata": {},
   "source": [
    "<a id='assess'></a>\n",
    "<h2 id=\"-Gather\" style=\"\n",
    "    background-color: #555;\n",
    "    color: #eee;\n",
    "    padding: 10px 5px;\n",
    "\">Assess</h2>"
   ]
  },
  {
   "cell_type": "markdown",
   "metadata": {},
   "source": [
    "<h3 id=\"-Gather\" style=\"\n",
    "    background-color: #bbb;\n",
    "    color: #fff;\n",
    "    padding: 10px 5px;\n",
    "\">twitter_archive_enhanced table</h3>"
   ]
  },
  {
   "cell_type": "code",
   "execution_count": 11,
   "metadata": {
    "scrolled": true
   },
   "outputs": [
    {
     "data": {
      "text/html": [
       "<div>\n",
       "<style scoped>\n",
       "    .dataframe tbody tr th:only-of-type {\n",
       "        vertical-align: middle;\n",
       "    }\n",
       "\n",
       "    .dataframe tbody tr th {\n",
       "        vertical-align: top;\n",
       "    }\n",
       "\n",
       "    .dataframe thead th {\n",
       "        text-align: right;\n",
       "    }\n",
       "</style>\n",
       "<table border=\"1\" class=\"dataframe\">\n",
       "  <thead>\n",
       "    <tr style=\"text-align: right;\">\n",
       "      <th></th>\n",
       "      <th>tweet_id</th>\n",
       "      <th>in_reply_to_status_id</th>\n",
       "      <th>in_reply_to_user_id</th>\n",
       "      <th>timestamp</th>\n",
       "      <th>source</th>\n",
       "      <th>text</th>\n",
       "      <th>retweeted_status_id</th>\n",
       "      <th>retweeted_status_user_id</th>\n",
       "      <th>retweeted_status_timestamp</th>\n",
       "      <th>expanded_urls</th>\n",
       "      <th>rating_numerator</th>\n",
       "      <th>rating_denominator</th>\n",
       "      <th>name</th>\n",
       "      <th>doggo</th>\n",
       "      <th>floofer</th>\n",
       "      <th>pupper</th>\n",
       "      <th>puppo</th>\n",
       "    </tr>\n",
       "  </thead>\n",
       "  <tbody>\n",
       "    <tr>\n",
       "      <th>204</th>\n",
       "      <td>852936405516943360</td>\n",
       "      <td>NaN</td>\n",
       "      <td>NaN</td>\n",
       "      <td>2017-04-14 17:27:40 +0000</td>\n",
       "      <td>&lt;a href=\"http://twitter.com/download/iphone\" r...</td>\n",
       "      <td>RT @dog_rates: I usually only share these on F...</td>\n",
       "      <td>8.316501e+17</td>\n",
       "      <td>4.196984e+09</td>\n",
       "      <td>2017-02-14 23:43:18 +0000</td>\n",
       "      <td>http://www.gofundme.com/bluethewhitehusky,http...</td>\n",
       "      <td>13</td>\n",
       "      <td>10</td>\n",
       "      <td>None</td>\n",
       "      <td>None</td>\n",
       "      <td>None</td>\n",
       "      <td>None</td>\n",
       "      <td>None</td>\n",
       "    </tr>\n",
       "    <tr>\n",
       "      <th>2105</th>\n",
       "      <td>670474236058800128</td>\n",
       "      <td>NaN</td>\n",
       "      <td>NaN</td>\n",
       "      <td>2015-11-28 05:28:09 +0000</td>\n",
       "      <td>&lt;a href=\"http://twitter.com/download/iphone\" r...</td>\n",
       "      <td>Honor to rate this dog. Great teeth. Nice horn...</td>\n",
       "      <td>NaN</td>\n",
       "      <td>NaN</td>\n",
       "      <td>NaN</td>\n",
       "      <td>https://twitter.com/dog_rates/status/670474236...</td>\n",
       "      <td>10</td>\n",
       "      <td>10</td>\n",
       "      <td>None</td>\n",
       "      <td>None</td>\n",
       "      <td>None</td>\n",
       "      <td>None</td>\n",
       "      <td>None</td>\n",
       "    </tr>\n",
       "    <tr>\n",
       "      <th>2212</th>\n",
       "      <td>668587383441514497</td>\n",
       "      <td>NaN</td>\n",
       "      <td>NaN</td>\n",
       "      <td>2015-11-23 00:30:28 +0000</td>\n",
       "      <td>&lt;a href=\"http://vine.co\" rel=\"nofollow\"&gt;Vine -...</td>\n",
       "      <td>Never forget this vine. You will not stop watc...</td>\n",
       "      <td>NaN</td>\n",
       "      <td>NaN</td>\n",
       "      <td>NaN</td>\n",
       "      <td>https://vine.co/v/ea0OwvPTx9l</td>\n",
       "      <td>13</td>\n",
       "      <td>10</td>\n",
       "      <td>the</td>\n",
       "      <td>None</td>\n",
       "      <td>None</td>\n",
       "      <td>None</td>\n",
       "      <td>None</td>\n",
       "    </tr>\n",
       "    <tr>\n",
       "      <th>2009</th>\n",
       "      <td>672254177670729728</td>\n",
       "      <td>NaN</td>\n",
       "      <td>NaN</td>\n",
       "      <td>2015-12-03 03:21:00 +0000</td>\n",
       "      <td>&lt;a href=\"http://twitter.com/download/iphone\" r...</td>\n",
       "      <td>This is Rolf. He's having the time of his life...</td>\n",
       "      <td>NaN</td>\n",
       "      <td>NaN</td>\n",
       "      <td>NaN</td>\n",
       "      <td>https://twitter.com/dog_rates/status/672254177...</td>\n",
       "      <td>11</td>\n",
       "      <td>10</td>\n",
       "      <td>Rolf</td>\n",
       "      <td>None</td>\n",
       "      <td>None</td>\n",
       "      <td>pupper</td>\n",
       "      <td>None</td>\n",
       "    </tr>\n",
       "    <tr>\n",
       "      <th>2198</th>\n",
       "      <td>668815180734689280</td>\n",
       "      <td>NaN</td>\n",
       "      <td>NaN</td>\n",
       "      <td>2015-11-23 15:35:39 +0000</td>\n",
       "      <td>&lt;a href=\"http://twitter.com/download/iphone\" r...</td>\n",
       "      <td>This is a wild Toblerone from Papua New Guinea...</td>\n",
       "      <td>NaN</td>\n",
       "      <td>NaN</td>\n",
       "      <td>NaN</td>\n",
       "      <td>https://twitter.com/dog_rates/status/668815180...</td>\n",
       "      <td>7</td>\n",
       "      <td>10</td>\n",
       "      <td>a</td>\n",
       "      <td>None</td>\n",
       "      <td>None</td>\n",
       "      <td>None</td>\n",
       "      <td>None</td>\n",
       "    </tr>\n",
       "    <tr>\n",
       "      <th>917</th>\n",
       "      <td>756939218950160384</td>\n",
       "      <td>NaN</td>\n",
       "      <td>NaN</td>\n",
       "      <td>2016-07-23 19:49:07 +0000</td>\n",
       "      <td>&lt;a href=\"http://twitter.com/download/iphone\" r...</td>\n",
       "      <td>This is Jax. He is a majestic mountain pupper....</td>\n",
       "      <td>NaN</td>\n",
       "      <td>NaN</td>\n",
       "      <td>NaN</td>\n",
       "      <td>https://twitter.com/dog_rates/status/756939218...</td>\n",
       "      <td>12</td>\n",
       "      <td>10</td>\n",
       "      <td>Jax</td>\n",
       "      <td>None</td>\n",
       "      <td>None</td>\n",
       "      <td>pupper</td>\n",
       "      <td>None</td>\n",
       "    </tr>\n",
       "    <tr>\n",
       "      <th>713</th>\n",
       "      <td>784183165795655680</td>\n",
       "      <td>NaN</td>\n",
       "      <td>NaN</td>\n",
       "      <td>2016-10-07 00:06:50 +0000</td>\n",
       "      <td>&lt;a href=\"http://vine.co\" rel=\"nofollow\"&gt;Vine -...</td>\n",
       "      <td>This is Reginald. He's one magical puppo. Aero...</td>\n",
       "      <td>NaN</td>\n",
       "      <td>NaN</td>\n",
       "      <td>NaN</td>\n",
       "      <td>https://vine.co/v/5ghHLBMMdlV</td>\n",
       "      <td>12</td>\n",
       "      <td>10</td>\n",
       "      <td>Reginald</td>\n",
       "      <td>None</td>\n",
       "      <td>None</td>\n",
       "      <td>None</td>\n",
       "      <td>puppo</td>\n",
       "    </tr>\n",
       "    <tr>\n",
       "      <th>289</th>\n",
       "      <td>838201503651401729</td>\n",
       "      <td>NaN</td>\n",
       "      <td>NaN</td>\n",
       "      <td>2017-03-05 01:36:26 +0000</td>\n",
       "      <td>&lt;a href=\"http://twitter.com/download/iphone\" r...</td>\n",
       "      <td>RT @dog_rates: Meet Sunny. He can take down a ...</td>\n",
       "      <td>8.207497e+17</td>\n",
       "      <td>4.196984e+09</td>\n",
       "      <td>2017-01-15 21:49:15 +0000</td>\n",
       "      <td>https://twitter.com/dog_rates/status/820749716...</td>\n",
       "      <td>13</td>\n",
       "      <td>10</td>\n",
       "      <td>Sunny</td>\n",
       "      <td>None</td>\n",
       "      <td>None</td>\n",
       "      <td>None</td>\n",
       "      <td>None</td>\n",
       "    </tr>\n",
       "    <tr>\n",
       "      <th>523</th>\n",
       "      <td>809448704142938112</td>\n",
       "      <td>NaN</td>\n",
       "      <td>NaN</td>\n",
       "      <td>2016-12-15 17:23:04 +0000</td>\n",
       "      <td>&lt;a href=\"http://twitter.com/download/iphone\" r...</td>\n",
       "      <td>I call this one \"A Blep by the Sea\" 12/10 http...</td>\n",
       "      <td>NaN</td>\n",
       "      <td>NaN</td>\n",
       "      <td>NaN</td>\n",
       "      <td>https://twitter.com/dog_rates/status/809448704...</td>\n",
       "      <td>12</td>\n",
       "      <td>10</td>\n",
       "      <td>None</td>\n",
       "      <td>None</td>\n",
       "      <td>None</td>\n",
       "      <td>None</td>\n",
       "      <td>None</td>\n",
       "    </tr>\n",
       "    <tr>\n",
       "      <th>1039</th>\n",
       "      <td>744234799360020481</td>\n",
       "      <td>NaN</td>\n",
       "      <td>NaN</td>\n",
       "      <td>2016-06-18 18:26:18 +0000</td>\n",
       "      <td>&lt;a href=\"http://twitter.com/download/iphone\" r...</td>\n",
       "      <td>Here's a doggo realizing you can stand in a po...</td>\n",
       "      <td>NaN</td>\n",
       "      <td>NaN</td>\n",
       "      <td>NaN</td>\n",
       "      <td>https://twitter.com/dog_rates/status/744234799...</td>\n",
       "      <td>13</td>\n",
       "      <td>10</td>\n",
       "      <td>None</td>\n",
       "      <td>doggo</td>\n",
       "      <td>None</td>\n",
       "      <td>None</td>\n",
       "      <td>None</td>\n",
       "    </tr>\n",
       "  </tbody>\n",
       "</table>\n",
       "</div>"
      ],
      "text/plain": [
       "                tweet_id  in_reply_to_status_id  in_reply_to_user_id  \\\n",
       "204   852936405516943360                    NaN                  NaN   \n",
       "2105  670474236058800128                    NaN                  NaN   \n",
       "2212  668587383441514497                    NaN                  NaN   \n",
       "2009  672254177670729728                    NaN                  NaN   \n",
       "2198  668815180734689280                    NaN                  NaN   \n",
       "917   756939218950160384                    NaN                  NaN   \n",
       "713   784183165795655680                    NaN                  NaN   \n",
       "289   838201503651401729                    NaN                  NaN   \n",
       "523   809448704142938112                    NaN                  NaN   \n",
       "1039  744234799360020481                    NaN                  NaN   \n",
       "\n",
       "                      timestamp  \\\n",
       "204   2017-04-14 17:27:40 +0000   \n",
       "2105  2015-11-28 05:28:09 +0000   \n",
       "2212  2015-11-23 00:30:28 +0000   \n",
       "2009  2015-12-03 03:21:00 +0000   \n",
       "2198  2015-11-23 15:35:39 +0000   \n",
       "917   2016-07-23 19:49:07 +0000   \n",
       "713   2016-10-07 00:06:50 +0000   \n",
       "289   2017-03-05 01:36:26 +0000   \n",
       "523   2016-12-15 17:23:04 +0000   \n",
       "1039  2016-06-18 18:26:18 +0000   \n",
       "\n",
       "                                                 source  \\\n",
       "204   <a href=\"http://twitter.com/download/iphone\" r...   \n",
       "2105  <a href=\"http://twitter.com/download/iphone\" r...   \n",
       "2212  <a href=\"http://vine.co\" rel=\"nofollow\">Vine -...   \n",
       "2009  <a href=\"http://twitter.com/download/iphone\" r...   \n",
       "2198  <a href=\"http://twitter.com/download/iphone\" r...   \n",
       "917   <a href=\"http://twitter.com/download/iphone\" r...   \n",
       "713   <a href=\"http://vine.co\" rel=\"nofollow\">Vine -...   \n",
       "289   <a href=\"http://twitter.com/download/iphone\" r...   \n",
       "523   <a href=\"http://twitter.com/download/iphone\" r...   \n",
       "1039  <a href=\"http://twitter.com/download/iphone\" r...   \n",
       "\n",
       "                                                   text  retweeted_status_id  \\\n",
       "204   RT @dog_rates: I usually only share these on F...         8.316501e+17   \n",
       "2105  Honor to rate this dog. Great teeth. Nice horn...                  NaN   \n",
       "2212  Never forget this vine. You will not stop watc...                  NaN   \n",
       "2009  This is Rolf. He's having the time of his life...                  NaN   \n",
       "2198  This is a wild Toblerone from Papua New Guinea...                  NaN   \n",
       "917   This is Jax. He is a majestic mountain pupper....                  NaN   \n",
       "713   This is Reginald. He's one magical puppo. Aero...                  NaN   \n",
       "289   RT @dog_rates: Meet Sunny. He can take down a ...         8.207497e+17   \n",
       "523   I call this one \"A Blep by the Sea\" 12/10 http...                  NaN   \n",
       "1039  Here's a doggo realizing you can stand in a po...                  NaN   \n",
       "\n",
       "      retweeted_status_user_id retweeted_status_timestamp  \\\n",
       "204               4.196984e+09  2017-02-14 23:43:18 +0000   \n",
       "2105                       NaN                        NaN   \n",
       "2212                       NaN                        NaN   \n",
       "2009                       NaN                        NaN   \n",
       "2198                       NaN                        NaN   \n",
       "917                        NaN                        NaN   \n",
       "713                        NaN                        NaN   \n",
       "289               4.196984e+09  2017-01-15 21:49:15 +0000   \n",
       "523                        NaN                        NaN   \n",
       "1039                       NaN                        NaN   \n",
       "\n",
       "                                          expanded_urls  rating_numerator  \\\n",
       "204   http://www.gofundme.com/bluethewhitehusky,http...                13   \n",
       "2105  https://twitter.com/dog_rates/status/670474236...                10   \n",
       "2212                      https://vine.co/v/ea0OwvPTx9l                13   \n",
       "2009  https://twitter.com/dog_rates/status/672254177...                11   \n",
       "2198  https://twitter.com/dog_rates/status/668815180...                 7   \n",
       "917   https://twitter.com/dog_rates/status/756939218...                12   \n",
       "713                       https://vine.co/v/5ghHLBMMdlV                12   \n",
       "289   https://twitter.com/dog_rates/status/820749716...                13   \n",
       "523   https://twitter.com/dog_rates/status/809448704...                12   \n",
       "1039  https://twitter.com/dog_rates/status/744234799...                13   \n",
       "\n",
       "      rating_denominator      name  doggo floofer  pupper  puppo  \n",
       "204                   10      None   None    None    None   None  \n",
       "2105                  10      None   None    None    None   None  \n",
       "2212                  10       the   None    None    None   None  \n",
       "2009                  10      Rolf   None    None  pupper   None  \n",
       "2198                  10         a   None    None    None   None  \n",
       "917                   10       Jax   None    None  pupper   None  \n",
       "713                   10  Reginald   None    None    None  puppo  \n",
       "289                   10     Sunny   None    None    None   None  \n",
       "523                   10      None   None    None    None   None  \n",
       "1039                  10      None  doggo    None    None   None  "
      ]
     },
     "execution_count": 11,
     "metadata": {},
     "output_type": "execute_result"
    }
   ],
   "source": [
    "df_twitter_archive_enhanced.sample(10)"
   ]
  },
  {
   "cell_type": "code",
   "execution_count": 55,
   "metadata": {
    "scrolled": false
   },
   "outputs": [
    {
     "name": "stdout",
     "output_type": "stream",
     "text": [
      "<class 'pandas.core.frame.DataFrame'>\n",
      "RangeIndex: 2356 entries, 0 to 2355\n",
      "Data columns (total 17 columns):\n",
      "tweet_id                      2356 non-null int64\n",
      "in_reply_to_status_id         78 non-null float64\n",
      "in_reply_to_user_id           78 non-null float64\n",
      "timestamp                     2356 non-null object\n",
      "source                        2356 non-null object\n",
      "text                          2356 non-null object\n",
      "retweeted_status_id           181 non-null float64\n",
      "retweeted_status_user_id      181 non-null float64\n",
      "retweeted_status_timestamp    181 non-null object\n",
      "expanded_urls                 2297 non-null object\n",
      "rating_numerator              2356 non-null int64\n",
      "rating_denominator            2356 non-null int64\n",
      "name                          2356 non-null object\n",
      "doggo                         2356 non-null object\n",
      "floofer                       2356 non-null object\n",
      "pupper                        2356 non-null object\n",
      "puppo                         2356 non-null object\n",
      "dtypes: float64(4), int64(3), object(10)\n",
      "memory usage: 313.0+ KB\n"
     ]
    }
   ],
   "source": [
    "df_twitter_archive_enhanced.info()"
   ]
  },
  {
   "cell_type": "code",
   "execution_count": 57,
   "metadata": {},
   "outputs": [
    {
     "data": {
      "text/html": [
       "<div>\n",
       "<style scoped>\n",
       "    .dataframe tbody tr th:only-of-type {\n",
       "        vertical-align: middle;\n",
       "    }\n",
       "\n",
       "    .dataframe tbody tr th {\n",
       "        vertical-align: top;\n",
       "    }\n",
       "\n",
       "    .dataframe thead th {\n",
       "        text-align: right;\n",
       "    }\n",
       "</style>\n",
       "<table border=\"1\" class=\"dataframe\">\n",
       "  <thead>\n",
       "    <tr style=\"text-align: right;\">\n",
       "      <th></th>\n",
       "      <th>tweet_id</th>\n",
       "      <th>in_reply_to_status_id</th>\n",
       "      <th>in_reply_to_user_id</th>\n",
       "      <th>retweeted_status_id</th>\n",
       "      <th>retweeted_status_user_id</th>\n",
       "      <th>rating_numerator</th>\n",
       "      <th>rating_denominator</th>\n",
       "    </tr>\n",
       "  </thead>\n",
       "  <tbody>\n",
       "    <tr>\n",
       "      <th>count</th>\n",
       "      <td>2.356000e+03</td>\n",
       "      <td>7.800000e+01</td>\n",
       "      <td>7.800000e+01</td>\n",
       "      <td>1.810000e+02</td>\n",
       "      <td>1.810000e+02</td>\n",
       "      <td>2356.000000</td>\n",
       "      <td>2356.000000</td>\n",
       "    </tr>\n",
       "    <tr>\n",
       "      <th>mean</th>\n",
       "      <td>7.427716e+17</td>\n",
       "      <td>7.455079e+17</td>\n",
       "      <td>2.014171e+16</td>\n",
       "      <td>7.720400e+17</td>\n",
       "      <td>1.241698e+16</td>\n",
       "      <td>13.126486</td>\n",
       "      <td>10.455433</td>\n",
       "    </tr>\n",
       "    <tr>\n",
       "      <th>std</th>\n",
       "      <td>6.856705e+16</td>\n",
       "      <td>7.582492e+16</td>\n",
       "      <td>1.252797e+17</td>\n",
       "      <td>6.236928e+16</td>\n",
       "      <td>9.599254e+16</td>\n",
       "      <td>45.876648</td>\n",
       "      <td>6.745237</td>\n",
       "    </tr>\n",
       "    <tr>\n",
       "      <th>min</th>\n",
       "      <td>6.660209e+17</td>\n",
       "      <td>6.658147e+17</td>\n",
       "      <td>1.185634e+07</td>\n",
       "      <td>6.661041e+17</td>\n",
       "      <td>7.832140e+05</td>\n",
       "      <td>0.000000</td>\n",
       "      <td>0.000000</td>\n",
       "    </tr>\n",
       "    <tr>\n",
       "      <th>25%</th>\n",
       "      <td>6.783989e+17</td>\n",
       "      <td>6.757419e+17</td>\n",
       "      <td>3.086374e+08</td>\n",
       "      <td>7.186315e+17</td>\n",
       "      <td>4.196984e+09</td>\n",
       "      <td>10.000000</td>\n",
       "      <td>10.000000</td>\n",
       "    </tr>\n",
       "    <tr>\n",
       "      <th>50%</th>\n",
       "      <td>7.196279e+17</td>\n",
       "      <td>7.038708e+17</td>\n",
       "      <td>4.196984e+09</td>\n",
       "      <td>7.804657e+17</td>\n",
       "      <td>4.196984e+09</td>\n",
       "      <td>11.000000</td>\n",
       "      <td>10.000000</td>\n",
       "    </tr>\n",
       "    <tr>\n",
       "      <th>75%</th>\n",
       "      <td>7.993373e+17</td>\n",
       "      <td>8.257804e+17</td>\n",
       "      <td>4.196984e+09</td>\n",
       "      <td>8.203146e+17</td>\n",
       "      <td>4.196984e+09</td>\n",
       "      <td>12.000000</td>\n",
       "      <td>10.000000</td>\n",
       "    </tr>\n",
       "    <tr>\n",
       "      <th>max</th>\n",
       "      <td>8.924206e+17</td>\n",
       "      <td>8.862664e+17</td>\n",
       "      <td>8.405479e+17</td>\n",
       "      <td>8.874740e+17</td>\n",
       "      <td>7.874618e+17</td>\n",
       "      <td>1776.000000</td>\n",
       "      <td>170.000000</td>\n",
       "    </tr>\n",
       "  </tbody>\n",
       "</table>\n",
       "</div>"
      ],
      "text/plain": [
       "           tweet_id  in_reply_to_status_id  in_reply_to_user_id  \\\n",
       "count  2.356000e+03           7.800000e+01         7.800000e+01   \n",
       "mean   7.427716e+17           7.455079e+17         2.014171e+16   \n",
       "std    6.856705e+16           7.582492e+16         1.252797e+17   \n",
       "min    6.660209e+17           6.658147e+17         1.185634e+07   \n",
       "25%    6.783989e+17           6.757419e+17         3.086374e+08   \n",
       "50%    7.196279e+17           7.038708e+17         4.196984e+09   \n",
       "75%    7.993373e+17           8.257804e+17         4.196984e+09   \n",
       "max    8.924206e+17           8.862664e+17         8.405479e+17   \n",
       "\n",
       "       retweeted_status_id  retweeted_status_user_id  rating_numerator  \\\n",
       "count         1.810000e+02              1.810000e+02       2356.000000   \n",
       "mean          7.720400e+17              1.241698e+16         13.126486   \n",
       "std           6.236928e+16              9.599254e+16         45.876648   \n",
       "min           6.661041e+17              7.832140e+05          0.000000   \n",
       "25%           7.186315e+17              4.196984e+09         10.000000   \n",
       "50%           7.804657e+17              4.196984e+09         11.000000   \n",
       "75%           8.203146e+17              4.196984e+09         12.000000   \n",
       "max           8.874740e+17              7.874618e+17       1776.000000   \n",
       "\n",
       "       rating_denominator  \n",
       "count         2356.000000  \n",
       "mean            10.455433  \n",
       "std              6.745237  \n",
       "min              0.000000  \n",
       "25%             10.000000  \n",
       "50%             10.000000  \n",
       "75%             10.000000  \n",
       "max            170.000000  "
      ]
     },
     "execution_count": 57,
     "metadata": {},
     "output_type": "execute_result"
    }
   ],
   "source": [
    "df_twitter_archive_enhanced.describe()"
   ]
  },
  {
   "cell_type": "code",
   "execution_count": 25,
   "metadata": {
    "scrolled": false
   },
   "outputs": [
    {
     "name": "stdout",
     "output_type": "stream",
     "text": [
      "2356 \t tweet_id\n",
      "77 \t in_reply_to_status_id\n",
      "31 \t in_reply_to_user_id\n",
      "2356 \t timestamp\n",
      "4 \t source\n",
      "2356 \t text\n",
      "181 \t retweeted_status_id\n",
      "25 \t retweeted_status_user_id\n",
      "181 \t retweeted_status_timestamp\n",
      "2218 \t expanded_urls\n",
      "40 \t rating_numerator\n",
      "18 \t rating_denominator\n",
      "957 \t name\n",
      "2 \t doggo\n",
      "2 \t floofer\n",
      "2 \t pupper\n",
      "2 \t puppo\n"
     ]
    }
   ],
   "source": [
    "for col in df_twitter_archive_enhanced.columns:\n",
    "    print(df_twitter_archive_enhanced[col].value_counts().count(), '\\t', col)"
   ]
  },
  {
   "cell_type": "code",
   "execution_count": 50,
   "metadata": {
    "scrolled": false
   },
   "outputs": [
    {
     "data": {
      "text/plain": [
       "10     2333\n",
       "11        3\n",
       "50        3\n",
       "80        2\n",
       "20        2\n",
       "2         1\n",
       "16        1\n",
       "40        1\n",
       "70        1\n",
       "15        1\n",
       "90        1\n",
       "110       1\n",
       "120       1\n",
       "130       1\n",
       "150       1\n",
       "170       1\n",
       "7         1\n",
       "0         1\n",
       "Name: rating_denominator, dtype: int64"
      ]
     },
     "execution_count": 50,
     "metadata": {},
     "output_type": "execute_result"
    }
   ],
   "source": [
    "df_twitter_archive_enhanced.rating_denominator.value_counts()"
   ]
  },
  {
   "cell_type": "code",
   "execution_count": 452,
   "metadata": {
    "scrolled": true
   },
   "outputs": [
    {
     "data": {
      "text/plain": [
       "<matplotlib.axes._subplots.AxesSubplot at 0x12aa41e10>"
      ]
     },
     "execution_count": 452,
     "metadata": {},
     "output_type": "execute_result"
    },
    {
     "data": {
      "image/png": "[encoded data removed]",
      "text/plain": [
       "<Figure size 432x288 with 1 Axes>"
      ]
     },
     "metadata": {
      "needs_background": "light"
     },
     "output_type": "display_data"
    }
   ],
   "source": [
    "df_twitter_archive_enhanced[df_twitter_archive_enhanced.rating_numerator < 50].rating_numerator.hist()"
   ]
  },
  {
   "cell_type": "code",
   "execution_count": 135,
   "metadata": {
    "scrolled": true
   },
   "outputs": [
    {
     "data": {
      "text/plain": [
       "True    2356\n",
       "Name: text, dtype: int64"
      ]
     },
     "execution_count": 135,
     "metadata": {},
     "output_type": "execute_result"
    }
   ],
   "source": [
    "df_twitter_archive_enhanced.text.str.contains(r'\\d+\\/\\d+').value_counts()"
   ]
  },
  {
   "cell_type": "code",
   "execution_count": 134,
   "metadata": {
    "scrolled": true
   },
   "outputs": [
    {
     "data": {
      "text/plain": [
       "12/10      558\n",
       "11/10      463\n",
       "10/10      461\n",
       "13/10      351\n",
       "9/10       156\n",
       "8/10       102\n",
       "14/10       54\n",
       "7/10        53\n",
       "5/10        37\n",
       "6/10        32\n",
       "3/10        19\n",
       "4/10        15\n",
       "2/10         9\n",
       "1/10         8\n",
       "4/20         2\n",
       "9/11         2\n",
       "75/10        2\n",
       "420/10       2\n",
       "15/10        2\n",
       "0/10         2\n",
       "45/50        1\n",
       "144/120      1\n",
       "17/10        1\n",
       "666/10       1\n",
       "7/11         1\n",
       "60/50        1\n",
       "1776/10      1\n",
       "84/70        1\n",
       "88/80        1\n",
       "143/130      1\n",
       "121/110      1\n",
       "182/10       1\n",
       "11/15        1\n",
       "20/16        1\n",
       "50/50        1\n",
       "204/170      1\n",
       "99/90        1\n",
       "1/2          1\n",
       "26/10        1\n",
       "007/10       1\n",
       "960/00       1\n",
       "165/150      1\n",
       "27/10        1\n",
       "80/80        1\n",
       "44/40        1\n",
       "24/7         1\n",
       "Name: text, dtype: int64"
      ]
     },
     "execution_count": 134,
     "metadata": {},
     "output_type": "execute_result"
    }
   ],
   "source": [
    "df_twitter_archive_enhanced.text.str.extract(r'(?P<text>\\d+\\/\\d+)').text.value_counts()"
   ]
  },
  {
   "cell_type": "code",
   "execution_count": 144,
   "metadata": {},
   "outputs": [
    {
     "data": {
      "text/plain": [
       "156"
      ]
     },
     "execution_count": 144,
     "metadata": {},
     "output_type": "execute_result"
    }
   ],
   "source": [
    "# retweets in tweets\n",
    "df_twitter_archive_enhanced[\n",
    "    df_twitter_archive_enhanced.retweeted_status_id.isin(df_twitter_archive_enhanced.tweet_id)\n",
    "].shape[0]\n"
   ]
  },
  {
   "cell_type": "code",
   "execution_count": 145,
   "metadata": {},
   "outputs": [
    {
     "data": {
      "text/plain": [
       "44"
      ]
     },
     "execution_count": 145,
     "metadata": {},
     "output_type": "execute_result"
    }
   ],
   "source": [
    "# replies in tweets\n",
    "df_twitter_archive_enhanced[\n",
    "    df_twitter_archive_enhanced.in_reply_to_status_id.isin(df_twitter_archive_enhanced.tweet_id)\n",
    "].shape[0]"
   ]
  },
  {
   "cell_type": "markdown",
   "metadata": {},
   "source": [
    "<h3 id=\"-Gather\" style=\"\n",
    "    background-color: #bbb;\n",
    "    color: #fff;\n",
    "    padding: 10px 5px;\n",
    "\">image_predictions table</h3>"
   ]
  },
  {
   "cell_type": "code",
   "execution_count": 54,
   "metadata": {
    "scrolled": false
   },
   "outputs": [
    {
     "data": {
      "text/html": [
       "<div>\n",
       "<style scoped>\n",
       "    .dataframe tbody tr th:only-of-type {\n",
       "        vertical-align: middle;\n",
       "    }\n",
       "\n",
       "    .dataframe tbody tr th {\n",
       "        vertical-align: top;\n",
       "    }\n",
       "\n",
       "    .dataframe thead th {\n",
       "        text-align: right;\n",
       "    }\n",
       "</style>\n",
       "<table border=\"1\" class=\"dataframe\">\n",
       "  <thead>\n",
       "    <tr style=\"text-align: right;\">\n",
       "      <th></th>\n",
       "      <th>tweet_id</th>\n",
       "      <th>jpg_url</th>\n",
       "      <th>img_num</th>\n",
       "      <th>p1</th>\n",
       "      <th>p1_conf</th>\n",
       "      <th>p1_dog</th>\n",
       "      <th>p2</th>\n",
       "      <th>p2_conf</th>\n",
       "      <th>p2_dog</th>\n",
       "      <th>p3</th>\n",
       "      <th>p3_conf</th>\n",
       "      <th>p3_dog</th>\n",
       "    </tr>\n",
       "  </thead>\n",
       "  <tbody>\n",
       "    <tr>\n",
       "      <th>972</th>\n",
       "      <td>706644897839910912</td>\n",
       "      <td>https://pbs.twimg.com/ext_tw_video_thumb/70664...</td>\n",
       "      <td>1</td>\n",
       "      <td>space_heater</td>\n",
       "      <td>0.137871</td>\n",
       "      <td>False</td>\n",
       "      <td>Chihuahua</td>\n",
       "      <td>0.132928</td>\n",
       "      <td>True</td>\n",
       "      <td>cougar</td>\n",
       "      <td>0.113866</td>\n",
       "      <td>False</td>\n",
       "    </tr>\n",
       "    <tr>\n",
       "      <th>1397</th>\n",
       "      <td>768193404517830656</td>\n",
       "      <td>https://pbs.twimg.com/media/Cqkr0wiW8AAn2Oi.jpg</td>\n",
       "      <td>1</td>\n",
       "      <td>lion</td>\n",
       "      <td>0.396984</td>\n",
       "      <td>False</td>\n",
       "      <td>ram</td>\n",
       "      <td>0.300851</td>\n",
       "      <td>False</td>\n",
       "      <td>cheetah</td>\n",
       "      <td>0.094474</td>\n",
       "      <td>False</td>\n",
       "    </tr>\n",
       "    <tr>\n",
       "      <th>1189</th>\n",
       "      <td>739606147276148736</td>\n",
       "      <td>https://pbs.twimg.com/media/CkOb3FXW0AAUL_U.jpg</td>\n",
       "      <td>3</td>\n",
       "      <td>Blenheim_spaniel</td>\n",
       "      <td>0.933755</td>\n",
       "      <td>True</td>\n",
       "      <td>cocker_spaniel</td>\n",
       "      <td>0.041719</td>\n",
       "      <td>True</td>\n",
       "      <td>Brittany_spaniel</td>\n",
       "      <td>0.006713</td>\n",
       "      <td>True</td>\n",
       "    </tr>\n",
       "    <tr>\n",
       "      <th>1572</th>\n",
       "      <td>795076730285391872</td>\n",
       "      <td>https://pbs.twimg.com/media/CwiuEJmW8AAZnit.jpg</td>\n",
       "      <td>2</td>\n",
       "      <td>gas_pump</td>\n",
       "      <td>0.676439</td>\n",
       "      <td>False</td>\n",
       "      <td>harvester</td>\n",
       "      <td>0.049995</td>\n",
       "      <td>False</td>\n",
       "      <td>swing</td>\n",
       "      <td>0.044660</td>\n",
       "      <td>False</td>\n",
       "    </tr>\n",
       "    <tr>\n",
       "      <th>1263</th>\n",
       "      <td>749036806121881602</td>\n",
       "      <td>https://pbs.twimg.com/media/CmUciKgWIAA97sH.jpg</td>\n",
       "      <td>1</td>\n",
       "      <td>sulphur-crested_cockatoo</td>\n",
       "      <td>0.960276</td>\n",
       "      <td>False</td>\n",
       "      <td>West_Highland_white_terrier</td>\n",
       "      <td>0.019522</td>\n",
       "      <td>True</td>\n",
       "      <td>Samoyed</td>\n",
       "      <td>0.006396</td>\n",
       "      <td>True</td>\n",
       "    </tr>\n",
       "    <tr>\n",
       "      <th>931</th>\n",
       "      <td>703079050210877440</td>\n",
       "      <td>https://pbs.twimg.com/media/CcHWqQCW8AEb0ZH.jpg</td>\n",
       "      <td>2</td>\n",
       "      <td>Pembroke</td>\n",
       "      <td>0.778503</td>\n",
       "      <td>True</td>\n",
       "      <td>Shetland_sheepdog</td>\n",
       "      <td>0.093834</td>\n",
       "      <td>True</td>\n",
       "      <td>Cardigan</td>\n",
       "      <td>0.060296</td>\n",
       "      <td>True</td>\n",
       "    </tr>\n",
       "    <tr>\n",
       "      <th>566</th>\n",
       "      <td>678334497360859136</td>\n",
       "      <td>https://pbs.twimg.com/media/CWntoDVWcAEl3NB.jpg</td>\n",
       "      <td>1</td>\n",
       "      <td>Norfolk_terrier</td>\n",
       "      <td>0.378643</td>\n",
       "      <td>True</td>\n",
       "      <td>golden_retriever</td>\n",
       "      <td>0.095594</td>\n",
       "      <td>True</td>\n",
       "      <td>kelpie</td>\n",
       "      <td>0.085309</td>\n",
       "      <td>True</td>\n",
       "    </tr>\n",
       "    <tr>\n",
       "      <th>1345</th>\n",
       "      <td>759159934323924993</td>\n",
       "      <td>https://pbs.twimg.com/media/CU1zsMSUAAAS0qW.jpg</td>\n",
       "      <td>1</td>\n",
       "      <td>Irish_terrier</td>\n",
       "      <td>0.254856</td>\n",
       "      <td>True</td>\n",
       "      <td>briard</td>\n",
       "      <td>0.227716</td>\n",
       "      <td>True</td>\n",
       "      <td>soft-coated_wheaten_terrier</td>\n",
       "      <td>0.223263</td>\n",
       "      <td>True</td>\n",
       "    </tr>\n",
       "    <tr>\n",
       "      <th>845</th>\n",
       "      <td>695095422348574720</td>\n",
       "      <td>https://pbs.twimg.com/media/CaV5mRDXEAAR8iG.jpg</td>\n",
       "      <td>1</td>\n",
       "      <td>papillon</td>\n",
       "      <td>0.227784</td>\n",
       "      <td>True</td>\n",
       "      <td>Chihuahua</td>\n",
       "      <td>0.218128</td>\n",
       "      <td>True</td>\n",
       "      <td>Border_collie</td>\n",
       "      <td>0.093457</td>\n",
       "      <td>True</td>\n",
       "    </tr>\n",
       "    <tr>\n",
       "      <th>1945</th>\n",
       "      <td>862096992088072192</td>\n",
       "      <td>https://pbs.twimg.com/media/C_bIo7QXYAAGfPu.jpg</td>\n",
       "      <td>2</td>\n",
       "      <td>chow</td>\n",
       "      <td>0.677589</td>\n",
       "      <td>True</td>\n",
       "      <td>Pomeranian</td>\n",
       "      <td>0.270648</td>\n",
       "      <td>True</td>\n",
       "      <td>Pekinese</td>\n",
       "      <td>0.038110</td>\n",
       "      <td>True</td>\n",
       "    </tr>\n",
       "    <tr>\n",
       "      <th>1283</th>\n",
       "      <td>750429297815552001</td>\n",
       "      <td>https://pbs.twimg.com/media/CmoPdmHW8AAi8BI.jpg</td>\n",
       "      <td>1</td>\n",
       "      <td>golden_retriever</td>\n",
       "      <td>0.964929</td>\n",
       "      <td>True</td>\n",
       "      <td>Labrador_retriever</td>\n",
       "      <td>0.011584</td>\n",
       "      <td>True</td>\n",
       "      <td>refrigerator</td>\n",
       "      <td>0.007499</td>\n",
       "      <td>False</td>\n",
       "    </tr>\n",
       "    <tr>\n",
       "      <th>1792</th>\n",
       "      <td>830956169170665475</td>\n",
       "      <td>https://pbs.twimg.com/ext_tw_video_thumb/83095...</td>\n",
       "      <td>1</td>\n",
       "      <td>kuvasz</td>\n",
       "      <td>0.451516</td>\n",
       "      <td>True</td>\n",
       "      <td>golden_retriever</td>\n",
       "      <td>0.317196</td>\n",
       "      <td>True</td>\n",
       "      <td>English_setter</td>\n",
       "      <td>0.132759</td>\n",
       "      <td>True</td>\n",
       "    </tr>\n",
       "    <tr>\n",
       "      <th>1669</th>\n",
       "      <td>813066809284972545</td>\n",
       "      <td>https://pbs.twimg.com/media/C0iX8OOVEAEIpMC.jpg</td>\n",
       "      <td>1</td>\n",
       "      <td>toy_terrier</td>\n",
       "      <td>0.776400</td>\n",
       "      <td>True</td>\n",
       "      <td>Pembroke</td>\n",
       "      <td>0.115034</td>\n",
       "      <td>True</td>\n",
       "      <td>basenji</td>\n",
       "      <td>0.048873</td>\n",
       "      <td>True</td>\n",
       "    </tr>\n",
       "    <tr>\n",
       "      <th>868</th>\n",
       "      <td>697596423848730625</td>\n",
       "      <td>https://pbs.twimg.com/media/Ca5cPrJXIAImHtD.jpg</td>\n",
       "      <td>1</td>\n",
       "      <td>Shetland_sheepdog</td>\n",
       "      <td>0.621668</td>\n",
       "      <td>True</td>\n",
       "      <td>collie</td>\n",
       "      <td>0.366578</td>\n",
       "      <td>True</td>\n",
       "      <td>Pembroke</td>\n",
       "      <td>0.007698</td>\n",
       "      <td>True</td>\n",
       "    </tr>\n",
       "    <tr>\n",
       "      <th>101</th>\n",
       "      <td>667793409583771648</td>\n",
       "      <td>https://pbs.twimg.com/media/CUR6jqVWsAEgGot.jpg</td>\n",
       "      <td>1</td>\n",
       "      <td>dalmatian</td>\n",
       "      <td>0.535073</td>\n",
       "      <td>True</td>\n",
       "      <td>English_setter</td>\n",
       "      <td>0.451219</td>\n",
       "      <td>True</td>\n",
       "      <td>Great_Dane</td>\n",
       "      <td>0.008164</td>\n",
       "      <td>True</td>\n",
       "    </tr>\n",
       "    <tr>\n",
       "      <th>286</th>\n",
       "      <td>671151324042559489</td>\n",
       "      <td>https://pbs.twimg.com/media/CVBokRSWsAADuXx.jpg</td>\n",
       "      <td>1</td>\n",
       "      <td>Rottweiler</td>\n",
       "      <td>0.781201</td>\n",
       "      <td>True</td>\n",
       "      <td>black-and-tan_coonhound</td>\n",
       "      <td>0.061206</td>\n",
       "      <td>True</td>\n",
       "      <td>kelpie</td>\n",
       "      <td>0.048856</td>\n",
       "      <td>True</td>\n",
       "    </tr>\n",
       "    <tr>\n",
       "      <th>518</th>\n",
       "      <td>676470639084101634</td>\n",
       "      <td>https://pbs.twimg.com/media/CWNOdIpWoAAWid2.jpg</td>\n",
       "      <td>1</td>\n",
       "      <td>golden_retriever</td>\n",
       "      <td>0.790386</td>\n",
       "      <td>True</td>\n",
       "      <td>borzoi</td>\n",
       "      <td>0.022885</td>\n",
       "      <td>True</td>\n",
       "      <td>dingo</td>\n",
       "      <td>0.015343</td>\n",
       "      <td>False</td>\n",
       "    </tr>\n",
       "    <tr>\n",
       "      <th>1302</th>\n",
       "      <td>752917284578922496</td>\n",
       "      <td>https://pbs.twimg.com/media/CnLmRiYXEAAO_8f.jpg</td>\n",
       "      <td>1</td>\n",
       "      <td>German_shepherd</td>\n",
       "      <td>0.609283</td>\n",
       "      <td>True</td>\n",
       "      <td>malinois</td>\n",
       "      <td>0.352460</td>\n",
       "      <td>True</td>\n",
       "      <td>kelpie</td>\n",
       "      <td>0.016105</td>\n",
       "      <td>True</td>\n",
       "    </tr>\n",
       "    <tr>\n",
       "      <th>1003</th>\n",
       "      <td>708834316713893888</td>\n",
       "      <td>https://pbs.twimg.com/media/CdZI_bpWEAAm1fs.jpg</td>\n",
       "      <td>1</td>\n",
       "      <td>Eskimo_dog</td>\n",
       "      <td>0.283945</td>\n",
       "      <td>True</td>\n",
       "      <td>giant_panda</td>\n",
       "      <td>0.218252</td>\n",
       "      <td>False</td>\n",
       "      <td>malamute</td>\n",
       "      <td>0.180401</td>\n",
       "      <td>True</td>\n",
       "    </tr>\n",
       "    <tr>\n",
       "      <th>1584</th>\n",
       "      <td>797236660651966464</td>\n",
       "      <td>https://pbs.twimg.com/media/CxBafisWQAAtJ1X.jpg</td>\n",
       "      <td>2</td>\n",
       "      <td>collie</td>\n",
       "      <td>0.767005</td>\n",
       "      <td>True</td>\n",
       "      <td>Border_collie</td>\n",
       "      <td>0.100844</td>\n",
       "      <td>True</td>\n",
       "      <td>kelpie</td>\n",
       "      <td>0.048368</td>\n",
       "      <td>True</td>\n",
       "    </tr>\n",
       "  </tbody>\n",
       "</table>\n",
       "</div>"
      ],
      "text/plain": [
       "                tweet_id                                            jpg_url  \\\n",
       "972   706644897839910912  https://pbs.twimg.com/ext_tw_video_thumb/70664...   \n",
       "1397  768193404517830656    https://pbs.twimg.com/media/Cqkr0wiW8AAn2Oi.jpg   \n",
       "1189  739606147276148736    https://pbs.twimg.com/media/CkOb3FXW0AAUL_U.jpg   \n",
       "1572  795076730285391872    https://pbs.twimg.com/media/CwiuEJmW8AAZnit.jpg   \n",
       "1263  749036806121881602    https://pbs.twimg.com/media/CmUciKgWIAA97sH.jpg   \n",
       "931   703079050210877440    https://pbs.twimg.com/media/CcHWqQCW8AEb0ZH.jpg   \n",
       "566   678334497360859136    https://pbs.twimg.com/media/CWntoDVWcAEl3NB.jpg   \n",
       "1345  759159934323924993    https://pbs.twimg.com/media/CU1zsMSUAAAS0qW.jpg   \n",
       "845   695095422348574720    https://pbs.twimg.com/media/CaV5mRDXEAAR8iG.jpg   \n",
       "1945  862096992088072192    https://pbs.twimg.com/media/C_bIo7QXYAAGfPu.jpg   \n",
       "1283  750429297815552001    https://pbs.twimg.com/media/CmoPdmHW8AAi8BI.jpg   \n",
       "1792  830956169170665475  https://pbs.twimg.com/ext_tw_video_thumb/83095...   \n",
       "1669  813066809284972545    https://pbs.twimg.com/media/C0iX8OOVEAEIpMC.jpg   \n",
       "868   697596423848730625    https://pbs.twimg.com/media/Ca5cPrJXIAImHtD.jpg   \n",
       "101   667793409583771648    https://pbs.twimg.com/media/CUR6jqVWsAEgGot.jpg   \n",
       "286   671151324042559489    https://pbs.twimg.com/media/CVBokRSWsAADuXx.jpg   \n",
       "518   676470639084101634    https://pbs.twimg.com/media/CWNOdIpWoAAWid2.jpg   \n",
       "1302  752917284578922496    https://pbs.twimg.com/media/CnLmRiYXEAAO_8f.jpg   \n",
       "1003  708834316713893888    https://pbs.twimg.com/media/CdZI_bpWEAAm1fs.jpg   \n",
       "1584  797236660651966464    https://pbs.twimg.com/media/CxBafisWQAAtJ1X.jpg   \n",
       "\n",
       "      img_num                        p1   p1_conf  p1_dog  \\\n",
       "972         1              space_heater  0.137871   False   \n",
       "1397        1                      lion  0.396984   False   \n",
       "1189        3          Blenheim_spaniel  0.933755    True   \n",
       "1572        2                  gas_pump  0.676439   False   \n",
       "1263        1  sulphur-crested_cockatoo  0.960276   False   \n",
       "931         2                  Pembroke  0.778503    True   \n",
       "566         1           Norfolk_terrier  0.378643    True   \n",
       "1345        1             Irish_terrier  0.254856    True   \n",
       "845         1                  papillon  0.227784    True   \n",
       "1945        2                      chow  0.677589    True   \n",
       "1283        1          golden_retriever  0.964929    True   \n",
       "1792        1                    kuvasz  0.451516    True   \n",
       "1669        1               toy_terrier  0.776400    True   \n",
       "868         1         Shetland_sheepdog  0.621668    True   \n",
       "101         1                 dalmatian  0.535073    True   \n",
       "286         1                Rottweiler  0.781201    True   \n",
       "518         1          golden_retriever  0.790386    True   \n",
       "1302        1           German_shepherd  0.609283    True   \n",
       "1003        1                Eskimo_dog  0.283945    True   \n",
       "1584        2                    collie  0.767005    True   \n",
       "\n",
       "                               p2   p2_conf  p2_dog  \\\n",
       "972                     Chihuahua  0.132928    True   \n",
       "1397                          ram  0.300851   False   \n",
       "1189               cocker_spaniel  0.041719    True   \n",
       "1572                    harvester  0.049995   False   \n",
       "1263  West_Highland_white_terrier  0.019522    True   \n",
       "931             Shetland_sheepdog  0.093834    True   \n",
       "566              golden_retriever  0.095594    True   \n",
       "1345                       briard  0.227716    True   \n",
       "845                     Chihuahua  0.218128    True   \n",
       "1945                   Pomeranian  0.270648    True   \n",
       "1283           Labrador_retriever  0.011584    True   \n",
       "1792             golden_retriever  0.317196    True   \n",
       "1669                     Pembroke  0.115034    True   \n",
       "868                        collie  0.366578    True   \n",
       "101                English_setter  0.451219    True   \n",
       "286       black-and-tan_coonhound  0.061206    True   \n",
       "518                        borzoi  0.022885    True   \n",
       "1302                     malinois  0.352460    True   \n",
       "1003                  giant_panda  0.218252   False   \n",
       "1584                Border_collie  0.100844    True   \n",
       "\n",
       "                               p3   p3_conf  p3_dog  \n",
       "972                        cougar  0.113866   False  \n",
       "1397                      cheetah  0.094474   False  \n",
       "1189             Brittany_spaniel  0.006713    True  \n",
       "1572                        swing  0.044660   False  \n",
       "1263                      Samoyed  0.006396    True  \n",
       "931                      Cardigan  0.060296    True  \n",
       "566                        kelpie  0.085309    True  \n",
       "1345  soft-coated_wheaten_terrier  0.223263    True  \n",
       "845                 Border_collie  0.093457    True  \n",
       "1945                     Pekinese  0.038110    True  \n",
       "1283                 refrigerator  0.007499   False  \n",
       "1792               English_setter  0.132759    True  \n",
       "1669                      basenji  0.048873    True  \n",
       "868                      Pembroke  0.007698    True  \n",
       "101                    Great_Dane  0.008164    True  \n",
       "286                        kelpie  0.048856    True  \n",
       "518                         dingo  0.015343   False  \n",
       "1302                       kelpie  0.016105    True  \n",
       "1003                     malamute  0.180401    True  \n",
       "1584                       kelpie  0.048368    True  "
      ]
     },
     "execution_count": 54,
     "metadata": {},
     "output_type": "execute_result"
    }
   ],
   "source": [
    "df_image_predictions.sample(20)"
   ]
  },
  {
   "cell_type": "code",
   "execution_count": 56,
   "metadata": {
    "scrolled": true
   },
   "outputs": [
    {
     "name": "stdout",
     "output_type": "stream",
     "text": [
      "<class 'pandas.core.frame.DataFrame'>\n",
      "RangeIndex: 2075 entries, 0 to 2074\n",
      "Data columns (total 12 columns):\n",
      "tweet_id    2075 non-null int64\n",
      "jpg_url     2075 non-null object\n",
      "img_num     2075 non-null int64\n",
      "p1          2075 non-null object\n",
      "p1_conf     2075 non-null float64\n",
      "p1_dog      2075 non-null bool\n",
      "p2          2075 non-null object\n",
      "p2_conf     2075 non-null float64\n",
      "p2_dog      2075 non-null bool\n",
      "p3          2075 non-null object\n",
      "p3_conf     2075 non-null float64\n",
      "p3_dog      2075 non-null bool\n",
      "dtypes: bool(3), float64(3), int64(2), object(4)\n",
      "memory usage: 152.1+ KB\n"
     ]
    }
   ],
   "source": [
    "df_image_predictions.info()"
   ]
  },
  {
   "cell_type": "code",
   "execution_count": 194,
   "metadata": {},
   "outputs": [
    {
     "data": {
      "text/html": [
       "<div>\n",
       "<style scoped>\n",
       "    .dataframe tbody tr th:only-of-type {\n",
       "        vertical-align: middle;\n",
       "    }\n",
       "\n",
       "    .dataframe tbody tr th {\n",
       "        vertical-align: top;\n",
       "    }\n",
       "\n",
       "    .dataframe thead th {\n",
       "        text-align: right;\n",
       "    }\n",
       "</style>\n",
       "<table border=\"1\" class=\"dataframe\">\n",
       "  <thead>\n",
       "    <tr style=\"text-align: right;\">\n",
       "      <th></th>\n",
       "      <th>tweet_id</th>\n",
       "      <th>img_num</th>\n",
       "      <th>p1_conf</th>\n",
       "      <th>p2_conf</th>\n",
       "      <th>p3_conf</th>\n",
       "    </tr>\n",
       "  </thead>\n",
       "  <tbody>\n",
       "    <tr>\n",
       "      <th>count</th>\n",
       "      <td>2.075000e+03</td>\n",
       "      <td>2075.000000</td>\n",
       "      <td>2075.000000</td>\n",
       "      <td>2.075000e+03</td>\n",
       "      <td>2.075000e+03</td>\n",
       "    </tr>\n",
       "    <tr>\n",
       "      <th>mean</th>\n",
       "      <td>7.384514e+17</td>\n",
       "      <td>1.203855</td>\n",
       "      <td>0.594548</td>\n",
       "      <td>1.345886e-01</td>\n",
       "      <td>6.032417e-02</td>\n",
       "    </tr>\n",
       "    <tr>\n",
       "      <th>std</th>\n",
       "      <td>6.785203e+16</td>\n",
       "      <td>0.561875</td>\n",
       "      <td>0.271174</td>\n",
       "      <td>1.006657e-01</td>\n",
       "      <td>5.090593e-02</td>\n",
       "    </tr>\n",
       "    <tr>\n",
       "      <th>min</th>\n",
       "      <td>6.660209e+17</td>\n",
       "      <td>1.000000</td>\n",
       "      <td>0.044333</td>\n",
       "      <td>1.011300e-08</td>\n",
       "      <td>1.740170e-10</td>\n",
       "    </tr>\n",
       "    <tr>\n",
       "      <th>25%</th>\n",
       "      <td>6.764835e+17</td>\n",
       "      <td>1.000000</td>\n",
       "      <td>0.364412</td>\n",
       "      <td>5.388625e-02</td>\n",
       "      <td>1.622240e-02</td>\n",
       "    </tr>\n",
       "    <tr>\n",
       "      <th>50%</th>\n",
       "      <td>7.119988e+17</td>\n",
       "      <td>1.000000</td>\n",
       "      <td>0.588230</td>\n",
       "      <td>1.181810e-01</td>\n",
       "      <td>4.944380e-02</td>\n",
       "    </tr>\n",
       "    <tr>\n",
       "      <th>75%</th>\n",
       "      <td>7.932034e+17</td>\n",
       "      <td>1.000000</td>\n",
       "      <td>0.843855</td>\n",
       "      <td>1.955655e-01</td>\n",
       "      <td>9.180755e-02</td>\n",
       "    </tr>\n",
       "    <tr>\n",
       "      <th>max</th>\n",
       "      <td>8.924206e+17</td>\n",
       "      <td>4.000000</td>\n",
       "      <td>1.000000</td>\n",
       "      <td>4.880140e-01</td>\n",
       "      <td>2.734190e-01</td>\n",
       "    </tr>\n",
       "  </tbody>\n",
       "</table>\n",
       "</div>"
      ],
      "text/plain": [
       "           tweet_id      img_num      p1_conf       p2_conf       p3_conf\n",
       "count  2.075000e+03  2075.000000  2075.000000  2.075000e+03  2.075000e+03\n",
       "mean   7.384514e+17     1.203855     0.594548  1.345886e-01  6.032417e-02\n",
       "std    6.785203e+16     0.561875     0.271174  1.006657e-01  5.090593e-02\n",
       "min    6.660209e+17     1.000000     0.044333  1.011300e-08  1.740170e-10\n",
       "25%    6.764835e+17     1.000000     0.364412  5.388625e-02  1.622240e-02\n",
       "50%    7.119988e+17     1.000000     0.588230  1.181810e-01  4.944380e-02\n",
       "75%    7.932034e+17     1.000000     0.843855  1.955655e-01  9.180755e-02\n",
       "max    8.924206e+17     4.000000     1.000000  4.880140e-01  2.734190e-01"
      ]
     },
     "execution_count": 194,
     "metadata": {},
     "output_type": "execute_result"
    }
   ],
   "source": [
    "df_image_predictions.describe()"
   ]
  },
  {
   "cell_type": "code",
   "execution_count": 59,
   "metadata": {
    "scrolled": true
   },
   "outputs": [
    {
     "name": "stdout",
     "output_type": "stream",
     "text": [
      "2075 \t tweet_id\n",
      "2009 \t jpg_url\n",
      "4 \t img_num\n",
      "378 \t p1\n",
      "2006 \t p1_conf\n",
      "2 \t p1_dog\n",
      "405 \t p2\n",
      "2004 \t p2_conf\n",
      "2 \t p2_dog\n",
      "408 \t p3\n",
      "2006 \t p3_conf\n",
      "2 \t p3_dog\n"
     ]
    }
   ],
   "source": [
    "for col in df_image_predictions.columns:\n",
    "    print(df_image_predictions[col].value_counts().count(), '\\t', col)"
   ]
  },
  {
   "cell_type": "code",
   "execution_count": 146,
   "metadata": {
    "scrolled": true
   },
   "outputs": [
    {
     "data": {
      "text/plain": [
       "golden_retriever             150\n",
       "Labrador_retriever           100\n",
       "Pembroke                      89\n",
       "Chihuahua                     83\n",
       "pug                           57\n",
       "chow                          44\n",
       "Samoyed                       43\n",
       "toy_poodle                    39\n",
       "Pomeranian                    38\n",
       "malamute                      30\n",
       "cocker_spaniel                30\n",
       "French_bulldog                26\n",
       "miniature_pinscher            23\n",
       "Chesapeake_Bay_retriever      23\n",
       "seat_belt                     22\n",
       "Siberian_husky                20\n",
       "Staffordshire_bullterrier     20\n",
       "German_shepherd               20\n",
       "Cardigan                      19\n",
       "web_site                      19\n",
       "Shetland_sheepdog             18\n",
       "beagle                        18\n",
       "teddy                         18\n",
       "Eskimo_dog                    18\n",
       "Maltese_dog                   18\n",
       "Lakeland_terrier              17\n",
       "Rottweiler                    17\n",
       "Shih-Tzu                      17\n",
       "kuvasz                        16\n",
       "Italian_greyhound             16\n",
       "                            ... \n",
       "beaver                         1\n",
       "piggy_bank                     1\n",
       "Egyptian_cat                   1\n",
       "traffic_light                  1\n",
       "jersey                         1\n",
       "pot                            1\n",
       "soccer_ball                    1\n",
       "mud_turtle                     1\n",
       "African_grey                   1\n",
       "picket_fence                   1\n",
       "binoculars                     1\n",
       "prayer_rug                     1\n",
       "limousine                      1\n",
       "coil                           1\n",
       "trombone                       1\n",
       "bannister                      1\n",
       "leopard                        1\n",
       "cowboy_boot                    1\n",
       "scorpion                       1\n",
       "four-poster                    1\n",
       "cuirass                        1\n",
       "harp                           1\n",
       "china_cabinet                  1\n",
       "convertible                    1\n",
       "walking_stick                  1\n",
       "cougar                         1\n",
       "toilet_seat                    1\n",
       "rapeseed                       1\n",
       "coho                           1\n",
       "sunglasses                     1\n",
       "Name: p1, Length: 378, dtype: int64"
      ]
     },
     "execution_count": 146,
     "metadata": {},
     "output_type": "execute_result"
    }
   ],
   "source": [
    "df_image_predictions.p1.value_counts()"
   ]
  },
  {
   "cell_type": "code",
   "execution_count": 152,
   "metadata": {},
   "outputs": [
    {
     "data": {
      "text/plain": [
       "Labrador_retriever                104\n",
       "golden_retriever                   92\n",
       "Cardigan                           73\n",
       "Chihuahua                          44\n",
       "Pomeranian                         42\n",
       "Chesapeake_Bay_retriever           41\n",
       "French_bulldog                     41\n",
       "toy_poodle                         37\n",
       "cocker_spaniel                     34\n",
       "Siberian_husky                     33\n",
       "miniature_poodle                   33\n",
       "beagle                             28\n",
       "collie                             27\n",
       "Eskimo_dog                         27\n",
       "Pembroke                           27\n",
       "kuvasz                             26\n",
       "Italian_greyhound                  22\n",
       "American_Staffordshire_terrier     21\n",
       "Pekinese                           21\n",
       "chow                               20\n",
       "toy_terrier                        20\n",
       "malinois                           20\n",
       "Samoyed                            20\n",
       "miniature_pinscher                 20\n",
       "Norwegian_elkhound                 19\n",
       "Boston_bull                        19\n",
       "Staffordshire_bullterrier          18\n",
       "Irish_terrier                      17\n",
       "pug                                17\n",
       "Shih-Tzu                           16\n",
       "                                 ... \n",
       "minibus                             1\n",
       "Kerry_blue_terrier                  1\n",
       "assault_rifle                       1\n",
       "Windsor_tie                         1\n",
       "purse                               1\n",
       "coffee_mug                          1\n",
       "sock                                1\n",
       "hummingbird                         1\n",
       "turnstile                           1\n",
       "snail                               1\n",
       "stove                               1\n",
       "hay                                 1\n",
       "giant_panda                         1\n",
       "tick                                1\n",
       "laptop                              1\n",
       "menu                                1\n",
       "dumbbell                            1\n",
       "printer                             1\n",
       "breastplate                         1\n",
       "confectionery                       1\n",
       "dam                                 1\n",
       "bathing_cap                         1\n",
       "komondor                            1\n",
       "window_shade                        1\n",
       "screw                               1\n",
       "promontory                          1\n",
       "dining_table                        1\n",
       "timber_wolf                         1\n",
       "necklace                            1\n",
       "dock                                1\n",
       "Name: p2, Length: 405, dtype: int64"
      ]
     },
     "execution_count": 152,
     "metadata": {},
     "output_type": "execute_result"
    }
   ],
   "source": [
    "df_image_predictions.p2.value_counts()"
   ]
  },
  {
   "cell_type": "code",
   "execution_count": 153,
   "metadata": {},
   "outputs": [
    {
     "data": {
      "text/plain": [
       "Labrador_retriever                79\n",
       "Chihuahua                         58\n",
       "golden_retriever                  48\n",
       "Eskimo_dog                        38\n",
       "kelpie                            35\n",
       "kuvasz                            34\n",
       "chow                              32\n",
       "Staffordshire_bullterrier         32\n",
       "cocker_spaniel                    31\n",
       "beagle                            31\n",
       "Pomeranian                        29\n",
       "toy_poodle                        29\n",
       "Pekinese                          29\n",
       "Great_Pyrenees                    27\n",
       "Pembroke                          27\n",
       "Chesapeake_Bay_retriever          27\n",
       "malamute                          26\n",
       "French_bulldog                    26\n",
       "American_Staffordshire_terrier    24\n",
       "pug                               23\n",
       "Cardigan                          23\n",
       "basenji                           21\n",
       "toy_terrier                       20\n",
       "bull_mastiff                      20\n",
       "Siberian_husky                    19\n",
       "Shetland_sheepdog                 17\n",
       "Boston_bull                       17\n",
       "Lakeland_terrier                  16\n",
       "boxer                             16\n",
       "doormat                           16\n",
       "                                  ..\n",
       "rhinoceros_beetle                  1\n",
       "cowboy_boot                        1\n",
       "barber_chair                       1\n",
       "nipple                             1\n",
       "pop_bottle                         1\n",
       "screw                              1\n",
       "ballplayer                         1\n",
       "barrow                             1\n",
       "loggerhead                         1\n",
       "mosquito_net                       1\n",
       "wing                               1\n",
       "banana                             1\n",
       "plastic_bag                        1\n",
       "cup                                1\n",
       "snail                              1\n",
       "partridge                          1\n",
       "cardoon                            1\n",
       "go-kart                            1\n",
       "mushroom                           1\n",
       "French_horn                        1\n",
       "broccoli                           1\n",
       "orangutan                          1\n",
       "jaguar                             1\n",
       "power_drill                        1\n",
       "whiptail                           1\n",
       "hare                               1\n",
       "pretzel                            1\n",
       "drumstick                          1\n",
       "toyshop                            1\n",
       "eel                                1\n",
       "Name: p3, Length: 408, dtype: int64"
      ]
     },
     "execution_count": 153,
     "metadata": {},
     "output_type": "execute_result"
    }
   ],
   "source": [
    "df_image_predictions.p3.value_counts()"
   ]
  },
  {
   "cell_type": "code",
   "execution_count": 66,
   "metadata": {},
   "outputs": [
    {
     "data": {
      "text/plain": [
       "2356"
      ]
     },
     "execution_count": 66,
     "metadata": {},
     "output_type": "execute_result"
    }
   ],
   "source": [
    "len(df_twitter_archive_enhanced)"
   ]
  },
  {
   "cell_type": "code",
   "execution_count": 193,
   "metadata": {},
   "outputs": [
    {
     "name": "stdout",
     "output_type": "stream",
     "text": [
      "6225\n",
      "634\n",
      "False    634\n",
      "Name: type, dtype: int64\n"
     ]
    }
   ],
   "source": [
    "x = ['doggo', 'floofer', 'pupper', 'puppo']\n",
    "y = pd.DataFrame(\n",
    "    list(df_image_predictions.p1)+list(df_image_predictions.p2)+list(df_image_predictions.p3)\n",
    "    ,columns=['type']\n",
    ")\n",
    "\n",
    "print(len(y))\n",
    "print(len(y.drop_duplicates()))\n",
    "print(y.drop_duplicates().isin(x).type.value_counts())"
   ]
  },
  {
   "cell_type": "code",
   "execution_count": 201,
   "metadata": {},
   "outputs": [
    {
     "data": {
      "text/plain": [
       "324"
      ]
     },
     "execution_count": 201,
     "metadata": {},
     "output_type": "execute_result"
    }
   ],
   "source": [
    "df_image_predictions.query('p1_dog == False & p2_dog == False & p3_dog == False').shape[0]"
   ]
  },
  {
   "cell_type": "markdown",
   "metadata": {},
   "source": [
    "<h3 id=\"-Gather\" style=\"\n",
    "    background-color: #bbb;\n",
    "    color: #fff;\n",
    "    padding: 10px 5px;\n",
    "\">tweets table</h3>"
   ]
  },
  {
   "cell_type": "code",
   "execution_count": 481,
   "metadata": {
    "scrolled": true
   },
   "outputs": [
    {
     "data": {
      "text/html": [
       "<div>\n",
       "<style scoped>\n",
       "    .dataframe tbody tr th:only-of-type {\n",
       "        vertical-align: middle;\n",
       "    }\n",
       "\n",
       "    .dataframe tbody tr th {\n",
       "        vertical-align: top;\n",
       "    }\n",
       "\n",
       "    .dataframe thead th {\n",
       "        text-align: right;\n",
       "    }\n",
       "</style>\n",
       "<table border=\"1\" class=\"dataframe\">\n",
       "  <thead>\n",
       "    <tr style=\"text-align: right;\">\n",
       "      <th></th>\n",
       "      <th>contributors</th>\n",
       "      <th>coordinates</th>\n",
       "      <th>created_at</th>\n",
       "      <th>entities</th>\n",
       "      <th>extended_entities</th>\n",
       "      <th>favorite_count</th>\n",
       "      <th>favorited</th>\n",
       "      <th>geo</th>\n",
       "      <th>id</th>\n",
       "      <th>id_str</th>\n",
       "      <th>...</th>\n",
       "      <th>quoted_status</th>\n",
       "      <th>quoted_status_id</th>\n",
       "      <th>quoted_status_id_str</th>\n",
       "      <th>retweet_count</th>\n",
       "      <th>retweeted</th>\n",
       "      <th>retweeted_status</th>\n",
       "      <th>source</th>\n",
       "      <th>text</th>\n",
       "      <th>truncated</th>\n",
       "      <th>user</th>\n",
       "    </tr>\n",
       "  </thead>\n",
       "  <tbody>\n",
       "    <tr>\n",
       "      <th>205</th>\n",
       "      <td>NaN</td>\n",
       "      <td>NaN</td>\n",
       "      <td>Thu Nov 26 16:59:01 +0000 2015</td>\n",
       "      <td>{'hashtags': [], 'symbols': [], 'user_mentions...</td>\n",
       "      <td>{'media': [{'id': 669923316447113216, 'id_str'...</td>\n",
       "      <td>232</td>\n",
       "      <td>False</td>\n",
       "      <td>NaN</td>\n",
       "      <td>669923323644657664</td>\n",
       "      <td>669923323644657664</td>\n",
       "      <td>...</td>\n",
       "      <td>NaN</td>\n",
       "      <td>NaN</td>\n",
       "      <td>NaN</td>\n",
       "      <td>57</td>\n",
       "      <td>False</td>\n",
       "      <td>NaN</td>\n",
       "      <td>&lt;a href=\"http://twitter.com/download/iphone\" r...</td>\n",
       "      <td>This is a spotted Lipitor Rumpelstiltskin name...</td>\n",
       "      <td>False</td>\n",
       "      <td>{'id': 4196983835, 'id_str': '4196983835', 'na...</td>\n",
       "    </tr>\n",
       "    <tr>\n",
       "      <th>1996</th>\n",
       "      <td>NaN</td>\n",
       "      <td>NaN</td>\n",
       "      <td>Fri Jun 23 01:10:23 +0000 2017</td>\n",
       "      <td>{'hashtags': [], 'symbols': [], 'user_mentions...</td>\n",
       "      <td>{'media': [{'id': 878057599261745152, 'id_str'...</td>\n",
       "      <td>40708</td>\n",
       "      <td>False</td>\n",
       "      <td>NaN</td>\n",
       "      <td>878057613040115712</td>\n",
       "      <td>878057613040115712</td>\n",
       "      <td>...</td>\n",
       "      <td>NaN</td>\n",
       "      <td>NaN</td>\n",
       "      <td>NaN</td>\n",
       "      <td>6513</td>\n",
       "      <td>False</td>\n",
       "      <td>NaN</td>\n",
       "      <td>&lt;a href=\"http://twitter.com/download/iphone\" r...</td>\n",
       "      <td>This is Emmy. She was adopted today. Massive r...</td>\n",
       "      <td>False</td>\n",
       "      <td>{'id': 4196983835, 'id_str': '4196983835', 'na...</td>\n",
       "    </tr>\n",
       "    <tr>\n",
       "      <th>2003</th>\n",
       "      <td>NaN</td>\n",
       "      <td>NaN</td>\n",
       "      <td>Tue Jun 27 00:10:17 +0000 2017</td>\n",
       "      <td>{'hashtags': [], 'symbols': [], 'user_mentions...</td>\n",
       "      <td>{'media': [{'id': 879492035853660161, 'id_str'...</td>\n",
       "      <td>22692</td>\n",
       "      <td>False</td>\n",
       "      <td>NaN</td>\n",
       "      <td>879492040517615616</td>\n",
       "      <td>879492040517615616</td>\n",
       "      <td>...</td>\n",
       "      <td>NaN</td>\n",
       "      <td>NaN</td>\n",
       "      <td>NaN</td>\n",
       "      <td>3051</td>\n",
       "      <td>False</td>\n",
       "      <td>NaN</td>\n",
       "      <td>&lt;a href=\"http://twitter.com/download/iphone\" r...</td>\n",
       "      <td>This is Bailey. He thinks you should measure e...</td>\n",
       "      <td>False</td>\n",
       "      <td>{'id': 4196983835, 'id_str': '4196983835', 'na...</td>\n",
       "    </tr>\n",
       "    <tr>\n",
       "      <th>533</th>\n",
       "      <td>NaN</td>\n",
       "      <td>NaN</td>\n",
       "      <td>Tue Dec 15 22:52:02 +0000 2015</td>\n",
       "      <td>{'hashtags': [], 'symbols': [], 'user_mentions...</td>\n",
       "      <td>{'media': [{'id': 676897528592392192, 'id_str'...</td>\n",
       "      <td>2288</td>\n",
       "      <td>False</td>\n",
       "      <td>NaN</td>\n",
       "      <td>676897532954456065</td>\n",
       "      <td>676897532954456065</td>\n",
       "      <td>...</td>\n",
       "      <td>NaN</td>\n",
       "      <td>NaN</td>\n",
       "      <td>NaN</td>\n",
       "      <td>739</td>\n",
       "      <td>False</td>\n",
       "      <td>NaN</td>\n",
       "      <td>&lt;a href=\"http://twitter.com/download/iphone\" r...</td>\n",
       "      <td>Exotic handheld dog here. Appears unathletic. ...</td>\n",
       "      <td>False</td>\n",
       "      <td>{'id': 4196983835, 'id_str': '4196983835', 'na...</td>\n",
       "    </tr>\n",
       "    <tr>\n",
       "      <th>1336</th>\n",
       "      <td>NaN</td>\n",
       "      <td>NaN</td>\n",
       "      <td>Thu Jul 28 01:00:57 +0000 2016</td>\n",
       "      <td>{'hashtags': [], 'symbols': [], 'user_mentions...</td>\n",
       "      <td>{'media': [{'id': 758467147756691456, 'id_str'...</td>\n",
       "      <td>4983</td>\n",
       "      <td>False</td>\n",
       "      <td>NaN</td>\n",
       "      <td>758467244762497024</td>\n",
       "      <td>758467244762497024</td>\n",
       "      <td>...</td>\n",
       "      <td>NaN</td>\n",
       "      <td>NaN</td>\n",
       "      <td>NaN</td>\n",
       "      <td>2344</td>\n",
       "      <td>False</td>\n",
       "      <td>NaN</td>\n",
       "      <td>&lt;a href=\"http://twitter.com/download/iphone\" r...</td>\n",
       "      <td>Why does this never happen at my front door......</td>\n",
       "      <td>False</td>\n",
       "      <td>{'id': 4196983835, 'id_str': '4196983835', 'na...</td>\n",
       "    </tr>\n",
       "    <tr>\n",
       "      <th>1786</th>\n",
       "      <td>NaN</td>\n",
       "      <td>NaN</td>\n",
       "      <td>Fri Feb 10 16:53:37 +0000 2017</td>\n",
       "      <td>{'hashtags': [], 'symbols': [], 'user_mentions...</td>\n",
       "      <td>NaN</td>\n",
       "      <td>10184</td>\n",
       "      <td>False</td>\n",
       "      <td>NaN</td>\n",
       "      <td>830097400375152640</td>\n",
       "      <td>830097400375152640</td>\n",
       "      <td>...</td>\n",
       "      <td>NaN</td>\n",
       "      <td>NaN</td>\n",
       "      <td>NaN</td>\n",
       "      <td>3143</td>\n",
       "      <td>False</td>\n",
       "      <td>NaN</td>\n",
       "      <td>&lt;a href=\"http://twitter.com/download/iphone\" r...</td>\n",
       "      <td>Meet Samson. He's absolute fluffy perfection. ...</td>\n",
       "      <td>True</td>\n",
       "      <td>{'id': 4196983835, 'id_str': '4196983835', 'na...</td>\n",
       "    </tr>\n",
       "    <tr>\n",
       "      <th>406</th>\n",
       "      <td>NaN</td>\n",
       "      <td>NaN</td>\n",
       "      <td>Mon Dec 07 03:40:24 +0000 2015</td>\n",
       "      <td>{'hashtags': [], 'symbols': [], 'user_mentions...</td>\n",
       "      <td>{'media': [{'id': 673708601312178176, 'id_str'...</td>\n",
       "      <td>1083</td>\n",
       "      <td>False</td>\n",
       "      <td>NaN</td>\n",
       "      <td>673708611235921920</td>\n",
       "      <td>673708611235921920</td>\n",
       "      <td>...</td>\n",
       "      <td>NaN</td>\n",
       "      <td>NaN</td>\n",
       "      <td>NaN</td>\n",
       "      <td>293</td>\n",
       "      <td>False</td>\n",
       "      <td>NaN</td>\n",
       "      <td>&lt;a href=\"http://twitter.com/download/iphone\" r...</td>\n",
       "      <td>This is Riley. She's just an adorable football...</td>\n",
       "      <td>False</td>\n",
       "      <td>{'id': 4196983835, 'id_str': '4196983835', 'na...</td>\n",
       "    </tr>\n",
       "    <tr>\n",
       "      <th>1941</th>\n",
       "      <td>NaN</td>\n",
       "      <td>NaN</td>\n",
       "      <td>Sat May 13 16:33:49 +0000 2017</td>\n",
       "      <td>{'hashtags': [], 'symbols': [], 'user_mentions...</td>\n",
       "      <td>NaN</td>\n",
       "      <td>23466</td>\n",
       "      <td>False</td>\n",
       "      <td>NaN</td>\n",
       "      <td>863432100342583297</td>\n",
       "      <td>863432100342583297</td>\n",
       "      <td>...</td>\n",
       "      <td>NaN</td>\n",
       "      <td>NaN</td>\n",
       "      <td>NaN</td>\n",
       "      <td>5159</td>\n",
       "      <td>False</td>\n",
       "      <td>NaN</td>\n",
       "      <td>&lt;a href=\"http://twitter.com/download/iphone\" r...</td>\n",
       "      <td>This is Belle. She's never been more pupset. E...</td>\n",
       "      <td>True</td>\n",
       "      <td>{'id': 4196983835, 'id_str': '4196983835', 'na...</td>\n",
       "    </tr>\n",
       "    <tr>\n",
       "      <th>373</th>\n",
       "      <td>NaN</td>\n",
       "      <td>NaN</td>\n",
       "      <td>Sat Dec 05 04:00:04 +0000 2015</td>\n",
       "      <td>{'hashtags': [], 'symbols': [], 'user_mentions...</td>\n",
       "      <td>{'media': [{'id': 672988581774942208, 'id_str'...</td>\n",
       "      <td>982</td>\n",
       "      <td>False</td>\n",
       "      <td>NaN</td>\n",
       "      <td>672988786805112832</td>\n",
       "      <td>672988786805112832</td>\n",
       "      <td>...</td>\n",
       "      <td>NaN</td>\n",
       "      <td>NaN</td>\n",
       "      <td>NaN</td>\n",
       "      <td>295</td>\n",
       "      <td>False</td>\n",
       "      <td>NaN</td>\n",
       "      <td>&lt;a href=\"http://twitter.com/download/iphone\" r...</td>\n",
       "      <td>This is Schnozz. He's had a blurred tail since...</td>\n",
       "      <td>False</td>\n",
       "      <td>{'id': 4196983835, 'id_str': '4196983835', 'na...</td>\n",
       "    </tr>\n",
       "    <tr>\n",
       "      <th>1022</th>\n",
       "      <td>NaN</td>\n",
       "      <td>NaN</td>\n",
       "      <td>Thu Mar 17 01:55:02 +0000 2016</td>\n",
       "      <td>{'hashtags': [], 'symbols': [], 'user_mentions...</td>\n",
       "      <td>{'media': [{'id': 710283263395246080, 'id_str'...</td>\n",
       "      <td>2199</td>\n",
       "      <td>False</td>\n",
       "      <td>NaN</td>\n",
       "      <td>710283270106132480</td>\n",
       "      <td>710283270106132480</td>\n",
       "      <td>...</td>\n",
       "      <td>NaN</td>\n",
       "      <td>NaN</td>\n",
       "      <td>NaN</td>\n",
       "      <td>535</td>\n",
       "      <td>False</td>\n",
       "      <td>NaN</td>\n",
       "      <td>&lt;a href=\"http://twitter.com/download/iphone\" r...</td>\n",
       "      <td>This is Gunner. He's a Figamus Newton. King of...</td>\n",
       "      <td>False</td>\n",
       "      <td>{'id': 4196983835, 'id_str': '4196983835', 'na...</td>\n",
       "    </tr>\n",
       "  </tbody>\n",
       "</table>\n",
       "<p>10 rows × 30 columns</p>\n",
       "</div>"
      ],
      "text/plain": [
       "      contributors  coordinates                      created_at  \\\n",
       "205            NaN          NaN  Thu Nov 26 16:59:01 +0000 2015   \n",
       "1996           NaN          NaN  Fri Jun 23 01:10:23 +0000 2017   \n",
       "2003           NaN          NaN  Tue Jun 27 00:10:17 +0000 2017   \n",
       "533            NaN          NaN  Tue Dec 15 22:52:02 +0000 2015   \n",
       "1336           NaN          NaN  Thu Jul 28 01:00:57 +0000 2016   \n",
       "1786           NaN          NaN  Fri Feb 10 16:53:37 +0000 2017   \n",
       "406            NaN          NaN  Mon Dec 07 03:40:24 +0000 2015   \n",
       "1941           NaN          NaN  Sat May 13 16:33:49 +0000 2017   \n",
       "373            NaN          NaN  Sat Dec 05 04:00:04 +0000 2015   \n",
       "1022           NaN          NaN  Thu Mar 17 01:55:02 +0000 2016   \n",
       "\n",
       "                                               entities  \\\n",
       "205   {'hashtags': [], 'symbols': [], 'user_mentions...   \n",
       "1996  {'hashtags': [], 'symbols': [], 'user_mentions...   \n",
       "2003  {'hashtags': [], 'symbols': [], 'user_mentions...   \n",
       "533   {'hashtags': [], 'symbols': [], 'user_mentions...   \n",
       "1336  {'hashtags': [], 'symbols': [], 'user_mentions...   \n",
       "1786  {'hashtags': [], 'symbols': [], 'user_mentions...   \n",
       "406   {'hashtags': [], 'symbols': [], 'user_mentions...   \n",
       "1941  {'hashtags': [], 'symbols': [], 'user_mentions...   \n",
       "373   {'hashtags': [], 'symbols': [], 'user_mentions...   \n",
       "1022  {'hashtags': [], 'symbols': [], 'user_mentions...   \n",
       "\n",
       "                                      extended_entities  favorite_count  \\\n",
       "205   {'media': [{'id': 669923316447113216, 'id_str'...             232   \n",
       "1996  {'media': [{'id': 878057599261745152, 'id_str'...           40708   \n",
       "2003  {'media': [{'id': 879492035853660161, 'id_str'...           22692   \n",
       "533   {'media': [{'id': 676897528592392192, 'id_str'...            2288   \n",
       "1336  {'media': [{'id': 758467147756691456, 'id_str'...            4983   \n",
       "1786                                                NaN           10184   \n",
       "406   {'media': [{'id': 673708601312178176, 'id_str'...            1083   \n",
       "1941                                                NaN           23466   \n",
       "373   {'media': [{'id': 672988581774942208, 'id_str'...             982   \n",
       "1022  {'media': [{'id': 710283263395246080, 'id_str'...            2199   \n",
       "\n",
       "      favorited  geo                  id              id_str  ...  \\\n",
       "205       False  NaN  669923323644657664  669923323644657664  ...   \n",
       "1996      False  NaN  878057613040115712  878057613040115712  ...   \n",
       "2003      False  NaN  879492040517615616  879492040517615616  ...   \n",
       "533       False  NaN  676897532954456065  676897532954456065  ...   \n",
       "1336      False  NaN  758467244762497024  758467244762497024  ...   \n",
       "1786      False  NaN  830097400375152640  830097400375152640  ...   \n",
       "406       False  NaN  673708611235921920  673708611235921920  ...   \n",
       "1941      False  NaN  863432100342583297  863432100342583297  ...   \n",
       "373       False  NaN  672988786805112832  672988786805112832  ...   \n",
       "1022      False  NaN  710283270106132480  710283270106132480  ...   \n",
       "\n",
       "     quoted_status  quoted_status_id  quoted_status_id_str  retweet_count  \\\n",
       "205            NaN               NaN                   NaN             57   \n",
       "1996           NaN               NaN                   NaN           6513   \n",
       "2003           NaN               NaN                   NaN           3051   \n",
       "533            NaN               NaN                   NaN            739   \n",
       "1336           NaN               NaN                   NaN           2344   \n",
       "1786           NaN               NaN                   NaN           3143   \n",
       "406            NaN               NaN                   NaN            293   \n",
       "1941           NaN               NaN                   NaN           5159   \n",
       "373            NaN               NaN                   NaN            295   \n",
       "1022           NaN               NaN                   NaN            535   \n",
       "\n",
       "      retweeted  retweeted_status  \\\n",
       "205       False               NaN   \n",
       "1996      False               NaN   \n",
       "2003      False               NaN   \n",
       "533       False               NaN   \n",
       "1336      False               NaN   \n",
       "1786      False               NaN   \n",
       "406       False               NaN   \n",
       "1941      False               NaN   \n",
       "373       False               NaN   \n",
       "1022      False               NaN   \n",
       "\n",
       "                                                 source  \\\n",
       "205   <a href=\"http://twitter.com/download/iphone\" r...   \n",
       "1996  <a href=\"http://twitter.com/download/iphone\" r...   \n",
       "2003  <a href=\"http://twitter.com/download/iphone\" r...   \n",
       "533   <a href=\"http://twitter.com/download/iphone\" r...   \n",
       "1336  <a href=\"http://twitter.com/download/iphone\" r...   \n",
       "1786  <a href=\"http://twitter.com/download/iphone\" r...   \n",
       "406   <a href=\"http://twitter.com/download/iphone\" r...   \n",
       "1941  <a href=\"http://twitter.com/download/iphone\" r...   \n",
       "373   <a href=\"http://twitter.com/download/iphone\" r...   \n",
       "1022  <a href=\"http://twitter.com/download/iphone\" r...   \n",
       "\n",
       "                                                   text truncated  \\\n",
       "205   This is a spotted Lipitor Rumpelstiltskin name...     False   \n",
       "1996  This is Emmy. She was adopted today. Massive r...     False   \n",
       "2003  This is Bailey. He thinks you should measure e...     False   \n",
       "533   Exotic handheld dog here. Appears unathletic. ...     False   \n",
       "1336  Why does this never happen at my front door......     False   \n",
       "1786  Meet Samson. He's absolute fluffy perfection. ...      True   \n",
       "406   This is Riley. She's just an adorable football...     False   \n",
       "1941  This is Belle. She's never been more pupset. E...      True   \n",
       "373   This is Schnozz. He's had a blurred tail since...     False   \n",
       "1022  This is Gunner. He's a Figamus Newton. King of...     False   \n",
       "\n",
       "                                                   user  \n",
       "205   {'id': 4196983835, 'id_str': '4196983835', 'na...  \n",
       "1996  {'id': 4196983835, 'id_str': '4196983835', 'na...  \n",
       "2003  {'id': 4196983835, 'id_str': '4196983835', 'na...  \n",
       "533   {'id': 4196983835, 'id_str': '4196983835', 'na...  \n",
       "1336  {'id': 4196983835, 'id_str': '4196983835', 'na...  \n",
       "1786  {'id': 4196983835, 'id_str': '4196983835', 'na...  \n",
       "406   {'id': 4196983835, 'id_str': '4196983835', 'na...  \n",
       "1941  {'id': 4196983835, 'id_str': '4196983835', 'na...  \n",
       "373   {'id': 4196983835, 'id_str': '4196983835', 'na...  \n",
       "1022  {'id': 4196983835, 'id_str': '4196983835', 'na...  \n",
       "\n",
       "[10 rows x 30 columns]"
      ]
     },
     "execution_count": 481,
     "metadata": {},
     "output_type": "execute_result"
    }
   ],
   "source": [
    "df_tweets.sample(10)"
   ]
  },
  {
   "cell_type": "code",
   "execution_count": 137,
   "metadata": {
    "scrolled": true
   },
   "outputs": [
    {
     "name": "stdout",
     "output_type": "stream",
     "text": [
      "<class 'pandas.core.frame.DataFrame'>\n",
      "RangeIndex: 2334 entries, 0 to 2333\n",
      "Data columns (total 30 columns):\n",
      "contributors                     0 non-null float64\n",
      "coordinates                      0 non-null float64\n",
      "created_at                       2334 non-null object\n",
      "entities                         2334 non-null object\n",
      "extended_entities                1819 non-null object\n",
      "favorite_count                   2334 non-null int64\n",
      "favorited                        2334 non-null bool\n",
      "geo                              0 non-null float64\n",
      "id                               2334 non-null int64\n",
      "id_str                           2334 non-null int64\n",
      "in_reply_to_screen_name          77 non-null object\n",
      "in_reply_to_status_id            77 non-null float64\n",
      "in_reply_to_status_id_str        77 non-null float64\n",
      "in_reply_to_user_id              77 non-null float64\n",
      "in_reply_to_user_id_str          77 non-null float64\n",
      "is_quote_status                  2334 non-null bool\n",
      "lang                             2334 non-null object\n",
      "place                            1 non-null object\n",
      "possibly_sensitive               2200 non-null object\n",
      "possibly_sensitive_appealable    2200 non-null object\n",
      "quoted_status                    24 non-null object\n",
      "quoted_status_id                 26 non-null float64\n",
      "quoted_status_id_str             26 non-null float64\n",
      "retweet_count                    2334 non-null int64\n",
      "retweeted                        2334 non-null bool\n",
      "retweeted_status                 165 non-null object\n",
      "source                           2334 non-null object\n",
      "text                             2334 non-null object\n",
      "truncated                        2334 non-null bool\n",
      "user                             2334 non-null object\n",
      "dtypes: bool(4), float64(9), int64(4), object(13)\n",
      "memory usage: 483.3+ KB\n"
     ]
    }
   ],
   "source": [
    "df_tweets.info()"
   ]
  },
  {
   "cell_type": "code",
   "execution_count": 138,
   "metadata": {
    "scrolled": true
   },
   "outputs": [
    {
     "name": "stdout",
     "output_type": "stream",
     "text": [
      "0 \t contributors\n",
      "0 \t coordinates\n",
      "2334 \t created_at\n",
      "2240 \t entities\n",
      "1819 \t extended_entities\n",
      "1988 \t favorite_count\n",
      "1 \t favorited\n",
      "0 \t geo\n",
      "2334 \t id\n",
      "2334 \t id_str\n",
      "30 \t in_reply_to_screen_name\n",
      "76 \t in_reply_to_status_id\n",
      "76 \t in_reply_to_status_id_str\n",
      "30 \t in_reply_to_user_id\n",
      "30 \t in_reply_to_user_id_str\n",
      "2 \t is_quote_status\n",
      "9 \t lang\n",
      "1 \t place\n",
      "1 \t possibly_sensitive\n",
      "1 \t possibly_sensitive_appealable\n",
      "24 \t quoted_status\n",
      "26 \t quoted_status_id\n",
      "26 \t quoted_status_id_str\n",
      "1746 \t retweet_count\n",
      "1 \t retweeted\n",
      "165 \t retweeted_status\n",
      "4 \t source\n",
      "2334 \t text\n",
      "2 \t truncated\n",
      "89 \t user\n"
     ]
    }
   ],
   "source": [
    "for col in df_tweets.columns:\n",
    "    print(df_tweets[col].value_counts().count(), '\\t', col)"
   ]
  },
  {
   "cell_type": "code",
   "execution_count": 140,
   "metadata": {},
   "outputs": [
    {
     "data": {
      "text/plain": [
       "False    2200\n",
       "Name: possibly_sensitive, dtype: int64"
      ]
     },
     "execution_count": 140,
     "metadata": {},
     "output_type": "execute_result"
    }
   ],
   "source": [
    "df_tweets.possibly_sensitive.value_counts()"
   ]
  },
  {
   "cell_type": "markdown",
   "metadata": {},
   "source": [
    "### Quality\n",
    "#### `twitter_archive_enhanced` table\n",
    "- There are \"None\" as value needs to be corrected.\n",
    "- There are 4 columns, end with `_id`, are float64 type while they need to be int64.\n",
    "- There are 2 columns, end with `timestamp`, are object type while they need to be time formate.\n",
    "- `source` column has values in HTML fromat.\n",
    "- `rating_denominator` has values differ 10.\n",
    "- `rating_numerator` has anomalous values >= 50 which are outliers.\n",
    "- There are 156 tweets as retweets.\n",
    "\n",
    "#### `twitter_archive_enhanced` table\n",
    "- there are 324 observations are not predected as a dog.\n",
    "\n",
    "#### `tweets` table\n",
    "- There are columns should be droped becuase either they have 1 repeated value or nothing."
   ]
  },
  {
   "cell_type": "markdown",
   "metadata": {},
   "source": [
    "### Tidiness\n",
    "- \"doggo\", \"floofer\", \"pupper\" & \"puppo\" columns of \"twitter_archive_enhanced\" have to be values in the new column called \"type\".\n",
    "- all unwanted columns of \"tweets\" should be removed.\n",
    "- all unwanted columns of \"twitter_archive_enhanced\" should be removed.\n",
    "- join all tables to create `twitter_archive_master.csv`."
   ]
  },
  {
   "cell_type": "markdown",
   "metadata": {},
   "source": [
    "<a id='clean'></a>\n",
    "<h2 id=\"-Gather\" style=\"\n",
    "    background-color: #555;\n",
    "    color: #eee;\n",
    "    padding: 10px 5px;\n",
    "\">Clean</h2>"
   ]
  },
  {
   "cell_type": "code",
   "execution_count": 751,
   "metadata": {},
   "outputs": [],
   "source": [
    "df2_twitter_archive_enhanced = df_twitter_archive_enhanced.copy()\n",
    "df2_image_predictions = df_image_predictions.copy()\n",
    "df2_tweets = df_tweets.copy()"
   ]
  },
  {
   "cell_type": "markdown",
   "metadata": {},
   "source": [
    "<h3 id=\"-Gather\" style=\"\n",
    "    background-color: #bbb;\n",
    "    color: #fff;\n",
    "    padding: 10px 5px;\n",
    "\">twitter_archive_enhanced table</h3>"
   ]
  },
  {
   "cell_type": "markdown",
   "metadata": {},
   "source": [
    "## There are \"None\" as value needs to be corrected."
   ]
  },
  {
   "cell_type": "markdown",
   "metadata": {},
   "source": [
    "### Define"
   ]
  },
  {
   "cell_type": "markdown",
   "metadata": {},
   "source": [
    "> change \"None\" value to be np.nan"
   ]
  },
  {
   "cell_type": "markdown",
   "metadata": {},
   "source": [
    "### Code"
   ]
  },
  {
   "cell_type": "code",
   "execution_count": 752,
   "metadata": {},
   "outputs": [],
   "source": [
    "df2_twitter_archive_enhanced = df2_twitter_archive_enhanced.applymap(lambda x: np.nan if x == 'None' else x)"
   ]
  },
  {
   "cell_type": "markdown",
   "metadata": {},
   "source": [
    "### Test"
   ]
  },
  {
   "cell_type": "code",
   "execution_count": 753,
   "metadata": {},
   "outputs": [
    {
     "data": {
      "text/plain": [
       "True"
      ]
     },
     "execution_count": 753,
     "metadata": {},
     "output_type": "execute_result"
    }
   ],
   "source": [
    "# if there is a different of counts, means it is correct\n",
    "(df_twitter_archive_enhanced.count() == df2_twitter_archive_enhanced.count()).all() != True"
   ]
  },
  {
   "cell_type": "markdown",
   "metadata": {},
   "source": [
    "## There are 4 columns, end with `_id`, are float64 type while they need to be int64."
   ]
  },
  {
   "cell_type": "markdown",
   "metadata": {},
   "source": [
    "### Define"
   ]
  },
  {
   "cell_type": "markdown",
   "metadata": {},
   "source": [
    "> change the type of columns end with `_id` from float64 to int64."
   ]
  },
  {
   "cell_type": "markdown",
   "metadata": {},
   "source": [
    "### Code"
   ]
  },
  {
   "cell_type": "code",
   "execution_count": 754,
   "metadata": {},
   "outputs": [],
   "source": [
    "for col in df2_twitter_archive_enhanced.columns[df2_twitter_archive_enhanced.columns.str.endswith('_id')]:\n",
    "    df2_twitter_archive_enhanced[col] = df2_twitter_archive_enhanced[col].fillna(0)\n",
    "    df2_twitter_archive_enhanced[col] = df2_twitter_archive_enhanced[col].astype('int64')"
   ]
  },
  {
   "cell_type": "markdown",
   "metadata": {},
   "source": [
    "### Test"
   ]
  },
  {
   "cell_type": "code",
   "execution_count": 755,
   "metadata": {},
   "outputs": [
    {
     "name": "stdout",
     "output_type": "stream",
     "text": [
      "<class 'pandas.core.frame.DataFrame'>\n",
      "RangeIndex: 2356 entries, 0 to 2355\n",
      "Data columns (total 17 columns):\n",
      "tweet_id                      2356 non-null int64\n",
      "in_reply_to_status_id         2356 non-null int64\n",
      "in_reply_to_user_id           2356 non-null int64\n",
      "timestamp                     2356 non-null object\n",
      "source                        2356 non-null object\n",
      "text                          2356 non-null object\n",
      "retweeted_status_id           2356 non-null int64\n",
      "retweeted_status_user_id      2356 non-null int64\n",
      "retweeted_status_timestamp    181 non-null object\n",
      "expanded_urls                 2297 non-null object\n",
      "rating_numerator              2356 non-null int64\n",
      "rating_denominator            2356 non-null int64\n",
      "name                          1611 non-null object\n",
      "doggo                         97 non-null object\n",
      "floofer                       10 non-null object\n",
      "pupper                        257 non-null object\n",
      "puppo                         30 non-null object\n",
      "dtypes: int64(7), object(10)\n",
      "memory usage: 313.0+ KB\n"
     ]
    }
   ],
   "source": [
    "df2_twitter_archive_enhanced.info()"
   ]
  },
  {
   "cell_type": "markdown",
   "metadata": {},
   "source": [
    "## There are 2 columns, end with `timestamp`, are object type while they need to be `timestamp`."
   ]
  },
  {
   "cell_type": "markdown",
   "metadata": {},
   "source": [
    "### Define"
   ]
  },
  {
   "cell_type": "markdown",
   "metadata": {},
   "source": [
    "> change the type of columns end with `timestamp` from object to timestamp. "
   ]
  },
  {
   "cell_type": "markdown",
   "metadata": {},
   "source": [
    "### Code"
   ]
  },
  {
   "cell_type": "code",
   "execution_count": 756,
   "metadata": {},
   "outputs": [],
   "source": [
    "for col in df2_twitter_archive_enhanced.columns[df2_twitter_archive_enhanced.columns.str.endswith('timestamp')]:\n",
    "    df2_twitter_archive_enhanced[col] = pd.to_datetime(df2_twitter_archive_enhanced[col])"
   ]
  },
  {
   "cell_type": "markdown",
   "metadata": {},
   "source": [
    "### Test"
   ]
  },
  {
   "cell_type": "code",
   "execution_count": 757,
   "metadata": {},
   "outputs": [
    {
     "name": "stdout",
     "output_type": "stream",
     "text": [
      "<class 'pandas.core.frame.DataFrame'>\n",
      "RangeIndex: 2356 entries, 0 to 2355\n",
      "Data columns (total 17 columns):\n",
      "tweet_id                      2356 non-null int64\n",
      "in_reply_to_status_id         2356 non-null int64\n",
      "in_reply_to_user_id           2356 non-null int64\n",
      "timestamp                     2356 non-null datetime64[ns, UTC]\n",
      "source                        2356 non-null object\n",
      "text                          2356 non-null object\n",
      "retweeted_status_id           2356 non-null int64\n",
      "retweeted_status_user_id      2356 non-null int64\n",
      "retweeted_status_timestamp    181 non-null datetime64[ns, UTC]\n",
      "expanded_urls                 2297 non-null object\n",
      "rating_numerator              2356 non-null int64\n",
      "rating_denominator            2356 non-null int64\n",
      "name                          1611 non-null object\n",
      "doggo                         97 non-null object\n",
      "floofer                       10 non-null object\n",
      "pupper                        257 non-null object\n",
      "puppo                         30 non-null object\n",
      "dtypes: datetime64[ns, UTC](2), int64(7), object(8)\n",
      "memory usage: 313.0+ KB\n"
     ]
    }
   ],
   "source": [
    "df2_twitter_archive_enhanced.info()"
   ]
  },
  {
   "cell_type": "markdown",
   "metadata": {},
   "source": [
    "## `source` column has values in HTML fromat."
   ]
  },
  {
   "cell_type": "markdown",
   "metadata": {},
   "source": [
    "### Define"
   ]
  },
  {
   "cell_type": "markdown",
   "metadata": {},
   "source": [
    "> correct the value by remvoing HMTL tag"
   ]
  },
  {
   "cell_type": "markdown",
   "metadata": {},
   "source": [
    "### Code"
   ]
  },
  {
   "cell_type": "code",
   "execution_count": 758,
   "metadata": {},
   "outputs": [],
   "source": [
    "df2_twitter_archive_enhanced['source'] = df2_twitter_archive_enhanced.source.str.replace('<[^>]*>','')"
   ]
  },
  {
   "cell_type": "markdown",
   "metadata": {},
   "source": [
    "### Test"
   ]
  },
  {
   "cell_type": "code",
   "execution_count": 759,
   "metadata": {},
   "outputs": [
    {
     "data": {
      "text/plain": [
       "Twitter for iPhone     2221\n",
       "Vine - Make a Scene      91\n",
       "Twitter Web Client       33\n",
       "TweetDeck                11\n",
       "Name: source, dtype: int64"
      ]
     },
     "execution_count": 759,
     "metadata": {},
     "output_type": "execute_result"
    }
   ],
   "source": [
    "df2_twitter_archive_enhanced.source.value_counts()"
   ]
  },
  {
   "cell_type": "markdown",
   "metadata": {},
   "source": [
    "## `rating_denominator` has values differ 10."
   ]
  },
  {
   "cell_type": "markdown",
   "metadata": {},
   "source": [
    "### Define"
   ]
  },
  {
   "cell_type": "markdown",
   "metadata": {},
   "source": [
    "> remove all observations have `rating_denominator` differ 10."
   ]
  },
  {
   "cell_type": "markdown",
   "metadata": {},
   "source": [
    "### Code"
   ]
  },
  {
   "cell_type": "code",
   "execution_count": 760,
   "metadata": {},
   "outputs": [],
   "source": [
    "df2_twitter_archive_enhanced.drop(df2_twitter_archive_enhanced[\n",
    "    df2_twitter_archive_enhanced.rating_denominator != 10\n",
    "].index, inplace=True)"
   ]
  },
  {
   "cell_type": "markdown",
   "metadata": {},
   "source": [
    "### Test"
   ]
  },
  {
   "cell_type": "code",
   "execution_count": 761,
   "metadata": {},
   "outputs": [
    {
     "data": {
      "text/plain": [
       "True"
      ]
     },
     "execution_count": 761,
     "metadata": {},
     "output_type": "execute_result"
    }
   ],
   "source": [
    "# the lengths should be difference\n",
    "df2_twitter_archive_enhanced.shape[0] != df_twitter_archive_enhanced.shape[0]"
   ]
  },
  {
   "cell_type": "markdown",
   "metadata": {},
   "source": [
    "## `rating_numerator` has anomalous values >= 50 which are outliers."
   ]
  },
  {
   "cell_type": "markdown",
   "metadata": {},
   "source": [
    "### Define"
   ]
  },
  {
   "cell_type": "markdown",
   "metadata": {},
   "source": [
    "> remvoe all observations have `rating_numerator` >= 50."
   ]
  },
  {
   "cell_type": "markdown",
   "metadata": {},
   "source": [
    "### Code"
   ]
  },
  {
   "cell_type": "code",
   "execution_count": 762,
   "metadata": {},
   "outputs": [],
   "source": [
    "df2_twitter_archive_enhanced.drop(\n",
    "    df2_twitter_archive_enhanced[df2_twitter_archive_enhanced.rating_numerator >= 50].index\n",
    ", inplace=True)"
   ]
  },
  {
   "cell_type": "markdown",
   "metadata": {},
   "source": [
    "### Test"
   ]
  },
  {
   "cell_type": "code",
   "execution_count": 763,
   "metadata": {},
   "outputs": [
    {
     "data": {
      "text/plain": [
       "rating_numerator\n",
       "0       2\n",
       "1       8\n",
       "2       9\n",
       "3      19\n",
       "4      15\n",
       "5      37\n",
       "6      32\n",
       "7      54\n",
       "8     102\n",
       "9     156\n",
       "10    461\n",
       "11    463\n",
       "12    558\n",
       "13    351\n",
       "14     54\n",
       "15      2\n",
       "17      1\n",
       "26      1\n",
       "27      1\n",
       "Name: rating_numerator, dtype: int64"
      ]
     },
     "execution_count": 763,
     "metadata": {},
     "output_type": "execute_result"
    }
   ],
   "source": [
    "df2_twitter_archive_enhanced.groupby('rating_numerator').rating_numerator.count()"
   ]
  },
  {
   "cell_type": "markdown",
   "metadata": {},
   "source": [
    "## There are 156 tweets as retweets."
   ]
  },
  {
   "cell_type": "markdown",
   "metadata": {},
   "source": [
    "### Define"
   ]
  },
  {
   "cell_type": "markdown",
   "metadata": {},
   "source": [
    "> remove all observations which are actually retweets."
   ]
  },
  {
   "cell_type": "markdown",
   "metadata": {},
   "source": [
    "### Code"
   ]
  },
  {
   "cell_type": "code",
   "execution_count": 764,
   "metadata": {},
   "outputs": [],
   "source": [
    "df2_twitter_archive_enhanced.drop(\n",
    "    df2_twitter_archive_enhanced[\n",
    "        df2_twitter_archive_enhanced.retweeted_status_id.isin(df2_twitter_archive_enhanced.tweet_id)\n",
    "    ].index,\n",
    "    inplace=True\n",
    ")"
   ]
  },
  {
   "cell_type": "markdown",
   "metadata": {},
   "source": [
    "### Test"
   ]
  },
  {
   "cell_type": "code",
   "execution_count": 765,
   "metadata": {
    "scrolled": true
   },
   "outputs": [
    {
     "data": {
      "text/plain": [
       "True"
      ]
     },
     "execution_count": 765,
     "metadata": {},
     "output_type": "execute_result"
    }
   ],
   "source": [
    "df2_twitter_archive_enhanced.shape[0] != df_twitter_archive_enhanced.shape[0]"
   ]
  },
  {
   "cell_type": "markdown",
   "metadata": {},
   "source": [
    "<h3 id=\"-Gather\" style=\"\n",
    "    background-color: #bbb;\n",
    "    color: #fff;\n",
    "    padding: 10px 5px;\n",
    "\">image_predictions table</h3>"
   ]
  },
  {
   "cell_type": "markdown",
   "metadata": {},
   "source": [
    "## there are 324 observations are not predected as a dog."
   ]
  },
  {
   "cell_type": "markdown",
   "metadata": {},
   "source": [
    "### Define"
   ]
  },
  {
   "cell_type": "markdown",
   "metadata": {},
   "source": [
    "> remove all observations were not predected as a dog."
   ]
  },
  {
   "cell_type": "markdown",
   "metadata": {},
   "source": [
    "### Code"
   ]
  },
  {
   "cell_type": "code",
   "execution_count": 766,
   "metadata": {},
   "outputs": [],
   "source": [
    "df2_image_predictions.drop(\n",
    "    df2_image_predictions.query('p1_dog == False & p2_dog == False & p3_dog == False').index\n",
    "    , inplace=True\n",
    ")"
   ]
  },
  {
   "cell_type": "markdown",
   "metadata": {},
   "source": [
    "### Test"
   ]
  },
  {
   "cell_type": "code",
   "execution_count": 767,
   "metadata": {},
   "outputs": [
    {
     "data": {
      "text/plain": [
       "True"
      ]
     },
     "execution_count": 767,
     "metadata": {},
     "output_type": "execute_result"
    }
   ],
   "source": [
    "# they should be not equal\n",
    "df2_image_predictions.shape[0] != df_image_predictions.shape[0]"
   ]
  },
  {
   "cell_type": "markdown",
   "metadata": {},
   "source": [
    "<h3 id=\"-Gather\" style=\"\n",
    "    background-color: #bbb;\n",
    "    color: #fff;\n",
    "    padding: 10px 5px;\n",
    "\">twitter_archive_enhanced table</h3>"
   ]
  },
  {
   "cell_type": "markdown",
   "metadata": {},
   "source": [
    "## There are columns should be droped becuase either they have 1 repeated value or nothing."
   ]
  },
  {
   "cell_type": "markdown",
   "metadata": {},
   "source": [
    "### Define"
   ]
  },
  {
   "cell_type": "markdown",
   "metadata": {},
   "source": [
    "> remove all columns that have 1 repeatted value or nothing."
   ]
  },
  {
   "cell_type": "markdown",
   "metadata": {},
   "source": [
    "### Code"
   ]
  },
  {
   "cell_type": "code",
   "execution_count": 768,
   "metadata": {
    "scrolled": true
   },
   "outputs": [],
   "source": [
    "cols = []\n",
    "for col in df2_tweets.columns:\n",
    "    if(df2_tweets[col].value_counts().count() <=1):\n",
    "        cols.append(col)\n"
   ]
  },
  {
   "cell_type": "code",
   "execution_count": 769,
   "metadata": {},
   "outputs": [],
   "source": [
    "df2_tweets.drop(cols, axis=1, inplace=True)"
   ]
  },
  {
   "cell_type": "markdown",
   "metadata": {},
   "source": [
    "### Test"
   ]
  },
  {
   "cell_type": "code",
   "execution_count": 770,
   "metadata": {},
   "outputs": [
    {
     "name": "stdout",
     "output_type": "stream",
     "text": [
      "2334 \t created_at\n",
      "2240 \t entities\n",
      "1819 \t extended_entities\n",
      "1988 \t favorite_count\n",
      "2334 \t id\n",
      "2334 \t id_str\n",
      "30 \t in_reply_to_screen_name\n",
      "76 \t in_reply_to_status_id\n",
      "76 \t in_reply_to_status_id_str\n",
      "30 \t in_reply_to_user_id\n",
      "30 \t in_reply_to_user_id_str\n",
      "2 \t is_quote_status\n",
      "9 \t lang\n",
      "24 \t quoted_status\n",
      "26 \t quoted_status_id\n",
      "26 \t quoted_status_id_str\n",
      "1746 \t retweet_count\n",
      "165 \t retweeted_status\n",
      "4 \t source\n",
      "2334 \t text\n",
      "2 \t truncated\n",
      "89 \t user\n"
     ]
    }
   ],
   "source": [
    "for col in df2_tweets.columns:\n",
    "    print(df2_tweets[col].value_counts().count(), '\\t', col)"
   ]
  },
  {
   "cell_type": "markdown",
   "metadata": {},
   "source": [
    "<h3 id=\"-Gather\" style=\"\n",
    "    background-color: #bbb;\n",
    "    color: #fff;\n",
    "    padding: 10px 5px;\n",
    "\">Tidiness</h3>"
   ]
  },
  {
   "cell_type": "markdown",
   "metadata": {},
   "source": [
    "## all unwanted columns of `tweets` should be removed.\n"
   ]
  },
  {
   "cell_type": "code",
   "execution_count": 771,
   "metadata": {},
   "outputs": [],
   "source": [
    "df2_tweets.drop(\n",
    "    df2_tweets.columns.difference(['id', 'favorite_count', 'retweet_count']), axis=1, inplace=True\n",
    ")"
   ]
  },
  {
   "cell_type": "markdown",
   "metadata": {},
   "source": [
    "## ## all unwanted columns of `twitter_archive_enhanced` should be removed.\n"
   ]
  },
  {
   "cell_type": "code",
   "execution_count": 772,
   "metadata": {},
   "outputs": [],
   "source": [
    "df2_twitter_archive_enhanced.drop(\n",
    "    ['in_reply_to_status_id',\n",
    "    'in_reply_to_user_id',\n",
    "    'retweeted_status_id',\n",
    "    'retweeted_status_user_id',\n",
    "    'retweeted_status_timestamp'], axis=1, inplace=True\n",
    ")"
   ]
  },
  {
   "cell_type": "markdown",
   "metadata": {},
   "source": [
    "## join all tables to create `twitter_archive_master.csv`."
   ]
  },
  {
   "cell_type": "code",
   "execution_count": 773,
   "metadata": {},
   "outputs": [],
   "source": [
    "df2_tweets.rename({'id':'tweet_id'}, axis=1, inplace=True)"
   ]
  },
  {
   "cell_type": "code",
   "execution_count": 774,
   "metadata": {},
   "outputs": [],
   "source": [
    "df_twitter_archive_master = df2_image_predictions.merge(\n",
    "    df2_tweets, on='tweet_id', how='outer'\n",
    ").merge(\n",
    "    df2_twitter_archive_enhanced, on='tweet_id', how='outer'\n",
    ")"
   ]
  },
  {
   "cell_type": "code",
   "execution_count": 780,
   "metadata": {},
   "outputs": [],
   "source": [
    "df2_twitter_archive_master = df_twitter_archive_master.copy()"
   ]
  },
  {
   "cell_type": "markdown",
   "metadata": {},
   "source": [
    "## `doggo`, `floofer`, `pupper` & `puppo` columns of \"twitter_archive_enhanced\" have to be values in the new column called `type`.\n"
   ]
  },
  {
   "cell_type": "code",
   "execution_count": 782,
   "metadata": {},
   "outputs": [],
   "source": [
    "value_vars = ['doggo','floofer','pupper','puppo']\n",
    "cols = df2_twitter_archive_master.columns.difference(value_vars)\n",
    "\n",
    "df2_twitter_archive_master = df2_twitter_archive_master.melt(\n",
    "    id_vars=cols, value_vars=value_vars, var_name='stage', value_name='stage_value'\n",
    ")"
   ]
  },
  {
   "cell_type": "code",
   "execution_count": 788,
   "metadata": {},
   "outputs": [],
   "source": [
    "df2_twitter_archive_master.to_csv('twitter_archive_master.csv')"
   ]
  }
 ],
 "metadata": {
  "kernelspec": {
   "display_name": "Python 3",
   "language": "python",
   "name": "python3"
  },
  "language_info": {
   "codemirror_mode": {
    "name": "ipython",
    "version": 3
   },
   "file_extension": ".py",
   "mimetype": "text/x-python",
   "name": "python",
   "nbconvert_exporter": "python",
   "pygments_lexer": "ipython3",
   "version": "3.7.2"
  }
 },
 "nbformat": 4,
 "nbformat_minor": 2
}
