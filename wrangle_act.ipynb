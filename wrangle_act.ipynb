{
 "cells": [
  {
   "cell_type": "markdown",
   "metadata": {},
   "source": [
    "# Wrangle and Analyze Data\n",
    "\n",
    "## Table of Contents\n",
    "- [Gather](#gather)\n",
    "- [Assess](#assess)\n",
    "- [Clean](#clean)"
   ]
  },
  {
   "cell_type": "code",
   "execution_count": 10,
   "metadata": {},
   "outputs": [],
   "source": [
    "import pandas as pd\n",
    "import numpy as np\n",
    "import requests\n",
    "import os\n",
    "import tweepy\n",
    "import json\n",
    "import config"
   ]
  },
  {
   "cell_type": "markdown",
   "metadata": {},
   "source": [
    "<a id='gather'></a>\n",
    "<h2 id=\"-Gather\" style=\"\n",
    "    background-color: #555;\n",
    "    color: #eee;\n",
    "    padding: 10px 5px;\n",
    "\">Gather</h2>"
   ]
  },
  {
   "cell_type": "code",
   "execution_count": 2,
   "metadata": {},
   "outputs": [],
   "source": [
    "df_twitter_archive_enhanced = pd.read_csv('twitter-archive-enhanced.csv')"
   ]
  },
  {
   "cell_type": "code",
   "execution_count": 3,
   "metadata": {},
   "outputs": [],
   "source": [
    "url = 'https://d17h27t6h515a5.cloudfront.net/topher/2017/August/599fd2ad_image-predictions/image-predictions.tsv'\n",
    "response = requests.get(url)\n",
    "\n",
    "with open(os.path.join(os.getcwd(),'image-predictions.tsv'), mode='wb') as file:\n",
    "    file.write(response.content)\n",
    "\n",
    "df_image_predictions = pd.read_csv('image-predictions.tsv', sep='\\t')"
   ]
  },
  {
   "cell_type": "code",
   "execution_count": 19,
   "metadata": {},
   "outputs": [],
   "source": [
    "auth = tweepy.OAuthHandler(config.consumer_key, config.consumer_secret)\n",
    "auth.set_access_token(config.access_token, config.access_secret)\n",
    "\n",
    "api = tweepy.API(auth)"
   ]
  },
  {
   "cell_type": "code",
   "execution_count": 20,
   "metadata": {},
   "outputs": [],
   "source": [
    "x = api.get_status('892420643555336193', tweet_mode='extended')"
   ]
  },
  {
   "cell_type": "code",
   "execution_count": 39,
   "metadata": {},
   "outputs": [
    {
     "name": "stdout",
     "output_type": "stream",
     "text": [
      "<class 'pandas.core.frame.DataFrame'>\n",
      "RangeIndex: 1 entries, 0 to 0\n",
      "Data columns (total 73 columns):\n",
      "contributors                               0 non-null object\n",
      "coordinates                                0 non-null object\n",
      "created_at                                 1 non-null object\n",
      "display_text_range                         1 non-null object\n",
      "entities.hashtags                          1 non-null object\n",
      "entities.media                             1 non-null object\n",
      "entities.symbols                           1 non-null object\n",
      "entities.urls                              1 non-null object\n",
      "entities.user_mentions                     1 non-null object\n",
      "extended_entities.media                    1 non-null object\n",
      "favorite_count                             1 non-null int64\n",
      "favorited                                  1 non-null bool\n",
      "full_text                                  1 non-null object\n",
      "geo                                        0 non-null object\n",
      "id                                         1 non-null int64\n",
      "id_str                                     1 non-null object\n",
      "in_reply_to_screen_name                    0 non-null object\n",
      "in_reply_to_status_id                      0 non-null object\n",
      "in_reply_to_status_id_str                  0 non-null object\n",
      "in_reply_to_user_id                        0 non-null object\n",
      "in_reply_to_user_id_str                    0 non-null object\n",
      "is_quote_status                            1 non-null bool\n",
      "lang                                       1 non-null object\n",
      "place                                      0 non-null object\n",
      "possibly_sensitive                         1 non-null bool\n",
      "possibly_sensitive_appealable              1 non-null bool\n",
      "retweet_count                              1 non-null int64\n",
      "retweeted                                  1 non-null bool\n",
      "source                                     1 non-null object\n",
      "truncated                                  1 non-null bool\n",
      "user.contributors_enabled                  1 non-null bool\n",
      "user.created_at                            1 non-null object\n",
      "user.default_profile                       1 non-null bool\n",
      "user.default_profile_image                 1 non-null bool\n",
      "user.description                           1 non-null object\n",
      "user.entities.description.urls             1 non-null object\n",
      "user.entities.url.urls                     1 non-null object\n",
      "user.favourites_count                      1 non-null int64\n",
      "user.follow_request_sent                   1 non-null bool\n",
      "user.followers_count                       1 non-null int64\n",
      "user.following                             1 non-null bool\n",
      "user.friends_count                         1 non-null int64\n",
      "user.geo_enabled                           1 non-null bool\n",
      "user.has_extended_profile                  1 non-null bool\n",
      "user.id                                    1 non-null int64\n",
      "user.id_str                                1 non-null object\n",
      "user.is_translation_enabled                1 non-null bool\n",
      "user.is_translator                         1 non-null bool\n",
      "user.lang                                  0 non-null object\n",
      "user.listed_count                          1 non-null int64\n",
      "user.location                              1 non-null object\n",
      "user.name                                  1 non-null object\n",
      "user.notifications                         1 non-null bool\n",
      "user.profile_background_color              1 non-null object\n",
      "user.profile_background_image_url          1 non-null object\n",
      "user.profile_background_image_url_https    1 non-null object\n",
      "user.profile_background_tile               1 non-null bool\n",
      "user.profile_banner_url                    1 non-null object\n",
      "user.profile_image_url                     1 non-null object\n",
      "user.profile_image_url_https               1 non-null object\n",
      "user.profile_link_color                    1 non-null object\n",
      "user.profile_sidebar_border_color          1 non-null object\n",
      "user.profile_sidebar_fill_color            1 non-null object\n",
      "user.profile_text_color                    1 non-null object\n",
      "user.profile_use_background_image          1 non-null bool\n",
      "user.protected                             1 non-null bool\n",
      "user.screen_name                           1 non-null object\n",
      "user.statuses_count                        1 non-null int64\n",
      "user.time_zone                             0 non-null object\n",
      "user.translator_type                       1 non-null object\n",
      "user.url                                   1 non-null object\n",
      "user.utc_offset                            0 non-null object\n",
      "user.verified                              1 non-null bool\n",
      "dtypes: bool(20), int64(9), object(44)\n",
      "memory usage: 524.0+ bytes\n"
     ]
    }
   ],
   "source": [
    "# x._json\n",
    "pd.io.json.json_normalize(x._json,).info()"
   ]
  },
  {
   "cell_type": "markdown",
   "metadata": {},
   "source": [
    "<a id='assess'></a>\n",
    "<h2 id=\"-Gather\" style=\"\n",
    "    background-color: #555;\n",
    "    color: #eee;\n",
    "    padding: 10px 5px;\n",
    "\">Assess</h2>"
   ]
  },
  {
   "cell_type": "markdown",
   "metadata": {},
   "source": [
    "#### Quality\n",
    "##### `name` table\n",
    "- abc."
   ]
  },
  {
   "cell_type": "markdown",
   "metadata": {},
   "source": [
    "#### Tidiness\n",
    "- abc."
   ]
  },
  {
   "cell_type": "markdown",
   "metadata": {},
   "source": [
    "<a id='clean'></a>\n",
    "<h2 id=\"-Gather\" style=\"\n",
    "    background-color: #555;\n",
    "    color: #eee;\n",
    "    padding: 10px 5px;\n",
    "\">Clean</h2>"
   ]
  },
  {
   "cell_type": "code",
   "execution_count": null,
   "metadata": {},
   "outputs": [],
   "source": []
  }
 ],
 "metadata": {
  "kernelspec": {
   "display_name": "Python 3",
   "language": "python",
   "name": "python3"
  },
  "language_info": {
   "codemirror_mode": {
    "name": "ipython",
    "version": 3
   },
   "file_extension": ".py",
   "mimetype": "text/x-python",
   "name": "python",
   "nbconvert_exporter": "python",
   "pygments_lexer": "ipython3",
   "version": "3.7.2"
  }
 },
 "nbformat": 4,
 "nbformat_minor": 2
}
