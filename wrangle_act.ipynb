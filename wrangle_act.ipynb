{
 "cells": [
  {
   "cell_type": "markdown",
   "metadata": {},
   "source": [
    "# Wrangle and Analyze Data\n",
    "\n",
    "## Table of Contents\n",
    "- [Gather](#gather)\n",
    "- [Assess](#assess)\n",
    "- [Clean](#clean)"
   ]
  },
  {
   "cell_type": "code",
   "execution_count": 1,
   "metadata": {},
   "outputs": [],
   "source": [
    "import pandas as pd\n",
    "import numpy as np\n",
    "import requests\n",
    "import os\n",
    "import tweepy\n",
    "import json\n",
    "import config\n",
    "import matplotlib.pyplot as plt\n",
    "%matplotlib inline"
   ]
  },
  {
   "cell_type": "markdown",
   "metadata": {},
   "source": [
    "<a id='gather'></a>\n",
    "<h2 id=\"-Gather\" style=\"\n",
    "    background-color: #555;\n",
    "    color: #eee;\n",
    "    padding: 10px 5px;\n",
    "\">Gather</h2>"
   ]
  },
  {
   "cell_type": "code",
   "execution_count": 2,
   "metadata": {},
   "outputs": [],
   "source": [
    "# SOURCE 1: reading the data \"archive\".\n",
    "\n",
    "df_archive = pd.read_csv('twitter-archive-enhanced.csv')"
   ]
  },
  {
   "cell_type": "code",
   "execution_count": 3,
   "metadata": {},
   "outputs": [],
   "source": [
    "# SOURCE 2: downloading, writeing & reading the data \"predictions\".\n",
    "\n",
    "url = 'https://d17h27t6h515a5.cloudfront.net/topher/2017/August/599fd2ad_image-predictions/image-predictions.tsv'\n",
    "response = requests.get(url)\n",
    "\n",
    "with open(os.path.join(os.getcwd(),'image-predictions.tsv'), mode='wb') as file:\n",
    "    file.write(response.content)\n",
    "\n",
    "df_predictions = pd.read_csv('image-predictions.tsv', sep='\\t')"
   ]
  },
  {
   "cell_type": "code",
   "execution_count": 4,
   "metadata": {},
   "outputs": [],
   "source": [
    "# SOURCE 3: retrieving the data from twitter via APIs.\n",
    "\n",
    "auth = tweepy.OAuthHandler(config.consumer_key, config.consumer_secret)\n",
    "auth.set_access_token(config.access_token, config.access_secret)\n",
    "\n",
    "api = tweepy.API(auth, wait_on_rate_limit=True, wait_on_rate_limit_notify=True)"
   ]
  },
  {
   "cell_type": "code",
   "execution_count": 5,
   "metadata": {
    "scrolled": true
   },
   "outputs": [],
   "source": [
    "tweet_id_list = pd.concat( [df_predictions['tweet_id'], \n",
    "                          df_archive['tweet_id']], ignore_index=True)\n",
    "\n",
    "tweet_id_list = tweet_id_list.drop_duplicates()"
   ]
  },
  {
   "cell_type": "code",
   "execution_count": 6,
   "metadata": {},
   "outputs": [],
   "source": [
    "# this function just to calculate the performance \n",
    "time_prv_step = time_step = None\n",
    "def performance(count,iterations):\n",
    "    progress = round((count/iterations)*100,2)\n",
    "    print('processing {}%'.format(progress), end='\\r')\n",
    "    if(count%round(iterations/10) == 0): \n",
    "        global time_prv_step\n",
    "        global time_step\n",
    "        \n",
    "        time_prv_step = pd.Timestamp.now() if count == 0 else time_step\n",
    "        time_step = pd.Timestamp.now()\n",
    "        \n",
    "        duration = (time_step - time_prv_step).total_seconds()\n",
    "        print('{} samples, during {}s'.format(count, round(duration,2) ))\n",
    "        time_start = time_step"
   ]
  },
  {
   "cell_type": "code",
   "execution_count": 7,
   "metadata": {
    "scrolled": true
   },
   "outputs": [
    {
     "name": "stdout",
     "output_type": "stream",
     "text": [
      "0 samples, during 0.0s\n",
      "236 samples, during 222.07s\n",
      "472 samples, during 219.68s\n",
      "680055455951884288: [{'code': 144, 'message': 'No status found with that ID.'}]\n",
      "708 samples, during 242.47s\n",
      "944 samples, during 266.55s\n",
      "1180 samples, during 264.89s\n",
      "754011816964026368: [{'code': 144, 'message': 'No status found with that ID.'}]\n",
      "1416 samples, during 261.54s\n",
      "802247111496568832: [{'code': 144, 'message': 'No status found with that ID.'}]\n",
      "1652 samples, during 242.69s\n",
      "829374341691346946: [{'code': 144, 'message': 'No status found with that ID.'}]\n",
      "837012587749474308: [{'code': 144, 'message': 'No status found with that ID.'}]\n",
      "837366284874571778: [{'code': 144, 'message': 'No status found with that ID.'}]\n",
      "842892208864923648: [{'code': 144, 'message': 'No status found with that ID.'}]\n",
      "844704788403113984: [{'code': 144, 'message': 'No status found with that ID.'}]\n",
      "1888 samples, during 243.05s\n",
      "851953902622658560: [{'code': 144, 'message': 'No status found with that ID.'}]\n",
      "861769973181624320: [{'code': 144, 'message': 'No status found with that ID.'}]\n",
      "872261713294495745: [{'code': 144, 'message': 'No status found with that ID.'}]\n",
      "873697596434513921: [{'code': 144, 'message': 'No status found with that ID.'}]\n",
      "888202515573088257: [{'code': 144, 'message': 'No status found with that ID.'}]\n",
      "872668790621863937: [{'code': 144, 'message': 'No status found with that ID.'}]\n",
      "869988702071779329: [{'code': 144, 'message': 'No status found with that ID.'}]\n",
      "866816280283807744: [{'code': 144, 'message': 'No status found with that ID.'}]\n",
      "856602993587888130: [{'code': 144, 'message': 'No status found with that ID.'}]\n",
      "845459076796616705: [{'code': 144, 'message': 'No status found with that ID.'}]\n",
      "2124 samples, during 440.45s\n",
      "827228250799742977: [{'code': 144, 'message': 'No status found with that ID.'}]\n",
      "812747805718642688: [{'code': 144, 'message': 'No status found with that ID.'}]\n",
      "775096608509886464: [{'code': 144, 'message': 'No status found with that ID.'}]\n",
      "770743923962707968: [{'code': 144, 'message': 'No status found with that ID.'}]\n",
      "processing 99.96%\r"
     ]
    },
    {
     "ename": "NameError",
     "evalue": "name 'df_tweets' is not defined",
     "output_type": "error",
     "traceback": [
      "\u001b[0;31m---------------------------------------------------------------------------\u001b[0m",
      "\u001b[0;31mNameError\u001b[0m                                 Traceback (most recent call last)",
      "\u001b[0;32m<ipython-input-7-1da2b7be33ea>\u001b[0m in \u001b[0;36m<module>\u001b[0;34m\u001b[0m\n\u001b[1;32m     12\u001b[0m         \u001b[0mtweet_id_list_error\u001b[0m\u001b[0;34m.\u001b[0m\u001b[0mappend\u001b[0m\u001b[0;34m(\u001b[0m\u001b[0mtweet_id\u001b[0m\u001b[0;34m)\u001b[0m\u001b[0;34m\u001b[0m\u001b[0;34m\u001b[0m\u001b[0m\n\u001b[1;32m     13\u001b[0m \u001b[0;34m\u001b[0m\u001b[0m\n\u001b[0;32m---> 14\u001b[0;31m \u001b[0mdf_tweets\u001b[0m \u001b[0;34m=\u001b[0m \u001b[0mpd\u001b[0m\u001b[0;34m.\u001b[0m\u001b[0mDataFrame\u001b[0m\u001b[0;34m(\u001b[0m\u001b[0mdf_tweets\u001b[0m\u001b[0;34m)\u001b[0m\u001b[0;34m\u001b[0m\u001b[0;34m\u001b[0m\u001b[0m\n\u001b[0m\u001b[1;32m     15\u001b[0m \u001b[0mdf_tweets\u001b[0m\u001b[0;34m.\u001b[0m\u001b[0mto_csv\u001b[0m\u001b[0;34m(\u001b[0m\u001b[0;34m'tweet_json.txt'\u001b[0m\u001b[0;34m,\u001b[0m \u001b[0mindex\u001b[0m\u001b[0;34m=\u001b[0m\u001b[0;32mFalse\u001b[0m\u001b[0;34m)\u001b[0m\u001b[0;34m\u001b[0m\u001b[0;34m\u001b[0m\u001b[0m\n",
      "\u001b[0;31mNameError\u001b[0m: name 'df_tweets' is not defined"
     ]
    }
   ],
   "source": [
    "tweets = []\n",
    "tweet_id_list_error = []\n",
    "iterations = tweet_id_list.shape[0]\n",
    "count = 0\n",
    "for tweet_id in tweet_id_list:\n",
    "    performance(count, iterations)\n",
    "    count += 1\n",
    "    try:\n",
    "        tweets.append(api.get_status(tweet_id)._json)\n",
    "    except Exception as e:\n",
    "        print(str(tweet_id) + \": \" + str(e))\n",
    "        tweet_id_list_error.append(tweet_id)\n",
    "\n",
    "# df_tweets = pd.DataFrame(df_tweets)\n",
    "# df_tweets.to_csv('tweet_json.txt', index=False)"
   ]
  },
  {
   "cell_type": "code",
   "execution_count": 7,
   "metadata": {},
   "outputs": [
    {
     "ename": "NameError",
     "evalue": "name 'tweets' is not defined",
     "output_type": "error",
     "traceback": [
      "\u001b[0;31m---------------------------------------------------------------------------\u001b[0m",
      "\u001b[0;31mNameError\u001b[0m                                 Traceback (most recent call last)",
      "\u001b[0;32m<ipython-input-7-37de1d5577b1>\u001b[0m in \u001b[0;36m<module>\u001b[0;34m\u001b[0m\n\u001b[0;32m----> 1\u001b[0;31m \u001b[0mtweets\u001b[0m \u001b[0;34m=\u001b[0m \u001b[0mpd\u001b[0m\u001b[0;34m.\u001b[0m\u001b[0mDataFrame\u001b[0m\u001b[0;34m(\u001b[0m\u001b[0mtweets\u001b[0m\u001b[0;34m)\u001b[0m\u001b[0;34m\u001b[0m\u001b[0;34m\u001b[0m\u001b[0m\n\u001b[0m\u001b[1;32m      2\u001b[0m \u001b[0mtweets\u001b[0m\u001b[0;34m.\u001b[0m\u001b[0mto_json\u001b[0m\u001b[0;34m(\u001b[0m\u001b[0;34m'tweet_json.txt'\u001b[0m\u001b[0;34m,\u001b[0m \u001b[0morient\u001b[0m\u001b[0;34m=\u001b[0m\u001b[0;34m'records'\u001b[0m\u001b[0;34m)\u001b[0m\u001b[0;34m\u001b[0m\u001b[0;34m\u001b[0m\u001b[0m\n",
      "\u001b[0;31mNameError\u001b[0m: name 'tweets' is not defined"
     ]
    }
   ],
   "source": [
    "tweets = pd.DataFrame(tweets)\n",
    "tweets.to_json('tweet_json.txt', orient='records')"
   ]
  },
  {
   "cell_type": "code",
   "execution_count": 7,
   "metadata": {},
   "outputs": [],
   "source": [
    "df_tweets = pd.read_json('tweet_json.txt')"
   ]
  },
  {
   "cell_type": "markdown",
   "metadata": {},
   "source": [
    "> There are 22 tweets that no longer exist."
   ]
  },
  {
   "cell_type": "markdown",
   "metadata": {},
   "source": [
    "<a id='assess'></a>\n",
    "<h2 id=\"-Gather\" style=\"\n",
    "    background-color: #555;\n",
    "    color: #eee;\n",
    "    padding: 10px 5px;\n",
    "\">Assess</h2>"
   ]
  },
  {
   "cell_type": "markdown",
   "metadata": {},
   "source": [
    "<h3 id=\"-Gather\" style=\"\n",
    "    background-color: #bbb;\n",
    "    color: #fff;\n",
    "    padding: 10px 5px;\n",
    "\">twitter_archive_enhanced table</h3>"
   ]
  },
  {
   "cell_type": "code",
   "execution_count": 8,
   "metadata": {
    "scrolled": true
   },
   "outputs": [
    {
     "data": {
      "text/html": [
       "<div>\n",
       "<style scoped>\n",
       "    .dataframe tbody tr th:only-of-type {\n",
       "        vertical-align: middle;\n",
       "    }\n",
       "\n",
       "    .dataframe tbody tr th {\n",
       "        vertical-align: top;\n",
       "    }\n",
       "\n",
       "    .dataframe thead th {\n",
       "        text-align: right;\n",
       "    }\n",
       "</style>\n",
       "<table border=\"1\" class=\"dataframe\">\n",
       "  <thead>\n",
       "    <tr style=\"text-align: right;\">\n",
       "      <th></th>\n",
       "      <th>tweet_id</th>\n",
       "      <th>in_reply_to_status_id</th>\n",
       "      <th>in_reply_to_user_id</th>\n",
       "      <th>timestamp</th>\n",
       "      <th>source</th>\n",
       "      <th>text</th>\n",
       "      <th>retweeted_status_id</th>\n",
       "      <th>retweeted_status_user_id</th>\n",
       "      <th>retweeted_status_timestamp</th>\n",
       "      <th>expanded_urls</th>\n",
       "      <th>rating_numerator</th>\n",
       "      <th>rating_denominator</th>\n",
       "      <th>name</th>\n",
       "      <th>doggo</th>\n",
       "      <th>floofer</th>\n",
       "      <th>pupper</th>\n",
       "      <th>puppo</th>\n",
       "    </tr>\n",
       "  </thead>\n",
       "  <tbody>\n",
       "    <tr>\n",
       "      <th>2100</th>\n",
       "      <td>670704688707301377</td>\n",
       "      <td>NaN</td>\n",
       "      <td>NaN</td>\n",
       "      <td>2015-11-28 20:43:53 +0000</td>\n",
       "      <td>&lt;a href=\"http://twitter.com/download/iphone\" r...</td>\n",
       "      <td>Meet Danny. He's too good to look at the road ...</td>\n",
       "      <td>NaN</td>\n",
       "      <td>NaN</td>\n",
       "      <td>NaN</td>\n",
       "      <td>https://twitter.com/dog_rates/status/670704688...</td>\n",
       "      <td>6</td>\n",
       "      <td>10</td>\n",
       "      <td>Danny</td>\n",
       "      <td>None</td>\n",
       "      <td>None</td>\n",
       "      <td>None</td>\n",
       "      <td>None</td>\n",
       "    </tr>\n",
       "    <tr>\n",
       "      <th>1991</th>\n",
       "      <td>672622327801233409</td>\n",
       "      <td>NaN</td>\n",
       "      <td>NaN</td>\n",
       "      <td>2015-12-04 03:43:54 +0000</td>\n",
       "      <td>&lt;a href=\"http://twitter.com/download/iphone\" r...</td>\n",
       "      <td>This lil pupper is sad because we haven't foun...</td>\n",
       "      <td>NaN</td>\n",
       "      <td>NaN</td>\n",
       "      <td>NaN</td>\n",
       "      <td>https://twitter.com/dog_rates/status/672622327...</td>\n",
       "      <td>12</td>\n",
       "      <td>10</td>\n",
       "      <td>None</td>\n",
       "      <td>None</td>\n",
       "      <td>None</td>\n",
       "      <td>pupper</td>\n",
       "      <td>None</td>\n",
       "    </tr>\n",
       "    <tr>\n",
       "      <th>1499</th>\n",
       "      <td>692187005137076224</td>\n",
       "      <td>NaN</td>\n",
       "      <td>NaN</td>\n",
       "      <td>2016-01-27 03:26:56 +0000</td>\n",
       "      <td>&lt;a href=\"http://twitter.com/download/iphone\" r...</td>\n",
       "      <td>This is a rare Arctic Wubberfloof. Unamused by...</td>\n",
       "      <td>NaN</td>\n",
       "      <td>NaN</td>\n",
       "      <td>NaN</td>\n",
       "      <td>https://twitter.com/dog_rates/status/692187005...</td>\n",
       "      <td>12</td>\n",
       "      <td>10</td>\n",
       "      <td>a</td>\n",
       "      <td>None</td>\n",
       "      <td>None</td>\n",
       "      <td>None</td>\n",
       "      <td>None</td>\n",
       "    </tr>\n",
       "    <tr>\n",
       "      <th>1170</th>\n",
       "      <td>720775346191278080</td>\n",
       "      <td>NaN</td>\n",
       "      <td>NaN</td>\n",
       "      <td>2016-04-15 00:46:48 +0000</td>\n",
       "      <td>&lt;a href=\"http://twitter.com/download/iphone\" r...</td>\n",
       "      <td>This is Berkeley. He's in a predicament. 10/10...</td>\n",
       "      <td>NaN</td>\n",
       "      <td>NaN</td>\n",
       "      <td>NaN</td>\n",
       "      <td>https://twitter.com/dog_rates/status/720775346...</td>\n",
       "      <td>10</td>\n",
       "      <td>10</td>\n",
       "      <td>Berkeley</td>\n",
       "      <td>None</td>\n",
       "      <td>None</td>\n",
       "      <td>None</td>\n",
       "      <td>None</td>\n",
       "    </tr>\n",
       "    <tr>\n",
       "      <th>1523</th>\n",
       "      <td>690607260360429569</td>\n",
       "      <td>6.903413e+17</td>\n",
       "      <td>467036706.0</td>\n",
       "      <td>2016-01-22 18:49:36 +0000</td>\n",
       "      <td>&lt;a href=\"http://twitter.com/download/iphone\" r...</td>\n",
       "      <td>12/10 @LightningHoltt</td>\n",
       "      <td>NaN</td>\n",
       "      <td>NaN</td>\n",
       "      <td>NaN</td>\n",
       "      <td>NaN</td>\n",
       "      <td>12</td>\n",
       "      <td>10</td>\n",
       "      <td>None</td>\n",
       "      <td>None</td>\n",
       "      <td>None</td>\n",
       "      <td>None</td>\n",
       "      <td>None</td>\n",
       "    </tr>\n",
       "    <tr>\n",
       "      <th>1478</th>\n",
       "      <td>693590843962331137</td>\n",
       "      <td>NaN</td>\n",
       "      <td>NaN</td>\n",
       "      <td>2016-01-31 00:25:18 +0000</td>\n",
       "      <td>&lt;a href=\"http://twitter.com/download/iphone\" r...</td>\n",
       "      <td>Meet Phil. He's big af. Currently destroying t...</td>\n",
       "      <td>NaN</td>\n",
       "      <td>NaN</td>\n",
       "      <td>NaN</td>\n",
       "      <td>https://twitter.com/dog_rates/status/693590843...</td>\n",
       "      <td>3</td>\n",
       "      <td>10</td>\n",
       "      <td>Phil</td>\n",
       "      <td>None</td>\n",
       "      <td>None</td>\n",
       "      <td>pupper</td>\n",
       "      <td>None</td>\n",
       "    </tr>\n",
       "    <tr>\n",
       "      <th>1806</th>\n",
       "      <td>676936541936185344</td>\n",
       "      <td>NaN</td>\n",
       "      <td>NaN</td>\n",
       "      <td>2015-12-16 01:27:03 +0000</td>\n",
       "      <td>&lt;a href=\"http://twitter.com/download/iphone\" r...</td>\n",
       "      <td>Here we see a rare pouched pupper. Ample stora...</td>\n",
       "      <td>NaN</td>\n",
       "      <td>NaN</td>\n",
       "      <td>NaN</td>\n",
       "      <td>https://twitter.com/dog_rates/status/676936541...</td>\n",
       "      <td>8</td>\n",
       "      <td>10</td>\n",
       "      <td>None</td>\n",
       "      <td>None</td>\n",
       "      <td>None</td>\n",
       "      <td>pupper</td>\n",
       "      <td>None</td>\n",
       "    </tr>\n",
       "    <tr>\n",
       "      <th>1658</th>\n",
       "      <td>683111407806746624</td>\n",
       "      <td>NaN</td>\n",
       "      <td>NaN</td>\n",
       "      <td>2016-01-02 02:23:45 +0000</td>\n",
       "      <td>&lt;a href=\"http://twitter.com/download/iphone\" r...</td>\n",
       "      <td>This is Larry. He thought the New Year's parti...</td>\n",
       "      <td>NaN</td>\n",
       "      <td>NaN</td>\n",
       "      <td>NaN</td>\n",
       "      <td>https://twitter.com/dog_rates/status/683111407...</td>\n",
       "      <td>10</td>\n",
       "      <td>10</td>\n",
       "      <td>Larry</td>\n",
       "      <td>None</td>\n",
       "      <td>None</td>\n",
       "      <td>pupper</td>\n",
       "      <td>None</td>\n",
       "    </tr>\n",
       "    <tr>\n",
       "      <th>2215</th>\n",
       "      <td>668542336805281792</td>\n",
       "      <td>NaN</td>\n",
       "      <td>NaN</td>\n",
       "      <td>2015-11-22 21:31:28 +0000</td>\n",
       "      <td>&lt;a href=\"http://twitter.com/download/iphone\" r...</td>\n",
       "      <td>There's a lot going on here but in my honest o...</td>\n",
       "      <td>NaN</td>\n",
       "      <td>NaN</td>\n",
       "      <td>NaN</td>\n",
       "      <td>https://twitter.com/dog_rates/status/668542336...</td>\n",
       "      <td>10</td>\n",
       "      <td>10</td>\n",
       "      <td>None</td>\n",
       "      <td>None</td>\n",
       "      <td>None</td>\n",
       "      <td>None</td>\n",
       "      <td>None</td>\n",
       "    </tr>\n",
       "    <tr>\n",
       "      <th>2122</th>\n",
       "      <td>670403879788544000</td>\n",
       "      <td>NaN</td>\n",
       "      <td>NaN</td>\n",
       "      <td>2015-11-28 00:48:35 +0000</td>\n",
       "      <td>&lt;a href=\"http://twitter.com/download/iphone\" r...</td>\n",
       "      <td>This is Nigel. He accidentally popped his ball...</td>\n",
       "      <td>NaN</td>\n",
       "      <td>NaN</td>\n",
       "      <td>NaN</td>\n",
       "      <td>https://twitter.com/dog_rates/status/670403879...</td>\n",
       "      <td>10</td>\n",
       "      <td>10</td>\n",
       "      <td>Nigel</td>\n",
       "      <td>None</td>\n",
       "      <td>None</td>\n",
       "      <td>None</td>\n",
       "      <td>None</td>\n",
       "    </tr>\n",
       "  </tbody>\n",
       "</table>\n",
       "</div>"
      ],
      "text/plain": [
       "                tweet_id  in_reply_to_status_id  in_reply_to_user_id  \\\n",
       "2100  670704688707301377                    NaN                  NaN   \n",
       "1991  672622327801233409                    NaN                  NaN   \n",
       "1499  692187005137076224                    NaN                  NaN   \n",
       "1170  720775346191278080                    NaN                  NaN   \n",
       "1523  690607260360429569           6.903413e+17          467036706.0   \n",
       "1478  693590843962331137                    NaN                  NaN   \n",
       "1806  676936541936185344                    NaN                  NaN   \n",
       "1658  683111407806746624                    NaN                  NaN   \n",
       "2215  668542336805281792                    NaN                  NaN   \n",
       "2122  670403879788544000                    NaN                  NaN   \n",
       "\n",
       "                      timestamp  \\\n",
       "2100  2015-11-28 20:43:53 +0000   \n",
       "1991  2015-12-04 03:43:54 +0000   \n",
       "1499  2016-01-27 03:26:56 +0000   \n",
       "1170  2016-04-15 00:46:48 +0000   \n",
       "1523  2016-01-22 18:49:36 +0000   \n",
       "1478  2016-01-31 00:25:18 +0000   \n",
       "1806  2015-12-16 01:27:03 +0000   \n",
       "1658  2016-01-02 02:23:45 +0000   \n",
       "2215  2015-11-22 21:31:28 +0000   \n",
       "2122  2015-11-28 00:48:35 +0000   \n",
       "\n",
       "                                                 source  \\\n",
       "2100  <a href=\"http://twitter.com/download/iphone\" r...   \n",
       "1991  <a href=\"http://twitter.com/download/iphone\" r...   \n",
       "1499  <a href=\"http://twitter.com/download/iphone\" r...   \n",
       "1170  <a href=\"http://twitter.com/download/iphone\" r...   \n",
       "1523  <a href=\"http://twitter.com/download/iphone\" r...   \n",
       "1478  <a href=\"http://twitter.com/download/iphone\" r...   \n",
       "1806  <a href=\"http://twitter.com/download/iphone\" r...   \n",
       "1658  <a href=\"http://twitter.com/download/iphone\" r...   \n",
       "2215  <a href=\"http://twitter.com/download/iphone\" r...   \n",
       "2122  <a href=\"http://twitter.com/download/iphone\" r...   \n",
       "\n",
       "                                                   text  retweeted_status_id  \\\n",
       "2100  Meet Danny. He's too good to look at the road ...                  NaN   \n",
       "1991  This lil pupper is sad because we haven't foun...                  NaN   \n",
       "1499  This is a rare Arctic Wubberfloof. Unamused by...                  NaN   \n",
       "1170  This is Berkeley. He's in a predicament. 10/10...                  NaN   \n",
       "1523                              12/10 @LightningHoltt                  NaN   \n",
       "1478  Meet Phil. He's big af. Currently destroying t...                  NaN   \n",
       "1806  Here we see a rare pouched pupper. Ample stora...                  NaN   \n",
       "1658  This is Larry. He thought the New Year's parti...                  NaN   \n",
       "2215  There's a lot going on here but in my honest o...                  NaN   \n",
       "2122  This is Nigel. He accidentally popped his ball...                  NaN   \n",
       "\n",
       "      retweeted_status_user_id retweeted_status_timestamp  \\\n",
       "2100                       NaN                        NaN   \n",
       "1991                       NaN                        NaN   \n",
       "1499                       NaN                        NaN   \n",
       "1170                       NaN                        NaN   \n",
       "1523                       NaN                        NaN   \n",
       "1478                       NaN                        NaN   \n",
       "1806                       NaN                        NaN   \n",
       "1658                       NaN                        NaN   \n",
       "2215                       NaN                        NaN   \n",
       "2122                       NaN                        NaN   \n",
       "\n",
       "                                          expanded_urls  rating_numerator  \\\n",
       "2100  https://twitter.com/dog_rates/status/670704688...                 6   \n",
       "1991  https://twitter.com/dog_rates/status/672622327...                12   \n",
       "1499  https://twitter.com/dog_rates/status/692187005...                12   \n",
       "1170  https://twitter.com/dog_rates/status/720775346...                10   \n",
       "1523                                                NaN                12   \n",
       "1478  https://twitter.com/dog_rates/status/693590843...                 3   \n",
       "1806  https://twitter.com/dog_rates/status/676936541...                 8   \n",
       "1658  https://twitter.com/dog_rates/status/683111407...                10   \n",
       "2215  https://twitter.com/dog_rates/status/668542336...                10   \n",
       "2122  https://twitter.com/dog_rates/status/670403879...                10   \n",
       "\n",
       "      rating_denominator      name doggo floofer  pupper puppo  \n",
       "2100                  10     Danny  None    None    None  None  \n",
       "1991                  10      None  None    None  pupper  None  \n",
       "1499                  10         a  None    None    None  None  \n",
       "1170                  10  Berkeley  None    None    None  None  \n",
       "1523                  10      None  None    None    None  None  \n",
       "1478                  10      Phil  None    None  pupper  None  \n",
       "1806                  10      None  None    None  pupper  None  \n",
       "1658                  10     Larry  None    None  pupper  None  \n",
       "2215                  10      None  None    None    None  None  \n",
       "2122                  10     Nigel  None    None    None  None  "
      ]
     },
     "execution_count": 8,
     "metadata": {},
     "output_type": "execute_result"
    }
   ],
   "source": [
    "df_archive.sample(10)"
   ]
  },
  {
   "cell_type": "code",
   "execution_count": 9,
   "metadata": {
    "scrolled": true
   },
   "outputs": [
    {
     "data": {
      "text/html": [
       "<div>\n",
       "<style scoped>\n",
       "    .dataframe tbody tr th:only-of-type {\n",
       "        vertical-align: middle;\n",
       "    }\n",
       "\n",
       "    .dataframe tbody tr th {\n",
       "        vertical-align: top;\n",
       "    }\n",
       "\n",
       "    .dataframe thead th {\n",
       "        text-align: right;\n",
       "    }\n",
       "</style>\n",
       "<table border=\"1\" class=\"dataframe\">\n",
       "  <thead>\n",
       "    <tr style=\"text-align: right;\">\n",
       "      <th></th>\n",
       "      <th>tweet_id</th>\n",
       "      <th>in_reply_to_status_id</th>\n",
       "      <th>in_reply_to_user_id</th>\n",
       "      <th>retweeted_status_id</th>\n",
       "      <th>retweeted_status_user_id</th>\n",
       "      <th>rating_numerator</th>\n",
       "      <th>rating_denominator</th>\n",
       "    </tr>\n",
       "  </thead>\n",
       "  <tbody>\n",
       "    <tr>\n",
       "      <th>count</th>\n",
       "      <td>2.356000e+03</td>\n",
       "      <td>7.800000e+01</td>\n",
       "      <td>7.800000e+01</td>\n",
       "      <td>1.810000e+02</td>\n",
       "      <td>1.810000e+02</td>\n",
       "      <td>2356.000000</td>\n",
       "      <td>2356.000000</td>\n",
       "    </tr>\n",
       "    <tr>\n",
       "      <th>mean</th>\n",
       "      <td>7.427716e+17</td>\n",
       "      <td>7.455079e+17</td>\n",
       "      <td>2.014171e+16</td>\n",
       "      <td>7.720400e+17</td>\n",
       "      <td>1.241698e+16</td>\n",
       "      <td>13.126486</td>\n",
       "      <td>10.455433</td>\n",
       "    </tr>\n",
       "    <tr>\n",
       "      <th>std</th>\n",
       "      <td>6.856705e+16</td>\n",
       "      <td>7.582492e+16</td>\n",
       "      <td>1.252797e+17</td>\n",
       "      <td>6.236928e+16</td>\n",
       "      <td>9.599254e+16</td>\n",
       "      <td>45.876648</td>\n",
       "      <td>6.745237</td>\n",
       "    </tr>\n",
       "    <tr>\n",
       "      <th>min</th>\n",
       "      <td>6.660209e+17</td>\n",
       "      <td>6.658147e+17</td>\n",
       "      <td>1.185634e+07</td>\n",
       "      <td>6.661041e+17</td>\n",
       "      <td>7.832140e+05</td>\n",
       "      <td>0.000000</td>\n",
       "      <td>0.000000</td>\n",
       "    </tr>\n",
       "    <tr>\n",
       "      <th>25%</th>\n",
       "      <td>6.783989e+17</td>\n",
       "      <td>6.757419e+17</td>\n",
       "      <td>3.086374e+08</td>\n",
       "      <td>7.186315e+17</td>\n",
       "      <td>4.196984e+09</td>\n",
       "      <td>10.000000</td>\n",
       "      <td>10.000000</td>\n",
       "    </tr>\n",
       "    <tr>\n",
       "      <th>50%</th>\n",
       "      <td>7.196279e+17</td>\n",
       "      <td>7.038708e+17</td>\n",
       "      <td>4.196984e+09</td>\n",
       "      <td>7.804657e+17</td>\n",
       "      <td>4.196984e+09</td>\n",
       "      <td>11.000000</td>\n",
       "      <td>10.000000</td>\n",
       "    </tr>\n",
       "    <tr>\n",
       "      <th>75%</th>\n",
       "      <td>7.993373e+17</td>\n",
       "      <td>8.257804e+17</td>\n",
       "      <td>4.196984e+09</td>\n",
       "      <td>8.203146e+17</td>\n",
       "      <td>4.196984e+09</td>\n",
       "      <td>12.000000</td>\n",
       "      <td>10.000000</td>\n",
       "    </tr>\n",
       "    <tr>\n",
       "      <th>max</th>\n",
       "      <td>8.924206e+17</td>\n",
       "      <td>8.862664e+17</td>\n",
       "      <td>8.405479e+17</td>\n",
       "      <td>8.874740e+17</td>\n",
       "      <td>7.874618e+17</td>\n",
       "      <td>1776.000000</td>\n",
       "      <td>170.000000</td>\n",
       "    </tr>\n",
       "  </tbody>\n",
       "</table>\n",
       "</div>"
      ],
      "text/plain": [
       "           tweet_id  in_reply_to_status_id  in_reply_to_user_id  \\\n",
       "count  2.356000e+03           7.800000e+01         7.800000e+01   \n",
       "mean   7.427716e+17           7.455079e+17         2.014171e+16   \n",
       "std    6.856705e+16           7.582492e+16         1.252797e+17   \n",
       "min    6.660209e+17           6.658147e+17         1.185634e+07   \n",
       "25%    6.783989e+17           6.757419e+17         3.086374e+08   \n",
       "50%    7.196279e+17           7.038708e+17         4.196984e+09   \n",
       "75%    7.993373e+17           8.257804e+17         4.196984e+09   \n",
       "max    8.924206e+17           8.862664e+17         8.405479e+17   \n",
       "\n",
       "       retweeted_status_id  retweeted_status_user_id  rating_numerator  \\\n",
       "count         1.810000e+02              1.810000e+02       2356.000000   \n",
       "mean          7.720400e+17              1.241698e+16         13.126486   \n",
       "std           6.236928e+16              9.599254e+16         45.876648   \n",
       "min           6.661041e+17              7.832140e+05          0.000000   \n",
       "25%           7.186315e+17              4.196984e+09         10.000000   \n",
       "50%           7.804657e+17              4.196984e+09         11.000000   \n",
       "75%           8.203146e+17              4.196984e+09         12.000000   \n",
       "max           8.874740e+17              7.874618e+17       1776.000000   \n",
       "\n",
       "       rating_denominator  \n",
       "count         2356.000000  \n",
       "mean            10.455433  \n",
       "std              6.745237  \n",
       "min              0.000000  \n",
       "25%             10.000000  \n",
       "50%             10.000000  \n",
       "75%             10.000000  \n",
       "max            170.000000  "
      ]
     },
     "execution_count": 9,
     "metadata": {},
     "output_type": "execute_result"
    }
   ],
   "source": [
    "df_archive.describe()"
   ]
  },
  {
   "cell_type": "code",
   "execution_count": 10,
   "metadata": {
    "scrolled": false
   },
   "outputs": [
    {
     "name": "stdout",
     "output_type": "stream",
     "text": [
      "<class 'pandas.core.frame.DataFrame'>\n",
      "RangeIndex: 2356 entries, 0 to 2355\n",
      "Data columns (total 17 columns):\n",
      "tweet_id                      2356 non-null int64\n",
      "in_reply_to_status_id         78 non-null float64\n",
      "in_reply_to_user_id           78 non-null float64\n",
      "timestamp                     2356 non-null object\n",
      "source                        2356 non-null object\n",
      "text                          2356 non-null object\n",
      "retweeted_status_id           181 non-null float64\n",
      "retweeted_status_user_id      181 non-null float64\n",
      "retweeted_status_timestamp    181 non-null object\n",
      "expanded_urls                 2297 non-null object\n",
      "rating_numerator              2356 non-null int64\n",
      "rating_denominator            2356 non-null int64\n",
      "name                          2356 non-null object\n",
      "doggo                         2356 non-null object\n",
      "floofer                       2356 non-null object\n",
      "pupper                        2356 non-null object\n",
      "puppo                         2356 non-null object\n",
      "dtypes: float64(4), int64(3), object(10)\n",
      "memory usage: 313.0+ KB\n"
     ]
    }
   ],
   "source": [
    "df_archive.info()"
   ]
  },
  {
   "cell_type": "code",
   "execution_count": 11,
   "metadata": {},
   "outputs": [],
   "source": [
    "# this function to explore counts of categorical values in each column of provided df.\n",
    "def categorical_scan(df):\n",
    "    for col in df.columns:\n",
    "        print(df[col].value_counts().count(), '\\t', col)"
   ]
  },
  {
   "cell_type": "code",
   "execution_count": 12,
   "metadata": {},
   "outputs": [
    {
     "name": "stdout",
     "output_type": "stream",
     "text": [
      "2356 \t tweet_id\n",
      "77 \t in_reply_to_status_id\n",
      "31 \t in_reply_to_user_id\n",
      "2356 \t timestamp\n",
      "4 \t source\n",
      "2356 \t text\n",
      "181 \t retweeted_status_id\n",
      "25 \t retweeted_status_user_id\n",
      "181 \t retweeted_status_timestamp\n",
      "2218 \t expanded_urls\n",
      "40 \t rating_numerator\n",
      "18 \t rating_denominator\n",
      "957 \t name\n",
      "2 \t doggo\n",
      "2 \t floofer\n",
      "2 \t pupper\n",
      "2 \t puppo\n"
     ]
    }
   ],
   "source": [
    "categorical_scan(df_archive)"
   ]
  },
  {
   "cell_type": "code",
   "execution_count": 13,
   "metadata": {
    "scrolled": false
   },
   "outputs": [
    {
     "data": {
      "text/plain": [
       "10     2333\n",
       "11        3\n",
       "50        3\n",
       "80        2\n",
       "20        2\n",
       "2         1\n",
       "16        1\n",
       "40        1\n",
       "70        1\n",
       "15        1\n",
       "90        1\n",
       "110       1\n",
       "120       1\n",
       "130       1\n",
       "150       1\n",
       "170       1\n",
       "7         1\n",
       "0         1\n",
       "Name: rating_denominator, dtype: int64"
      ]
     },
     "execution_count": 13,
     "metadata": {},
     "output_type": "execute_result"
    }
   ],
   "source": [
    "df_archive.rating_denominator.value_counts()"
   ]
  },
  {
   "cell_type": "code",
   "execution_count": 14,
   "metadata": {
    "scrolled": true
   },
   "outputs": [
    {
     "data": {
      "text/plain": [
       "True    2356\n",
       "Name: text, dtype: int64"
      ]
     },
     "execution_count": 14,
     "metadata": {},
     "output_type": "execute_result"
    }
   ],
   "source": [
    "df_archive.text.str.contains(r'\\d+\\/\\d+').value_counts()"
   ]
  },
  {
   "cell_type": "code",
   "execution_count": 15,
   "metadata": {
    "scrolled": true
   },
   "outputs": [
    {
     "data": {
      "text/plain": [
       "12/10      558\n",
       "11/10      463\n",
       "10/10      461\n",
       "13/10      351\n",
       "9/10       156\n",
       "8/10       102\n",
       "14/10       54\n",
       "7/10        53\n",
       "5/10        37\n",
       "6/10        32\n",
       "3/10        19\n",
       "4/10        15\n",
       "2/10         9\n",
       "1/10         8\n",
       "420/10       2\n",
       "75/10        2\n",
       "9/11         2\n",
       "4/20         2\n",
       "0/10         2\n",
       "15/10        2\n",
       "7/11         1\n",
       "88/80        1\n",
       "99/90        1\n",
       "17/10        1\n",
       "44/40        1\n",
       "165/150      1\n",
       "182/10       1\n",
       "1776/10      1\n",
       "143/130      1\n",
       "666/10       1\n",
       "80/80        1\n",
       "007/10       1\n",
       "27/10        1\n",
       "960/00       1\n",
       "20/16        1\n",
       "50/50        1\n",
       "45/50        1\n",
       "60/50        1\n",
       "204/170      1\n",
       "121/110      1\n",
       "144/120      1\n",
       "24/7         1\n",
       "84/70        1\n",
       "26/10        1\n",
       "11/15        1\n",
       "1/2          1\n",
       "Name: text, dtype: int64"
      ]
     },
     "execution_count": 15,
     "metadata": {},
     "output_type": "execute_result"
    }
   ],
   "source": [
    "df_archive.text.str.extract(r'(?P<text>\\d+\\/\\d+)').text.value_counts()"
   ]
  },
  {
   "cell_type": "code",
   "execution_count": 16,
   "metadata": {},
   "outputs": [
    {
     "data": {
      "text/plain": [
       "156"
      ]
     },
     "execution_count": 16,
     "metadata": {},
     "output_type": "execute_result"
    }
   ],
   "source": [
    "# retweets in tweets\n",
    "df_archive[\n",
    "    df_archive.retweeted_status_id.isin(df_archive.tweet_id)\n",
    "].shape[0]\n"
   ]
  },
  {
   "cell_type": "code",
   "execution_count": 17,
   "metadata": {},
   "outputs": [
    {
     "data": {
      "text/plain": [
       "44"
      ]
     },
     "execution_count": 17,
     "metadata": {},
     "output_type": "execute_result"
    }
   ],
   "source": [
    "# replies in tweets\n",
    "df_archive[\n",
    "    df_archive.in_reply_to_status_id.isin(df_archive.tweet_id)\n",
    "].shape[0]"
   ]
  },
  {
   "cell_type": "markdown",
   "metadata": {},
   "source": [
    "<h3 id=\"-Gather\" style=\"\n",
    "    background-color: #bbb;\n",
    "    color: #fff;\n",
    "    padding: 10px 5px;\n",
    "\">image_predictions table</h3>"
   ]
  },
  {
   "cell_type": "code",
   "execution_count": 18,
   "metadata": {
    "scrolled": false
   },
   "outputs": [
    {
     "data": {
      "text/html": [
       "<div>\n",
       "<style scoped>\n",
       "    .dataframe tbody tr th:only-of-type {\n",
       "        vertical-align: middle;\n",
       "    }\n",
       "\n",
       "    .dataframe tbody tr th {\n",
       "        vertical-align: top;\n",
       "    }\n",
       "\n",
       "    .dataframe thead th {\n",
       "        text-align: right;\n",
       "    }\n",
       "</style>\n",
       "<table border=\"1\" class=\"dataframe\">\n",
       "  <thead>\n",
       "    <tr style=\"text-align: right;\">\n",
       "      <th></th>\n",
       "      <th>tweet_id</th>\n",
       "      <th>jpg_url</th>\n",
       "      <th>img_num</th>\n",
       "      <th>p1</th>\n",
       "      <th>p1_conf</th>\n",
       "      <th>p1_dog</th>\n",
       "      <th>p2</th>\n",
       "      <th>p2_conf</th>\n",
       "      <th>p2_dog</th>\n",
       "      <th>p3</th>\n",
       "      <th>p3_conf</th>\n",
       "      <th>p3_dog</th>\n",
       "    </tr>\n",
       "  </thead>\n",
       "  <tbody>\n",
       "    <tr>\n",
       "      <th>1215</th>\n",
       "      <td>743510151680958465</td>\n",
       "      <td>https://pbs.twimg.com/ext_tw_video_thumb/74350...</td>\n",
       "      <td>1</td>\n",
       "      <td>sea_lion</td>\n",
       "      <td>0.859046</td>\n",
       "      <td>False</td>\n",
       "      <td>tub</td>\n",
       "      <td>0.020405</td>\n",
       "      <td>False</td>\n",
       "      <td>hippopotamus</td>\n",
       "      <td>0.013095</td>\n",
       "      <td>False</td>\n",
       "    </tr>\n",
       "    <tr>\n",
       "      <th>1203</th>\n",
       "      <td>741438259667034112</td>\n",
       "      <td>https://pbs.twimg.com/media/CkoeKTPWYAAcWmo.jpg</td>\n",
       "      <td>1</td>\n",
       "      <td>Chesapeake_Bay_retriever</td>\n",
       "      <td>0.292675</td>\n",
       "      <td>True</td>\n",
       "      <td>redbone</td>\n",
       "      <td>0.197858</td>\n",
       "      <td>True</td>\n",
       "      <td>vizsla</td>\n",
       "      <td>0.150312</td>\n",
       "      <td>True</td>\n",
       "    </tr>\n",
       "    <tr>\n",
       "      <th>2064</th>\n",
       "      <td>890006608113172480</td>\n",
       "      <td>https://pbs.twimg.com/media/DFnwSY4WAAAMliS.jpg</td>\n",
       "      <td>1</td>\n",
       "      <td>Samoyed</td>\n",
       "      <td>0.957979</td>\n",
       "      <td>True</td>\n",
       "      <td>Pomeranian</td>\n",
       "      <td>0.013884</td>\n",
       "      <td>True</td>\n",
       "      <td>chow</td>\n",
       "      <td>0.008167</td>\n",
       "      <td>True</td>\n",
       "    </tr>\n",
       "    <tr>\n",
       "      <th>576</th>\n",
       "      <td>678675843183484930</td>\n",
       "      <td>https://pbs.twimg.com/media/CWskEqnWUAAQZW_.jpg</td>\n",
       "      <td>1</td>\n",
       "      <td>maze</td>\n",
       "      <td>0.339850</td>\n",
       "      <td>False</td>\n",
       "      <td>streetcar</td>\n",
       "      <td>0.099688</td>\n",
       "      <td>False</td>\n",
       "      <td>sundial</td>\n",
       "      <td>0.084808</td>\n",
       "      <td>False</td>\n",
       "    </tr>\n",
       "    <tr>\n",
       "      <th>1312</th>\n",
       "      <td>754482103782404096</td>\n",
       "      <td>https://pbs.twimg.com/ext_tw_video_thumb/75448...</td>\n",
       "      <td>1</td>\n",
       "      <td>tub</td>\n",
       "      <td>0.596796</td>\n",
       "      <td>False</td>\n",
       "      <td>bathtub</td>\n",
       "      <td>0.381098</td>\n",
       "      <td>False</td>\n",
       "      <td>shower_curtain</td>\n",
       "      <td>0.017629</td>\n",
       "      <td>False</td>\n",
       "    </tr>\n",
       "    <tr>\n",
       "      <th>1340</th>\n",
       "      <td>758740312047005698</td>\n",
       "      <td>https://pbs.twimg.com/media/CoeWSJcUIAAv3Bq.jpg</td>\n",
       "      <td>1</td>\n",
       "      <td>Chesapeake_Bay_retriever</td>\n",
       "      <td>0.848514</td>\n",
       "      <td>True</td>\n",
       "      <td>Labrador_retriever</td>\n",
       "      <td>0.110054</td>\n",
       "      <td>True</td>\n",
       "      <td>curly-coated_retriever</td>\n",
       "      <td>0.025201</td>\n",
       "      <td>True</td>\n",
       "    </tr>\n",
       "    <tr>\n",
       "      <th>21</th>\n",
       "      <td>666293911632134144</td>\n",
       "      <td>https://pbs.twimg.com/media/CT8mx7KW4AEQu8N.jpg</td>\n",
       "      <td>1</td>\n",
       "      <td>three-toed_sloth</td>\n",
       "      <td>0.914671</td>\n",
       "      <td>False</td>\n",
       "      <td>otter</td>\n",
       "      <td>0.015250</td>\n",
       "      <td>False</td>\n",
       "      <td>great_grey_owl</td>\n",
       "      <td>0.013207</td>\n",
       "      <td>False</td>\n",
       "    </tr>\n",
       "    <tr>\n",
       "      <th>1511</th>\n",
       "      <td>786233965241827333</td>\n",
       "      <td>https://pbs.twimg.com/media/CulDnZpWcAAGbZ-.jpg</td>\n",
       "      <td>1</td>\n",
       "      <td>Labrador_retriever</td>\n",
       "      <td>0.478193</td>\n",
       "      <td>True</td>\n",
       "      <td>schipperke</td>\n",
       "      <td>0.224817</td>\n",
       "      <td>True</td>\n",
       "      <td>Staffordshire_bullterrier</td>\n",
       "      <td>0.077396</td>\n",
       "      <td>True</td>\n",
       "    </tr>\n",
       "    <tr>\n",
       "      <th>1031</th>\n",
       "      <td>711363825979756544</td>\n",
       "      <td>https://pbs.twimg.com/media/Cd9Fn5QUMAAYMT4.jpg</td>\n",
       "      <td>1</td>\n",
       "      <td>Pembroke</td>\n",
       "      <td>0.750906</td>\n",
       "      <td>True</td>\n",
       "      <td>Cardigan</td>\n",
       "      <td>0.241152</td>\n",
       "      <td>True</td>\n",
       "      <td>basenji</td>\n",
       "      <td>0.002640</td>\n",
       "      <td>True</td>\n",
       "    </tr>\n",
       "    <tr>\n",
       "      <th>997</th>\n",
       "      <td>708356463048204288</td>\n",
       "      <td>https://pbs.twimg.com/media/CdSWcc1XIAAXc6H.jpg</td>\n",
       "      <td>2</td>\n",
       "      <td>pug</td>\n",
       "      <td>0.871283</td>\n",
       "      <td>True</td>\n",
       "      <td>French_bulldog</td>\n",
       "      <td>0.041820</td>\n",
       "      <td>True</td>\n",
       "      <td>bath_towel</td>\n",
       "      <td>0.015228</td>\n",
       "      <td>False</td>\n",
       "    </tr>\n",
       "    <tr>\n",
       "      <th>1106</th>\n",
       "      <td>723179728551723008</td>\n",
       "      <td>https://pbs.twimg.com/media/CglAHjAUgAAfxcq.jpg</td>\n",
       "      <td>1</td>\n",
       "      <td>tennis_ball</td>\n",
       "      <td>0.176495</td>\n",
       "      <td>False</td>\n",
       "      <td>badger</td>\n",
       "      <td>0.059905</td>\n",
       "      <td>False</td>\n",
       "      <td>Norwegian_elkhound</td>\n",
       "      <td>0.056850</td>\n",
       "      <td>True</td>\n",
       "    </tr>\n",
       "    <tr>\n",
       "      <th>1759</th>\n",
       "      <td>825829644528148480</td>\n",
       "      <td>https://pbs.twimg.com/media/C3XvqILXUAU2nnT.jpg</td>\n",
       "      <td>2</td>\n",
       "      <td>Great_Pyrenees</td>\n",
       "      <td>0.853407</td>\n",
       "      <td>True</td>\n",
       "      <td>golden_retriever</td>\n",
       "      <td>0.053531</td>\n",
       "      <td>True</td>\n",
       "      <td>English_setter</td>\n",
       "      <td>0.045830</td>\n",
       "      <td>True</td>\n",
       "    </tr>\n",
       "    <tr>\n",
       "      <th>389</th>\n",
       "      <td>673359818736984064</td>\n",
       "      <td>https://pbs.twimg.com/media/CVhBLohWEAAXtYl.jpg</td>\n",
       "      <td>1</td>\n",
       "      <td>English_setter</td>\n",
       "      <td>0.696568</td>\n",
       "      <td>True</td>\n",
       "      <td>Brittany_spaniel</td>\n",
       "      <td>0.104046</td>\n",
       "      <td>True</td>\n",
       "      <td>Ibizan_hound</td>\n",
       "      <td>0.034832</td>\n",
       "      <td>True</td>\n",
       "    </tr>\n",
       "    <tr>\n",
       "      <th>235</th>\n",
       "      <td>670427002554466305</td>\n",
       "      <td>https://pbs.twimg.com/media/CU3VzVwWwAAAsst.jpg</td>\n",
       "      <td>1</td>\n",
       "      <td>seat_belt</td>\n",
       "      <td>0.952258</td>\n",
       "      <td>False</td>\n",
       "      <td>toy_terrier</td>\n",
       "      <td>0.038872</td>\n",
       "      <td>True</td>\n",
       "      <td>beagle</td>\n",
       "      <td>0.003226</td>\n",
       "      <td>True</td>\n",
       "    </tr>\n",
       "    <tr>\n",
       "      <th>151</th>\n",
       "      <td>668643542311546881</td>\n",
       "      <td>https://pbs.twimg.com/media/CUd_wYRWUAAZsKr.jpg</td>\n",
       "      <td>1</td>\n",
       "      <td>common_iguana</td>\n",
       "      <td>0.483972</td>\n",
       "      <td>False</td>\n",
       "      <td>frilled_lizard</td>\n",
       "      <td>0.111377</td>\n",
       "      <td>False</td>\n",
       "      <td>sandbar</td>\n",
       "      <td>0.078983</td>\n",
       "      <td>False</td>\n",
       "    </tr>\n",
       "    <tr>\n",
       "      <th>142</th>\n",
       "      <td>668614819948453888</td>\n",
       "      <td>https://pbs.twimg.com/media/CUdloW8WEAAxB_Y.jpg</td>\n",
       "      <td>1</td>\n",
       "      <td>bustard</td>\n",
       "      <td>0.380772</td>\n",
       "      <td>False</td>\n",
       "      <td>pelican</td>\n",
       "      <td>0.100554</td>\n",
       "      <td>False</td>\n",
       "      <td>crane</td>\n",
       "      <td>0.084713</td>\n",
       "      <td>False</td>\n",
       "    </tr>\n",
       "    <tr>\n",
       "      <th>1162</th>\n",
       "      <td>734912297295085568</td>\n",
       "      <td>https://pbs.twimg.com/media/CjLuzPvUoAAbU5k.jpg</td>\n",
       "      <td>1</td>\n",
       "      <td>Maltese_dog</td>\n",
       "      <td>0.847292</td>\n",
       "      <td>True</td>\n",
       "      <td>feather_boa</td>\n",
       "      <td>0.059379</td>\n",
       "      <td>False</td>\n",
       "      <td>Old_English_sheepdog</td>\n",
       "      <td>0.052758</td>\n",
       "      <td>True</td>\n",
       "    </tr>\n",
       "    <tr>\n",
       "      <th>209</th>\n",
       "      <td>669972011175813120</td>\n",
       "      <td>https://pbs.twimg.com/media/CUw3_QiUEAA8cT9.jpg</td>\n",
       "      <td>1</td>\n",
       "      <td>teddy</td>\n",
       "      <td>0.953071</td>\n",
       "      <td>False</td>\n",
       "      <td>koala</td>\n",
       "      <td>0.007027</td>\n",
       "      <td>False</td>\n",
       "      <td>fur_coat</td>\n",
       "      <td>0.005368</td>\n",
       "      <td>False</td>\n",
       "    </tr>\n",
       "    <tr>\n",
       "      <th>1594</th>\n",
       "      <td>798697898615730177</td>\n",
       "      <td>https://pbs.twimg.com/media/CeRoBaxWEAABi0X.jpg</td>\n",
       "      <td>1</td>\n",
       "      <td>Labrador_retriever</td>\n",
       "      <td>0.868671</td>\n",
       "      <td>True</td>\n",
       "      <td>carton</td>\n",
       "      <td>0.095095</td>\n",
       "      <td>False</td>\n",
       "      <td>pug</td>\n",
       "      <td>0.007651</td>\n",
       "      <td>True</td>\n",
       "    </tr>\n",
       "    <tr>\n",
       "      <th>1918</th>\n",
       "      <td>855459453768019968</td>\n",
       "      <td>https://pbs.twimg.com/media/C98z1ZAXsAEIFFn.jpg</td>\n",
       "      <td>2</td>\n",
       "      <td>Blenheim_spaniel</td>\n",
       "      <td>0.389513</td>\n",
       "      <td>True</td>\n",
       "      <td>Pekinese</td>\n",
       "      <td>0.188220</td>\n",
       "      <td>True</td>\n",
       "      <td>Japanese_spaniel</td>\n",
       "      <td>0.082628</td>\n",
       "      <td>True</td>\n",
       "    </tr>\n",
       "  </tbody>\n",
       "</table>\n",
       "</div>"
      ],
      "text/plain": [
       "                tweet_id                                            jpg_url  \\\n",
       "1215  743510151680958465  https://pbs.twimg.com/ext_tw_video_thumb/74350...   \n",
       "1203  741438259667034112    https://pbs.twimg.com/media/CkoeKTPWYAAcWmo.jpg   \n",
       "2064  890006608113172480    https://pbs.twimg.com/media/DFnwSY4WAAAMliS.jpg   \n",
       "576   678675843183484930    https://pbs.twimg.com/media/CWskEqnWUAAQZW_.jpg   \n",
       "1312  754482103782404096  https://pbs.twimg.com/ext_tw_video_thumb/75448...   \n",
       "1340  758740312047005698    https://pbs.twimg.com/media/CoeWSJcUIAAv3Bq.jpg   \n",
       "21    666293911632134144    https://pbs.twimg.com/media/CT8mx7KW4AEQu8N.jpg   \n",
       "1511  786233965241827333    https://pbs.twimg.com/media/CulDnZpWcAAGbZ-.jpg   \n",
       "1031  711363825979756544    https://pbs.twimg.com/media/Cd9Fn5QUMAAYMT4.jpg   \n",
       "997   708356463048204288    https://pbs.twimg.com/media/CdSWcc1XIAAXc6H.jpg   \n",
       "1106  723179728551723008    https://pbs.twimg.com/media/CglAHjAUgAAfxcq.jpg   \n",
       "1759  825829644528148480    https://pbs.twimg.com/media/C3XvqILXUAU2nnT.jpg   \n",
       "389   673359818736984064    https://pbs.twimg.com/media/CVhBLohWEAAXtYl.jpg   \n",
       "235   670427002554466305    https://pbs.twimg.com/media/CU3VzVwWwAAAsst.jpg   \n",
       "151   668643542311546881    https://pbs.twimg.com/media/CUd_wYRWUAAZsKr.jpg   \n",
       "142   668614819948453888    https://pbs.twimg.com/media/CUdloW8WEAAxB_Y.jpg   \n",
       "1162  734912297295085568    https://pbs.twimg.com/media/CjLuzPvUoAAbU5k.jpg   \n",
       "209   669972011175813120    https://pbs.twimg.com/media/CUw3_QiUEAA8cT9.jpg   \n",
       "1594  798697898615730177    https://pbs.twimg.com/media/CeRoBaxWEAABi0X.jpg   \n",
       "1918  855459453768019968    https://pbs.twimg.com/media/C98z1ZAXsAEIFFn.jpg   \n",
       "\n",
       "      img_num                        p1   p1_conf  p1_dog                  p2  \\\n",
       "1215        1                  sea_lion  0.859046   False                 tub   \n",
       "1203        1  Chesapeake_Bay_retriever  0.292675    True             redbone   \n",
       "2064        1                   Samoyed  0.957979    True          Pomeranian   \n",
       "576         1                      maze  0.339850   False           streetcar   \n",
       "1312        1                       tub  0.596796   False             bathtub   \n",
       "1340        1  Chesapeake_Bay_retriever  0.848514    True  Labrador_retriever   \n",
       "21          1          three-toed_sloth  0.914671   False               otter   \n",
       "1511        1        Labrador_retriever  0.478193    True          schipperke   \n",
       "1031        1                  Pembroke  0.750906    True            Cardigan   \n",
       "997         2                       pug  0.871283    True      French_bulldog   \n",
       "1106        1               tennis_ball  0.176495   False              badger   \n",
       "1759        2            Great_Pyrenees  0.853407    True    golden_retriever   \n",
       "389         1            English_setter  0.696568    True    Brittany_spaniel   \n",
       "235         1                 seat_belt  0.952258   False         toy_terrier   \n",
       "151         1             common_iguana  0.483972   False      frilled_lizard   \n",
       "142         1                   bustard  0.380772   False             pelican   \n",
       "1162        1               Maltese_dog  0.847292    True         feather_boa   \n",
       "209         1                     teddy  0.953071   False               koala   \n",
       "1594        1        Labrador_retriever  0.868671    True              carton   \n",
       "1918        2          Blenheim_spaniel  0.389513    True            Pekinese   \n",
       "\n",
       "       p2_conf  p2_dog                         p3   p3_conf  p3_dog  \n",
       "1215  0.020405   False               hippopotamus  0.013095   False  \n",
       "1203  0.197858    True                     vizsla  0.150312    True  \n",
       "2064  0.013884    True                       chow  0.008167    True  \n",
       "576   0.099688   False                    sundial  0.084808   False  \n",
       "1312  0.381098   False             shower_curtain  0.017629   False  \n",
       "1340  0.110054    True     curly-coated_retriever  0.025201    True  \n",
       "21    0.015250   False             great_grey_owl  0.013207   False  \n",
       "1511  0.224817    True  Staffordshire_bullterrier  0.077396    True  \n",
       "1031  0.241152    True                    basenji  0.002640    True  \n",
       "997   0.041820    True                 bath_towel  0.015228   False  \n",
       "1106  0.059905   False         Norwegian_elkhound  0.056850    True  \n",
       "1759  0.053531    True             English_setter  0.045830    True  \n",
       "389   0.104046    True               Ibizan_hound  0.034832    True  \n",
       "235   0.038872    True                     beagle  0.003226    True  \n",
       "151   0.111377   False                    sandbar  0.078983   False  \n",
       "142   0.100554   False                      crane  0.084713   False  \n",
       "1162  0.059379   False       Old_English_sheepdog  0.052758    True  \n",
       "209   0.007027   False                   fur_coat  0.005368   False  \n",
       "1594  0.095095   False                        pug  0.007651    True  \n",
       "1918  0.188220    True           Japanese_spaniel  0.082628    True  "
      ]
     },
     "execution_count": 18,
     "metadata": {},
     "output_type": "execute_result"
    }
   ],
   "source": [
    "df_predictions.sample(20)"
   ]
  },
  {
   "cell_type": "code",
   "execution_count": 19,
   "metadata": {},
   "outputs": [
    {
     "data": {
      "text/html": [
       "<div>\n",
       "<style scoped>\n",
       "    .dataframe tbody tr th:only-of-type {\n",
       "        vertical-align: middle;\n",
       "    }\n",
       "\n",
       "    .dataframe tbody tr th {\n",
       "        vertical-align: top;\n",
       "    }\n",
       "\n",
       "    .dataframe thead th {\n",
       "        text-align: right;\n",
       "    }\n",
       "</style>\n",
       "<table border=\"1\" class=\"dataframe\">\n",
       "  <thead>\n",
       "    <tr style=\"text-align: right;\">\n",
       "      <th></th>\n",
       "      <th>tweet_id</th>\n",
       "      <th>img_num</th>\n",
       "      <th>p1_conf</th>\n",
       "      <th>p2_conf</th>\n",
       "      <th>p3_conf</th>\n",
       "    </tr>\n",
       "  </thead>\n",
       "  <tbody>\n",
       "    <tr>\n",
       "      <th>count</th>\n",
       "      <td>2.075000e+03</td>\n",
       "      <td>2075.000000</td>\n",
       "      <td>2075.000000</td>\n",
       "      <td>2.075000e+03</td>\n",
       "      <td>2.075000e+03</td>\n",
       "    </tr>\n",
       "    <tr>\n",
       "      <th>mean</th>\n",
       "      <td>7.384514e+17</td>\n",
       "      <td>1.203855</td>\n",
       "      <td>0.594548</td>\n",
       "      <td>1.345886e-01</td>\n",
       "      <td>6.032417e-02</td>\n",
       "    </tr>\n",
       "    <tr>\n",
       "      <th>std</th>\n",
       "      <td>6.785203e+16</td>\n",
       "      <td>0.561875</td>\n",
       "      <td>0.271174</td>\n",
       "      <td>1.006657e-01</td>\n",
       "      <td>5.090593e-02</td>\n",
       "    </tr>\n",
       "    <tr>\n",
       "      <th>min</th>\n",
       "      <td>6.660209e+17</td>\n",
       "      <td>1.000000</td>\n",
       "      <td>0.044333</td>\n",
       "      <td>1.011300e-08</td>\n",
       "      <td>1.740170e-10</td>\n",
       "    </tr>\n",
       "    <tr>\n",
       "      <th>25%</th>\n",
       "      <td>6.764835e+17</td>\n",
       "      <td>1.000000</td>\n",
       "      <td>0.364412</td>\n",
       "      <td>5.388625e-02</td>\n",
       "      <td>1.622240e-02</td>\n",
       "    </tr>\n",
       "    <tr>\n",
       "      <th>50%</th>\n",
       "      <td>7.119988e+17</td>\n",
       "      <td>1.000000</td>\n",
       "      <td>0.588230</td>\n",
       "      <td>1.181810e-01</td>\n",
       "      <td>4.944380e-02</td>\n",
       "    </tr>\n",
       "    <tr>\n",
       "      <th>75%</th>\n",
       "      <td>7.932034e+17</td>\n",
       "      <td>1.000000</td>\n",
       "      <td>0.843855</td>\n",
       "      <td>1.955655e-01</td>\n",
       "      <td>9.180755e-02</td>\n",
       "    </tr>\n",
       "    <tr>\n",
       "      <th>max</th>\n",
       "      <td>8.924206e+17</td>\n",
       "      <td>4.000000</td>\n",
       "      <td>1.000000</td>\n",
       "      <td>4.880140e-01</td>\n",
       "      <td>2.734190e-01</td>\n",
       "    </tr>\n",
       "  </tbody>\n",
       "</table>\n",
       "</div>"
      ],
      "text/plain": [
       "           tweet_id      img_num      p1_conf       p2_conf       p3_conf\n",
       "count  2.075000e+03  2075.000000  2075.000000  2.075000e+03  2.075000e+03\n",
       "mean   7.384514e+17     1.203855     0.594548  1.345886e-01  6.032417e-02\n",
       "std    6.785203e+16     0.561875     0.271174  1.006657e-01  5.090593e-02\n",
       "min    6.660209e+17     1.000000     0.044333  1.011300e-08  1.740170e-10\n",
       "25%    6.764835e+17     1.000000     0.364412  5.388625e-02  1.622240e-02\n",
       "50%    7.119988e+17     1.000000     0.588230  1.181810e-01  4.944380e-02\n",
       "75%    7.932034e+17     1.000000     0.843855  1.955655e-01  9.180755e-02\n",
       "max    8.924206e+17     4.000000     1.000000  4.880140e-01  2.734190e-01"
      ]
     },
     "execution_count": 19,
     "metadata": {},
     "output_type": "execute_result"
    }
   ],
   "source": [
    "df_predictions.describe()"
   ]
  },
  {
   "cell_type": "code",
   "execution_count": 20,
   "metadata": {
    "scrolled": true
   },
   "outputs": [
    {
     "name": "stdout",
     "output_type": "stream",
     "text": [
      "<class 'pandas.core.frame.DataFrame'>\n",
      "RangeIndex: 2075 entries, 0 to 2074\n",
      "Data columns (total 12 columns):\n",
      "tweet_id    2075 non-null int64\n",
      "jpg_url     2075 non-null object\n",
      "img_num     2075 non-null int64\n",
      "p1          2075 non-null object\n",
      "p1_conf     2075 non-null float64\n",
      "p1_dog      2075 non-null bool\n",
      "p2          2075 non-null object\n",
      "p2_conf     2075 non-null float64\n",
      "p2_dog      2075 non-null bool\n",
      "p3          2075 non-null object\n",
      "p3_conf     2075 non-null float64\n",
      "p3_dog      2075 non-null bool\n",
      "dtypes: bool(3), float64(3), int64(2), object(4)\n",
      "memory usage: 152.1+ KB\n"
     ]
    }
   ],
   "source": [
    "df_predictions.info()"
   ]
  },
  {
   "cell_type": "code",
   "execution_count": 21,
   "metadata": {
    "scrolled": true
   },
   "outputs": [
    {
     "name": "stdout",
     "output_type": "stream",
     "text": [
      "2075 \t tweet_id\n",
      "2009 \t jpg_url\n",
      "4 \t img_num\n",
      "378 \t p1\n",
      "2006 \t p1_conf\n",
      "2 \t p1_dog\n",
      "405 \t p2\n",
      "2004 \t p2_conf\n",
      "2 \t p2_dog\n",
      "408 \t p3\n",
      "2006 \t p3_conf\n",
      "2 \t p3_dog\n"
     ]
    }
   ],
   "source": [
    "categorical_scan(df_predictions)"
   ]
  },
  {
   "cell_type": "code",
   "execution_count": 22,
   "metadata": {
    "scrolled": true
   },
   "outputs": [
    {
     "data": {
      "text/plain": [
       "golden_retriever             150\n",
       "Labrador_retriever           100\n",
       "Pembroke                      89\n",
       "Chihuahua                     83\n",
       "pug                           57\n",
       "chow                          44\n",
       "Samoyed                       43\n",
       "toy_poodle                    39\n",
       "Pomeranian                    38\n",
       "malamute                      30\n",
       "cocker_spaniel                30\n",
       "French_bulldog                26\n",
       "Chesapeake_Bay_retriever      23\n",
       "miniature_pinscher            23\n",
       "seat_belt                     22\n",
       "Siberian_husky                20\n",
       "Staffordshire_bullterrier     20\n",
       "German_shepherd               20\n",
       "Cardigan                      19\n",
       "web_site                      19\n",
       "beagle                        18\n",
       "Shetland_sheepdog             18\n",
       "Eskimo_dog                    18\n",
       "Maltese_dog                   18\n",
       "teddy                         18\n",
       "Rottweiler                    17\n",
       "Lakeland_terrier              17\n",
       "Shih-Tzu                      17\n",
       "kuvasz                        16\n",
       "Italian_greyhound             16\n",
       "                            ... \n",
       "crash_helmet                   1\n",
       "tick                           1\n",
       "lynx                           1\n",
       "leopard                        1\n",
       "hare                           1\n",
       "leaf_beetle                    1\n",
       "trombone                       1\n",
       "water_buffalo                  1\n",
       "orange                         1\n",
       "otter                          1\n",
       "grey_fox                       1\n",
       "tailed_frog                    1\n",
       "hummingbird                    1\n",
       "Japanese_spaniel               1\n",
       "candle                         1\n",
       "bow                            1\n",
       "banana                         1\n",
       "hay                            1\n",
       "park_bench                     1\n",
       "pencil_box                     1\n",
       "stove                          1\n",
       "suit                           1\n",
       "alp                            1\n",
       "electric_fan                   1\n",
       "clog                           1\n",
       "earthstar                      1\n",
       "wild_boar                      1\n",
       "bookshop                       1\n",
       "envelope                       1\n",
       "syringe                        1\n",
       "Name: p1, Length: 378, dtype: int64"
      ]
     },
     "execution_count": 22,
     "metadata": {},
     "output_type": "execute_result"
    }
   ],
   "source": [
    "df_predictions.p1.value_counts()"
   ]
  },
  {
   "cell_type": "code",
   "execution_count": 23,
   "metadata": {},
   "outputs": [
    {
     "data": {
      "text/plain": [
       "Labrador_retriever                104\n",
       "golden_retriever                   92\n",
       "Cardigan                           73\n",
       "Chihuahua                          44\n",
       "Pomeranian                         42\n",
       "French_bulldog                     41\n",
       "Chesapeake_Bay_retriever           41\n",
       "toy_poodle                         37\n",
       "cocker_spaniel                     34\n",
       "Siberian_husky                     33\n",
       "miniature_poodle                   33\n",
       "beagle                             28\n",
       "Pembroke                           27\n",
       "collie                             27\n",
       "Eskimo_dog                         27\n",
       "kuvasz                             26\n",
       "Italian_greyhound                  22\n",
       "Pekinese                           21\n",
       "American_Staffordshire_terrier     21\n",
       "chow                               20\n",
       "toy_terrier                        20\n",
       "malinois                           20\n",
       "miniature_pinscher                 20\n",
       "Samoyed                            20\n",
       "Norwegian_elkhound                 19\n",
       "Boston_bull                        19\n",
       "Staffordshire_bullterrier          18\n",
       "Irish_terrier                      17\n",
       "pug                                17\n",
       "Shih-Tzu                           16\n",
       "                                 ... \n",
       "chain_mail                          1\n",
       "space_heater                        1\n",
       "affenpinscher                       1\n",
       "coffee_mug                          1\n",
       "leafhopper                          1\n",
       "cab                                 1\n",
       "timber_wolf                         1\n",
       "desk                                1\n",
       "dock                                1\n",
       "paper_towel                         1\n",
       "medicine_chest                      1\n",
       "waffle_iron                         1\n",
       "sulphur_butterfly                   1\n",
       "maillot                             1\n",
       "EntleBucher                         1\n",
       "can_opener                          1\n",
       "table_lamp                          1\n",
       "red_fox                             1\n",
       "window_shade                        1\n",
       "armadillo                           1\n",
       "hamper                              1\n",
       "sandbar                             1\n",
       "Kerry_blue_terrier                  1\n",
       "saltshaker                          1\n",
       "washbasin                           1\n",
       "iPod                                1\n",
       "academic_gown                       1\n",
       "folding_chair                       1\n",
       "junco                               1\n",
       "snorkel                             1\n",
       "Name: p2, Length: 405, dtype: int64"
      ]
     },
     "execution_count": 23,
     "metadata": {},
     "output_type": "execute_result"
    }
   ],
   "source": [
    "df_predictions.p2.value_counts()"
   ]
  },
  {
   "cell_type": "code",
   "execution_count": 24,
   "metadata": {},
   "outputs": [
    {
     "data": {
      "text/plain": [
       "Labrador_retriever                79\n",
       "Chihuahua                         58\n",
       "golden_retriever                  48\n",
       "Eskimo_dog                        38\n",
       "kelpie                            35\n",
       "kuvasz                            34\n",
       "chow                              32\n",
       "Staffordshire_bullterrier         32\n",
       "cocker_spaniel                    31\n",
       "beagle                            31\n",
       "Pomeranian                        29\n",
       "toy_poodle                        29\n",
       "Pekinese                          29\n",
       "Chesapeake_Bay_retriever          27\n",
       "Pembroke                          27\n",
       "Great_Pyrenees                    27\n",
       "French_bulldog                    26\n",
       "malamute                          26\n",
       "American_Staffordshire_terrier    24\n",
       "pug                               23\n",
       "Cardigan                          23\n",
       "basenji                           21\n",
       "bull_mastiff                      20\n",
       "toy_terrier                       20\n",
       "Siberian_husky                    19\n",
       "Shetland_sheepdog                 17\n",
       "Boston_bull                       17\n",
       "boxer                             16\n",
       "doormat                           16\n",
       "Lakeland_terrier                  16\n",
       "                                  ..\n",
       "viaduct                            1\n",
       "bell_cote                          1\n",
       "hammerhead                         1\n",
       "wallet                             1\n",
       "drumstick                          1\n",
       "rhinoceros_beetle                  1\n",
       "chime                              1\n",
       "dugong                             1\n",
       "mountain_tent                      1\n",
       "window_screen                      1\n",
       "joystick                           1\n",
       "golfcart                           1\n",
       "can_opener                         1\n",
       "maze                               1\n",
       "theater_curtain                    1\n",
       "goldfish                           1\n",
       "nipple                             1\n",
       "passenger_car                      1\n",
       "otter                              1\n",
       "wolf_spider                        1\n",
       "switch                             1\n",
       "affenpinscher                      1\n",
       "mink                               1\n",
       "jeep                               1\n",
       "wild_boar                          1\n",
       "Windsor_tie                        1\n",
       "shower_cap                         1\n",
       "mitten                             1\n",
       "park_bench                         1\n",
       "African_chameleon                  1\n",
       "Name: p3, Length: 408, dtype: int64"
      ]
     },
     "execution_count": 24,
     "metadata": {},
     "output_type": "execute_result"
    }
   ],
   "source": [
    "df_predictions.p3.value_counts()"
   ]
  },
  {
   "cell_type": "code",
   "execution_count": 25,
   "metadata": {},
   "outputs": [
    {
     "data": {
      "text/plain": [
       "324"
      ]
     },
     "execution_count": 25,
     "metadata": {},
     "output_type": "execute_result"
    }
   ],
   "source": [
    "df_predictions.query('p1_dog == False & p2_dog == False & p3_dog == False').shape[0]"
   ]
  },
  {
   "cell_type": "markdown",
   "metadata": {},
   "source": [
    "<h3 id=\"-Gather\" style=\"\n",
    "    background-color: #bbb;\n",
    "    color: #fff;\n",
    "    padding: 10px 5px;\n",
    "\">tweets table</h3>"
   ]
  },
  {
   "cell_type": "code",
   "execution_count": 26,
   "metadata": {
    "scrolled": true
   },
   "outputs": [
    {
     "data": {
      "text/html": [
       "<div>\n",
       "<style scoped>\n",
       "    .dataframe tbody tr th:only-of-type {\n",
       "        vertical-align: middle;\n",
       "    }\n",
       "\n",
       "    .dataframe tbody tr th {\n",
       "        vertical-align: top;\n",
       "    }\n",
       "\n",
       "    .dataframe thead th {\n",
       "        text-align: right;\n",
       "    }\n",
       "</style>\n",
       "<table border=\"1\" class=\"dataframe\">\n",
       "  <thead>\n",
       "    <tr style=\"text-align: right;\">\n",
       "      <th></th>\n",
       "      <th>contributors</th>\n",
       "      <th>coordinates</th>\n",
       "      <th>created_at</th>\n",
       "      <th>entities</th>\n",
       "      <th>extended_entities</th>\n",
       "      <th>favorite_count</th>\n",
       "      <th>favorited</th>\n",
       "      <th>geo</th>\n",
       "      <th>id</th>\n",
       "      <th>id_str</th>\n",
       "      <th>...</th>\n",
       "      <th>quoted_status</th>\n",
       "      <th>quoted_status_id</th>\n",
       "      <th>quoted_status_id_str</th>\n",
       "      <th>retweet_count</th>\n",
       "      <th>retweeted</th>\n",
       "      <th>retweeted_status</th>\n",
       "      <th>source</th>\n",
       "      <th>text</th>\n",
       "      <th>truncated</th>\n",
       "      <th>user</th>\n",
       "    </tr>\n",
       "  </thead>\n",
       "  <tbody>\n",
       "    <tr>\n",
       "      <th>1716</th>\n",
       "      <td>NaN</td>\n",
       "      <td>NaN</td>\n",
       "      <td>2017-01-11 17:01:16</td>\n",
       "      <td>{'hashtags': [], 'symbols': [], 'user_mentions...</td>\n",
       "      <td>{'media': [{'id': 819227674182828033, 'id_str'...</td>\n",
       "      <td>24136</td>\n",
       "      <td>False</td>\n",
       "      <td>NaN</td>\n",
       "      <td>819227688460238848</td>\n",
       "      <td>819227688460238848</td>\n",
       "      <td>...</td>\n",
       "      <td>None</td>\n",
       "      <td>NaN</td>\n",
       "      <td>NaN</td>\n",
       "      <td>7117</td>\n",
       "      <td>False</td>\n",
       "      <td>None</td>\n",
       "      <td>&lt;a href=\"http://twitter.com/download/iphone\" r...</td>\n",
       "      <td>This is Finn. He's wondering if you come here ...</td>\n",
       "      <td>False</td>\n",
       "      <td>{'id': 4196983835, 'id_str': '4196983835', 'na...</td>\n",
       "    </tr>\n",
       "    <tr>\n",
       "      <th>1348</th>\n",
       "      <td>NaN</td>\n",
       "      <td>NaN</td>\n",
       "      <td>2016-07-31 16:50:42</td>\n",
       "      <td>{'hashtags': [], 'symbols': [], 'user_mentions...</td>\n",
       "      <td>{'media': [{'id': 759793413751472128, 'id_str'...</td>\n",
       "      <td>6195</td>\n",
       "      <td>False</td>\n",
       "      <td>NaN</td>\n",
       "      <td>759793422261743616</td>\n",
       "      <td>759793422261743616</td>\n",
       "      <td>...</td>\n",
       "      <td>None</td>\n",
       "      <td>NaN</td>\n",
       "      <td>NaN</td>\n",
       "      <td>2001</td>\n",
       "      <td>False</td>\n",
       "      <td>None</td>\n",
       "      <td>&lt;a href=\"http://twitter.com/download/iphone\" r...</td>\n",
       "      <td>Meet Maggie &amp;amp; Lila. Maggie is the doggo, L...</td>\n",
       "      <td>False</td>\n",
       "      <td>{'id': 4196983835, 'id_str': '4196983835', 'na...</td>\n",
       "    </tr>\n",
       "    <tr>\n",
       "      <th>2226</th>\n",
       "      <td>NaN</td>\n",
       "      <td>NaN</td>\n",
       "      <td>2016-07-09 15:02:31</td>\n",
       "      <td>{'hashtags': [], 'symbols': [], 'user_mentions...</td>\n",
       "      <td>None</td>\n",
       "      <td>6068</td>\n",
       "      <td>False</td>\n",
       "      <td>NaN</td>\n",
       "      <td>751793661361422336</td>\n",
       "      <td>751793661361422336</td>\n",
       "      <td>...</td>\n",
       "      <td>None</td>\n",
       "      <td>NaN</td>\n",
       "      <td>NaN</td>\n",
       "      <td>3037</td>\n",
       "      <td>False</td>\n",
       "      <td>None</td>\n",
       "      <td>&lt;a href=\"http://vine.co\" rel=\"nofollow\"&gt;Vine -...</td>\n",
       "      <td>This is Fred. He's having one heck of a summer...</td>\n",
       "      <td>False</td>\n",
       "      <td>{'id': 4196983835, 'id_str': '4196983835', 'na...</td>\n",
       "    </tr>\n",
       "    <tr>\n",
       "      <th>865</th>\n",
       "      <td>NaN</td>\n",
       "      <td>NaN</td>\n",
       "      <td>2016-02-10 18:11:03</td>\n",
       "      <td>{'hashtags': [], 'symbols': [], 'user_mentions...</td>\n",
       "      <td>{'media': [{'id': 697482920076951552, 'id_str'...</td>\n",
       "      <td>2484</td>\n",
       "      <td>False</td>\n",
       "      <td>NaN</td>\n",
       "      <td>697482927769255936</td>\n",
       "      <td>697482927769255936</td>\n",
       "      <td>...</td>\n",
       "      <td>None</td>\n",
       "      <td>NaN</td>\n",
       "      <td>NaN</td>\n",
       "      <td>696</td>\n",
       "      <td>False</td>\n",
       "      <td>None</td>\n",
       "      <td>&lt;a href=\"http://twitter.com/download/iphone\" r...</td>\n",
       "      <td>Meet Blipson. He's a Doowap Hufflepuff. That U...</td>\n",
       "      <td>False</td>\n",
       "      <td>{'id': 4196983835, 'id_str': '4196983835', 'na...</td>\n",
       "    </tr>\n",
       "    <tr>\n",
       "      <th>2137</th>\n",
       "      <td>NaN</td>\n",
       "      <td>NaN</td>\n",
       "      <td>2017-01-24 02:28:08</td>\n",
       "      <td>{'hashtags': [], 'symbols': [], 'user_mentions...</td>\n",
       "      <td>None</td>\n",
       "      <td>0</td>\n",
       "      <td>False</td>\n",
       "      <td>NaN</td>\n",
       "      <td>823719002937630720</td>\n",
       "      <td>823719002937630720</td>\n",
       "      <td>...</td>\n",
       "      <td>None</td>\n",
       "      <td>NaN</td>\n",
       "      <td>NaN</td>\n",
       "      <td>11851</td>\n",
       "      <td>False</td>\n",
       "      <td>{'created_at': 'Thu Oct 06 15:49:14 +0000 2016...</td>\n",
       "      <td>&lt;a href=\"http://twitter.com/download/iphone\" r...</td>\n",
       "      <td>RT @dog_rates: This is Balto. He's very conten...</td>\n",
       "      <td>False</td>\n",
       "      <td>{'id': 4196983835, 'id_str': '4196983835', 'na...</td>\n",
       "    </tr>\n",
       "    <tr>\n",
       "      <th>1249</th>\n",
       "      <td>NaN</td>\n",
       "      <td>NaN</td>\n",
       "      <td>2016-06-28 20:14:22</td>\n",
       "      <td>{'hashtags': [], 'symbols': [], 'user_mentions...</td>\n",
       "      <td>{'media': [{'id': 747885821378715648, 'id_str'...</td>\n",
       "      <td>3046</td>\n",
       "      <td>False</td>\n",
       "      <td>NaN</td>\n",
       "      <td>747885874273214464</td>\n",
       "      <td>747885874273214464</td>\n",
       "      <td>...</td>\n",
       "      <td>None</td>\n",
       "      <td>NaN</td>\n",
       "      <td>NaN</td>\n",
       "      <td>1026</td>\n",
       "      <td>False</td>\n",
       "      <td>None</td>\n",
       "      <td>&lt;a href=\"http://twitter.com/download/iphone\" r...</td>\n",
       "      <td>This is a mighty rare blue-tailed hammer sherk...</td>\n",
       "      <td>False</td>\n",
       "      <td>{'id': 4196983835, 'id_str': '4196983835', 'na...</td>\n",
       "    </tr>\n",
       "    <tr>\n",
       "      <th>1907</th>\n",
       "      <td>NaN</td>\n",
       "      <td>NaN</td>\n",
       "      <td>2017-04-18 23:50:52</td>\n",
       "      <td>{'hashtags': [], 'symbols': [], 'user_mentions...</td>\n",
       "      <td>{'media': [{'id': 854482381390073856, 'id_str'...</td>\n",
       "      <td>29367</td>\n",
       "      <td>False</td>\n",
       "      <td>NaN</td>\n",
       "      <td>854482394044301312</td>\n",
       "      <td>854482394044301312</td>\n",
       "      <td>...</td>\n",
       "      <td>None</td>\n",
       "      <td>NaN</td>\n",
       "      <td>NaN</td>\n",
       "      <td>6926</td>\n",
       "      <td>False</td>\n",
       "      <td>None</td>\n",
       "      <td>&lt;a href=\"http://twitter.com/download/iphone\" r...</td>\n",
       "      <td>This is Arya. She can barely contain her excit...</td>\n",
       "      <td>False</td>\n",
       "      <td>{'id': 4196983835, 'id_str': '4196983835', 'na...</td>\n",
       "    </tr>\n",
       "    <tr>\n",
       "      <th>1992</th>\n",
       "      <td>NaN</td>\n",
       "      <td>NaN</td>\n",
       "      <td>2017-06-21 00:06:44</td>\n",
       "      <td>{'hashtags': [], 'symbols': [], 'user_mentions...</td>\n",
       "      <td>None</td>\n",
       "      <td>26513</td>\n",
       "      <td>False</td>\n",
       "      <td>NaN</td>\n",
       "      <td>877316821321428993</td>\n",
       "      <td>877316821321428992</td>\n",
       "      <td>...</td>\n",
       "      <td>None</td>\n",
       "      <td>NaN</td>\n",
       "      <td>NaN</td>\n",
       "      <td>4961</td>\n",
       "      <td>False</td>\n",
       "      <td>None</td>\n",
       "      <td>&lt;a href=\"http://twitter.com/download/iphone\" r...</td>\n",
       "      <td>Meet Dante. At first he wasn't a fan of his ne...</td>\n",
       "      <td>True</td>\n",
       "      <td>{'id': 4196983835, 'id_str': '4196983835', 'na...</td>\n",
       "    </tr>\n",
       "    <tr>\n",
       "      <th>1268</th>\n",
       "      <td>NaN</td>\n",
       "      <td>NaN</td>\n",
       "      <td>2016-07-04 01:17:51</td>\n",
       "      <td>{'hashtags': [], 'symbols': [], 'user_mentions...</td>\n",
       "      <td>{'media': [{'id': 749774184847446016, 'id_str'...</td>\n",
       "      <td>4820</td>\n",
       "      <td>False</td>\n",
       "      <td>NaN</td>\n",
       "      <td>749774190421639168</td>\n",
       "      <td>749774190421639168</td>\n",
       "      <td>...</td>\n",
       "      <td>None</td>\n",
       "      <td>NaN</td>\n",
       "      <td>NaN</td>\n",
       "      <td>1372</td>\n",
       "      <td>False</td>\n",
       "      <td>None</td>\n",
       "      <td>&lt;a href=\"http://twitter.com/download/iphone\" r...</td>\n",
       "      <td>This is Lucy. She's a Benebop Cumberplop. 12/1...</td>\n",
       "      <td>False</td>\n",
       "      <td>{'id': 4196983835, 'id_str': '4196983835', 'na...</td>\n",
       "    </tr>\n",
       "    <tr>\n",
       "      <th>1430</th>\n",
       "      <td>NaN</td>\n",
       "      <td>NaN</td>\n",
       "      <td>2016-09-06 23:56:05</td>\n",
       "      <td>{'hashtags': [], 'symbols': [], 'user_mentions...</td>\n",
       "      <td>{'media': [{'id': 773308813344645120, 'id_str'...</td>\n",
       "      <td>24303</td>\n",
       "      <td>False</td>\n",
       "      <td>NaN</td>\n",
       "      <td>773308824254029826</td>\n",
       "      <td>773308824254029824</td>\n",
       "      <td>...</td>\n",
       "      <td>None</td>\n",
       "      <td>NaN</td>\n",
       "      <td>NaN</td>\n",
       "      <td>7892</td>\n",
       "      <td>False</td>\n",
       "      <td>None</td>\n",
       "      <td>&lt;a href=\"http://twitter.com/download/iphone\" r...</td>\n",
       "      <td>This is Bungalo. She uses that face to get wha...</td>\n",
       "      <td>False</td>\n",
       "      <td>{'id': 4196983835, 'id_str': '4196983835', 'na...</td>\n",
       "    </tr>\n",
       "  </tbody>\n",
       "</table>\n",
       "<p>10 rows × 30 columns</p>\n",
       "</div>"
      ],
      "text/plain": [
       "      contributors  coordinates          created_at  \\\n",
       "1716           NaN          NaN 2017-01-11 17:01:16   \n",
       "1348           NaN          NaN 2016-07-31 16:50:42   \n",
       "2226           NaN          NaN 2016-07-09 15:02:31   \n",
       "865            NaN          NaN 2016-02-10 18:11:03   \n",
       "2137           NaN          NaN 2017-01-24 02:28:08   \n",
       "1249           NaN          NaN 2016-06-28 20:14:22   \n",
       "1907           NaN          NaN 2017-04-18 23:50:52   \n",
       "1992           NaN          NaN 2017-06-21 00:06:44   \n",
       "1268           NaN          NaN 2016-07-04 01:17:51   \n",
       "1430           NaN          NaN 2016-09-06 23:56:05   \n",
       "\n",
       "                                               entities  \\\n",
       "1716  {'hashtags': [], 'symbols': [], 'user_mentions...   \n",
       "1348  {'hashtags': [], 'symbols': [], 'user_mentions...   \n",
       "2226  {'hashtags': [], 'symbols': [], 'user_mentions...   \n",
       "865   {'hashtags': [], 'symbols': [], 'user_mentions...   \n",
       "2137  {'hashtags': [], 'symbols': [], 'user_mentions...   \n",
       "1249  {'hashtags': [], 'symbols': [], 'user_mentions...   \n",
       "1907  {'hashtags': [], 'symbols': [], 'user_mentions...   \n",
       "1992  {'hashtags': [], 'symbols': [], 'user_mentions...   \n",
       "1268  {'hashtags': [], 'symbols': [], 'user_mentions...   \n",
       "1430  {'hashtags': [], 'symbols': [], 'user_mentions...   \n",
       "\n",
       "                                      extended_entities  favorite_count  \\\n",
       "1716  {'media': [{'id': 819227674182828033, 'id_str'...           24136   \n",
       "1348  {'media': [{'id': 759793413751472128, 'id_str'...            6195   \n",
       "2226                                               None            6068   \n",
       "865   {'media': [{'id': 697482920076951552, 'id_str'...            2484   \n",
       "2137                                               None               0   \n",
       "1249  {'media': [{'id': 747885821378715648, 'id_str'...            3046   \n",
       "1907  {'media': [{'id': 854482381390073856, 'id_str'...           29367   \n",
       "1992                                               None           26513   \n",
       "1268  {'media': [{'id': 749774184847446016, 'id_str'...            4820   \n",
       "1430  {'media': [{'id': 773308813344645120, 'id_str'...           24303   \n",
       "\n",
       "      favorited  geo                  id              id_str  ...  \\\n",
       "1716      False  NaN  819227688460238848  819227688460238848  ...   \n",
       "1348      False  NaN  759793422261743616  759793422261743616  ...   \n",
       "2226      False  NaN  751793661361422336  751793661361422336  ...   \n",
       "865       False  NaN  697482927769255936  697482927769255936  ...   \n",
       "2137      False  NaN  823719002937630720  823719002937630720  ...   \n",
       "1249      False  NaN  747885874273214464  747885874273214464  ...   \n",
       "1907      False  NaN  854482394044301312  854482394044301312  ...   \n",
       "1992      False  NaN  877316821321428993  877316821321428992  ...   \n",
       "1268      False  NaN  749774190421639168  749774190421639168  ...   \n",
       "1430      False  NaN  773308824254029826  773308824254029824  ...   \n",
       "\n",
       "     quoted_status  quoted_status_id  quoted_status_id_str  retweet_count  \\\n",
       "1716          None               NaN                   NaN           7117   \n",
       "1348          None               NaN                   NaN           2001   \n",
       "2226          None               NaN                   NaN           3037   \n",
       "865           None               NaN                   NaN            696   \n",
       "2137          None               NaN                   NaN          11851   \n",
       "1249          None               NaN                   NaN           1026   \n",
       "1907          None               NaN                   NaN           6926   \n",
       "1992          None               NaN                   NaN           4961   \n",
       "1268          None               NaN                   NaN           1372   \n",
       "1430          None               NaN                   NaN           7892   \n",
       "\n",
       "      retweeted                                   retweeted_status  \\\n",
       "1716      False                                               None   \n",
       "1348      False                                               None   \n",
       "2226      False                                               None   \n",
       "865       False                                               None   \n",
       "2137      False  {'created_at': 'Thu Oct 06 15:49:14 +0000 2016...   \n",
       "1249      False                                               None   \n",
       "1907      False                                               None   \n",
       "1992      False                                               None   \n",
       "1268      False                                               None   \n",
       "1430      False                                               None   \n",
       "\n",
       "                                                 source  \\\n",
       "1716  <a href=\"http://twitter.com/download/iphone\" r...   \n",
       "1348  <a href=\"http://twitter.com/download/iphone\" r...   \n",
       "2226  <a href=\"http://vine.co\" rel=\"nofollow\">Vine -...   \n",
       "865   <a href=\"http://twitter.com/download/iphone\" r...   \n",
       "2137  <a href=\"http://twitter.com/download/iphone\" r...   \n",
       "1249  <a href=\"http://twitter.com/download/iphone\" r...   \n",
       "1907  <a href=\"http://twitter.com/download/iphone\" r...   \n",
       "1992  <a href=\"http://twitter.com/download/iphone\" r...   \n",
       "1268  <a href=\"http://twitter.com/download/iphone\" r...   \n",
       "1430  <a href=\"http://twitter.com/download/iphone\" r...   \n",
       "\n",
       "                                                   text  truncated  \\\n",
       "1716  This is Finn. He's wondering if you come here ...      False   \n",
       "1348  Meet Maggie &amp; Lila. Maggie is the doggo, L...      False   \n",
       "2226  This is Fred. He's having one heck of a summer...      False   \n",
       "865   Meet Blipson. He's a Doowap Hufflepuff. That U...      False   \n",
       "2137  RT @dog_rates: This is Balto. He's very conten...      False   \n",
       "1249  This is a mighty rare blue-tailed hammer sherk...      False   \n",
       "1907  This is Arya. She can barely contain her excit...      False   \n",
       "1992  Meet Dante. At first he wasn't a fan of his ne...       True   \n",
       "1268  This is Lucy. She's a Benebop Cumberplop. 12/1...      False   \n",
       "1430  This is Bungalo. She uses that face to get wha...      False   \n",
       "\n",
       "                                                   user  \n",
       "1716  {'id': 4196983835, 'id_str': '4196983835', 'na...  \n",
       "1348  {'id': 4196983835, 'id_str': '4196983835', 'na...  \n",
       "2226  {'id': 4196983835, 'id_str': '4196983835', 'na...  \n",
       "865   {'id': 4196983835, 'id_str': '4196983835', 'na...  \n",
       "2137  {'id': 4196983835, 'id_str': '4196983835', 'na...  \n",
       "1249  {'id': 4196983835, 'id_str': '4196983835', 'na...  \n",
       "1907  {'id': 4196983835, 'id_str': '4196983835', 'na...  \n",
       "1992  {'id': 4196983835, 'id_str': '4196983835', 'na...  \n",
       "1268  {'id': 4196983835, 'id_str': '4196983835', 'na...  \n",
       "1430  {'id': 4196983835, 'id_str': '4196983835', 'na...  \n",
       "\n",
       "[10 rows x 30 columns]"
      ]
     },
     "execution_count": 26,
     "metadata": {},
     "output_type": "execute_result"
    }
   ],
   "source": [
    "df_tweets.sample(10)"
   ]
  },
  {
   "cell_type": "code",
   "execution_count": 27,
   "metadata": {
    "scrolled": true
   },
   "outputs": [
    {
     "name": "stdout",
     "output_type": "stream",
     "text": [
      "<class 'pandas.core.frame.DataFrame'>\n",
      "RangeIndex: 2334 entries, 0 to 2333\n",
      "Data columns (total 30 columns):\n",
      "contributors                     0 non-null float64\n",
      "coordinates                      0 non-null float64\n",
      "created_at                       2334 non-null datetime64[ns]\n",
      "entities                         2334 non-null object\n",
      "extended_entities                1819 non-null object\n",
      "favorite_count                   2334 non-null int64\n",
      "favorited                        2334 non-null bool\n",
      "geo                              0 non-null float64\n",
      "id                               2334 non-null int64\n",
      "id_str                           2334 non-null int64\n",
      "in_reply_to_screen_name          77 non-null object\n",
      "in_reply_to_status_id            77 non-null float64\n",
      "in_reply_to_status_id_str        77 non-null float64\n",
      "in_reply_to_user_id              77 non-null float64\n",
      "in_reply_to_user_id_str          77 non-null float64\n",
      "is_quote_status                  2334 non-null bool\n",
      "lang                             2334 non-null object\n",
      "place                            1 non-null object\n",
      "possibly_sensitive               2200 non-null float64\n",
      "possibly_sensitive_appealable    2200 non-null float64\n",
      "quoted_status                    24 non-null object\n",
      "quoted_status_id                 26 non-null float64\n",
      "quoted_status_id_str             26 non-null float64\n",
      "retweet_count                    2334 non-null int64\n",
      "retweeted                        2334 non-null bool\n",
      "retweeted_status                 165 non-null object\n",
      "source                           2334 non-null object\n",
      "text                             2334 non-null object\n",
      "truncated                        2334 non-null bool\n",
      "user                             2334 non-null object\n",
      "dtypes: bool(4), datetime64[ns](1), float64(11), int64(4), object(10)\n",
      "memory usage: 483.3+ KB\n"
     ]
    }
   ],
   "source": [
    "df_tweets.info()"
   ]
  },
  {
   "cell_type": "code",
   "execution_count": 28,
   "metadata": {
    "scrolled": true
   },
   "outputs": [
    {
     "name": "stdout",
     "output_type": "stream",
     "text": [
      "0 \t contributors\n",
      "0 \t coordinates\n",
      "2334 \t created_at\n",
      "2241 \t entities\n",
      "1819 \t extended_entities\n",
      "1995 \t favorite_count\n",
      "1 \t favorited\n",
      "0 \t geo\n",
      "2334 \t id\n",
      "2334 \t id_str\n",
      "30 \t in_reply_to_screen_name\n",
      "76 \t in_reply_to_status_id\n",
      "76 \t in_reply_to_status_id_str\n",
      "30 \t in_reply_to_user_id\n",
      "30 \t in_reply_to_user_id_str\n",
      "2 \t is_quote_status\n",
      "9 \t lang\n",
      "1 \t place\n",
      "1 \t possibly_sensitive\n",
      "1 \t possibly_sensitive_appealable\n",
      "24 \t quoted_status\n",
      "26 \t quoted_status_id\n",
      "26 \t quoted_status_id_str\n",
      "1733 \t retweet_count\n",
      "1 \t retweeted\n",
      "165 \t retweeted_status\n",
      "4 \t source\n",
      "2334 \t text\n",
      "2 \t truncated\n",
      "250 \t user\n"
     ]
    }
   ],
   "source": [
    "categorical_scan(df_tweets)"
   ]
  },
  {
   "cell_type": "markdown",
   "metadata": {},
   "source": [
    "### Quality\n",
    "#### `twitter_archive_enhanced` table\n",
    "- There are \"None\" as value needs to be corrected.\n",
    "- There are number of observations have `doggo` with others.\n",
    "- The `tweet_id` need to be string.\n",
    "- There are 2 columns, end with `timestamp`, are object type while they need to be time formate.\n",
    "- `source` column has values in HTML fromat.\n",
    "- `rating_denominator` has values differ 10.\n",
    "- `rating_numerator` has some mistakes (not extracted correctly from `text`).\n",
    "- `rating_numerator` has anomalous values >= 45.9 (std) which we can consider them as outliers.\n",
    "- There are 156 tweets as retweets.\n",
    "- There are unwanted columns of `twitter_archive_enhanced` should be removed.\n",
    "\n",
    "#### `image_predictions` table\n",
    "- `id` column should be `string` type.\n",
    "- There are 324 observations are not predected as a dog.\n",
    "- There are unwanted columns of `image_predictions` should be removed.\n",
    "\n",
    "#### `tweets` table\n",
    "- `id` column should be `string` type.\n",
    "- There are columns should be droped becuase either they have 1 repeated value or nothing.\n",
    "- There are unwanted columns of `tweets` should be removed."
   ]
  },
  {
   "cell_type": "markdown",
   "metadata": {},
   "source": [
    "### Tidiness\n",
    "- `doggo`, `floofer`, `pupper` & `puppo` columns of `twitter_archive_enhanced` have to be values in the new column called \"type\".\n",
    "- join all tables to create `twitter_archive_master.csv`."
   ]
  },
  {
   "cell_type": "markdown",
   "metadata": {},
   "source": [
    "<a id='clean'></a>\n",
    "<h2 id=\"-Gather\" style=\"\n",
    "    background-color: #555;\n",
    "    color: #eee;\n",
    "    padding: 10px 5px;\n",
    "\">Clean</h2>"
   ]
  },
  {
   "cell_type": "code",
   "execution_count": 218,
   "metadata": {},
   "outputs": [],
   "source": [
    "df2_archive = df_archive.copy()\n",
    "df2_predictions = df_predictions.copy()\n",
    "df2_tweets = df_tweets.copy()"
   ]
  },
  {
   "cell_type": "markdown",
   "metadata": {},
   "source": [
    "<h3 id=\"-Gather\" style=\"\n",
    "    background-color: #bbb;\n",
    "    color: #fff;\n",
    "    padding: 10px 5px;\n",
    "\">twitter_archive_enhanced table</h3>"
   ]
  },
  {
   "cell_type": "markdown",
   "metadata": {},
   "source": [
    "## There are \"None\" as value needs to be corrected."
   ]
  },
  {
   "cell_type": "markdown",
   "metadata": {},
   "source": [
    "### Define"
   ]
  },
  {
   "cell_type": "markdown",
   "metadata": {},
   "source": [
    "> change \"None\" value to be np.nan"
   ]
  },
  {
   "cell_type": "markdown",
   "metadata": {},
   "source": [
    "### Code"
   ]
  },
  {
   "cell_type": "code",
   "execution_count": 219,
   "metadata": {},
   "outputs": [],
   "source": [
    "df2_archive = df2_archive.applymap(lambda x: np.nan if x == 'None' else x)"
   ]
  },
  {
   "cell_type": "markdown",
   "metadata": {},
   "source": [
    "### Test"
   ]
  },
  {
   "cell_type": "code",
   "execution_count": 220,
   "metadata": {},
   "outputs": [
    {
     "data": {
      "text/plain": [
       "True"
      ]
     },
     "execution_count": 220,
     "metadata": {},
     "output_type": "execute_result"
    }
   ],
   "source": [
    "# if there is a different of counts, means it is correct\n",
    "(df_archive.count() == df2_archive.count()).all() != True"
   ]
  },
  {
   "cell_type": "markdown",
   "metadata": {},
   "source": [
    "## There are number of observations have `doggo` with others."
   ]
  },
  {
   "cell_type": "markdown",
   "metadata": {},
   "source": [
    "### Define"
   ]
  },
  {
   "cell_type": "markdown",
   "metadata": {},
   "source": [
    "> merge `doggoe` with others into `multiple` column."
   ]
  },
  {
   "cell_type": "markdown",
   "metadata": {},
   "source": [
    "### Code"
   ]
  },
  {
   "cell_type": "code",
   "execution_count": 221,
   "metadata": {
    "scrolled": true
   },
   "outputs": [],
   "source": [
    "df2_archive['multiple'] = df2_archive[['doggo','floofer','pupper','puppo']].apply(\n",
    "    lambda x: ','.join(x.dropna().astype('str')), axis=1\n",
    ")\n",
    "df2_archive.multiple = df2_archive.multiple.map(lambda x: np.nan if len(x)==0 else x)"
   ]
  },
  {
   "cell_type": "markdown",
   "metadata": {},
   "source": [
    "### Test"
   ]
  },
  {
   "cell_type": "code",
   "execution_count": 222,
   "metadata": {},
   "outputs": [
    {
     "data": {
      "text/plain": [
       "pupper           245\n",
       "doggo             83\n",
       "puppo             29\n",
       "doggo,pupper      12\n",
       "floofer            9\n",
       "doggo,puppo        1\n",
       "doggo,floofer      1\n",
       "Name: multiple, dtype: int64"
      ]
     },
     "execution_count": 222,
     "metadata": {},
     "output_type": "execute_result"
    }
   ],
   "source": [
    "df2_archive.multiple.value_counts()"
   ]
  },
  {
   "cell_type": "markdown",
   "metadata": {},
   "source": [
    "## The `tweet_id` need to be string."
   ]
  },
  {
   "cell_type": "markdown",
   "metadata": {},
   "source": [
    "### Define"
   ]
  },
  {
   "cell_type": "markdown",
   "metadata": {},
   "source": [
    "> change the type of columns end with `_id` to string."
   ]
  },
  {
   "cell_type": "markdown",
   "metadata": {},
   "source": [
    "### Code"
   ]
  },
  {
   "cell_type": "code",
   "execution_count": 223,
   "metadata": {},
   "outputs": [],
   "source": [
    "df2_archive.tweet_id = df2_archive.tweet_id.astype('str')"
   ]
  },
  {
   "cell_type": "markdown",
   "metadata": {},
   "source": [
    "### Test"
   ]
  },
  {
   "cell_type": "code",
   "execution_count": 224,
   "metadata": {},
   "outputs": [
    {
     "name": "stdout",
     "output_type": "stream",
     "text": [
      "<class 'pandas.core.frame.DataFrame'>\n",
      "RangeIndex: 2356 entries, 0 to 2355\n",
      "Data columns (total 18 columns):\n",
      "tweet_id                      2356 non-null object\n",
      "in_reply_to_status_id         78 non-null float64\n",
      "in_reply_to_user_id           78 non-null float64\n",
      "timestamp                     2356 non-null object\n",
      "source                        2356 non-null object\n",
      "text                          2356 non-null object\n",
      "retweeted_status_id           181 non-null float64\n",
      "retweeted_status_user_id      181 non-null float64\n",
      "retweeted_status_timestamp    181 non-null object\n",
      "expanded_urls                 2297 non-null object\n",
      "rating_numerator              2356 non-null int64\n",
      "rating_denominator            2356 non-null int64\n",
      "name                          1611 non-null object\n",
      "doggo                         97 non-null object\n",
      "floofer                       10 non-null object\n",
      "pupper                        257 non-null object\n",
      "puppo                         30 non-null object\n",
      "multiple                      380 non-null object\n",
      "dtypes: float64(4), int64(2), object(12)\n",
      "memory usage: 331.4+ KB\n"
     ]
    }
   ],
   "source": [
    "df2_archive.info()"
   ]
  },
  {
   "cell_type": "markdown",
   "metadata": {},
   "source": [
    "## There are 2 columns, end with `timestamp`, are object type while they need to be `timestamp`."
   ]
  },
  {
   "cell_type": "markdown",
   "metadata": {},
   "source": [
    "### Define"
   ]
  },
  {
   "cell_type": "markdown",
   "metadata": {},
   "source": [
    "> change the type of columns end with `timestamp` from object to timestamp. "
   ]
  },
  {
   "cell_type": "markdown",
   "metadata": {},
   "source": [
    "### Code"
   ]
  },
  {
   "cell_type": "code",
   "execution_count": 225,
   "metadata": {},
   "outputs": [],
   "source": [
    "for col in df2_archive.columns[df2_archive.columns.str.endswith('timestamp')]:\n",
    "    df2_archive[col] = pd.to_datetime(df2_archive[col])"
   ]
  },
  {
   "cell_type": "markdown",
   "metadata": {},
   "source": [
    "### Test"
   ]
  },
  {
   "cell_type": "code",
   "execution_count": 226,
   "metadata": {},
   "outputs": [
    {
     "name": "stdout",
     "output_type": "stream",
     "text": [
      "<class 'pandas.core.frame.DataFrame'>\n",
      "RangeIndex: 2356 entries, 0 to 2355\n",
      "Data columns (total 18 columns):\n",
      "tweet_id                      2356 non-null object\n",
      "in_reply_to_status_id         78 non-null float64\n",
      "in_reply_to_user_id           78 non-null float64\n",
      "timestamp                     2356 non-null datetime64[ns, UTC]\n",
      "source                        2356 non-null object\n",
      "text                          2356 non-null object\n",
      "retweeted_status_id           181 non-null float64\n",
      "retweeted_status_user_id      181 non-null float64\n",
      "retweeted_status_timestamp    181 non-null datetime64[ns, UTC]\n",
      "expanded_urls                 2297 non-null object\n",
      "rating_numerator              2356 non-null int64\n",
      "rating_denominator            2356 non-null int64\n",
      "name                          1611 non-null object\n",
      "doggo                         97 non-null object\n",
      "floofer                       10 non-null object\n",
      "pupper                        257 non-null object\n",
      "puppo                         30 non-null object\n",
      "multiple                      380 non-null object\n",
      "dtypes: datetime64[ns, UTC](2), float64(4), int64(2), object(10)\n",
      "memory usage: 331.4+ KB\n"
     ]
    }
   ],
   "source": [
    "df2_archive.info()"
   ]
  },
  {
   "cell_type": "markdown",
   "metadata": {},
   "source": [
    "## `source` column has values in HTML fromat."
   ]
  },
  {
   "cell_type": "markdown",
   "metadata": {},
   "source": [
    "### Define"
   ]
  },
  {
   "cell_type": "markdown",
   "metadata": {},
   "source": [
    "> correct the value by remvoing HMTL tag"
   ]
  },
  {
   "cell_type": "markdown",
   "metadata": {},
   "source": [
    "### Code"
   ]
  },
  {
   "cell_type": "code",
   "execution_count": 227,
   "metadata": {},
   "outputs": [],
   "source": [
    "df2_archive['source'] = df2_archive.source.str.replace('<[^>]*>','')"
   ]
  },
  {
   "cell_type": "markdown",
   "metadata": {},
   "source": [
    "### Test"
   ]
  },
  {
   "cell_type": "code",
   "execution_count": 228,
   "metadata": {},
   "outputs": [
    {
     "data": {
      "text/plain": [
       "Twitter for iPhone     2221\n",
       "Vine - Make a Scene      91\n",
       "Twitter Web Client       33\n",
       "TweetDeck                11\n",
       "Name: source, dtype: int64"
      ]
     },
     "execution_count": 228,
     "metadata": {},
     "output_type": "execute_result"
    }
   ],
   "source": [
    "df2_archive.source.value_counts()"
   ]
  },
  {
   "cell_type": "markdown",
   "metadata": {},
   "source": [
    "## `rating_denominator` has values differ 10."
   ]
  },
  {
   "cell_type": "markdown",
   "metadata": {},
   "source": [
    "### Define"
   ]
  },
  {
   "cell_type": "markdown",
   "metadata": {},
   "source": [
    "> remove all observations have `rating_denominator` differ 10."
   ]
  },
  {
   "cell_type": "markdown",
   "metadata": {},
   "source": [
    "### Code"
   ]
  },
  {
   "cell_type": "code",
   "execution_count": 229,
   "metadata": {},
   "outputs": [],
   "source": [
    "df2_archive.drop(df2_archive[\n",
    "    df2_archive.rating_denominator != 10\n",
    "].index, inplace=True)"
   ]
  },
  {
   "cell_type": "markdown",
   "metadata": {},
   "source": [
    "### Test"
   ]
  },
  {
   "cell_type": "code",
   "execution_count": 230,
   "metadata": {},
   "outputs": [
    {
     "data": {
      "text/plain": [
       "True"
      ]
     },
     "execution_count": 230,
     "metadata": {},
     "output_type": "execute_result"
    }
   ],
   "source": [
    "# the lengths should be difference\n",
    "df2_archive.shape[0] != df_archive.shape[0]"
   ]
  },
  {
   "cell_type": "markdown",
   "metadata": {},
   "source": [
    "## `rating_numerator` has some mistakes (not extracted correctly from `text`)."
   ]
  },
  {
   "cell_type": "markdown",
   "metadata": {},
   "source": [
    "### Define"
   ]
  },
  {
   "cell_type": "markdown",
   "metadata": {},
   "source": [
    "> replace boservations has mistaken by correct one from `text`."
   ]
  },
  {
   "cell_type": "markdown",
   "metadata": {},
   "source": [
    "### Code"
   ]
  },
  {
   "cell_type": "code",
   "execution_count": 231,
   "metadata": {},
   "outputs": [],
   "source": [
    "rating = df2_archive.text.str.extract('((?:\\d+\\.)?\\d+)\\/(\\d+)', expand=True)\n",
    "rating.columns = ['rating_numerator', 'rating_denominator']\n",
    "rating.rating_denominator = rating.rating_denominator.astype('float64')\n",
    "rating.rating_numerator = rating.rating_numerator.astype('float64')\n",
    "\n",
    "df2_archive.loc[\n",
    "    df2_archive.rating_numerator != rating.rating_numerator, 'rating_numerator'\n",
    "] = rating.loc[\n",
    "    df2_archive.rating_numerator != rating.rating_numerator, 'rating_numerator'\n",
    "]"
   ]
  },
  {
   "cell_type": "markdown",
   "metadata": {},
   "source": [
    "### Test"
   ]
  },
  {
   "cell_type": "code",
   "execution_count": 232,
   "metadata": {},
   "outputs": [
    {
     "data": {
      "text/plain": [
       "True"
      ]
     },
     "execution_count": 232,
     "metadata": {},
     "output_type": "execute_result"
    }
   ],
   "source": [
    "(df2_archive.rating_numerator.astype('str').str.extract('(\\d+)\\.(\\d+)')[1].astype('int64') > 0).any()"
   ]
  },
  {
   "cell_type": "markdown",
   "metadata": {},
   "source": [
    "## `rating_numerator` has anomalous values >= 50 which are outliers."
   ]
  },
  {
   "cell_type": "markdown",
   "metadata": {},
   "source": [
    "### Define"
   ]
  },
  {
   "cell_type": "markdown",
   "metadata": {},
   "source": [
    "> remvoe all observations have `rating_numerator` >= 45.9 (std) which we can consider them as outliers."
   ]
  },
  {
   "cell_type": "markdown",
   "metadata": {},
   "source": [
    "### Code"
   ]
  },
  {
   "cell_type": "code",
   "execution_count": 233,
   "metadata": {},
   "outputs": [],
   "source": [
    "df2_archive.drop(\n",
    "    df2_archive[df2_archive.rating_numerator >= 50].index\n",
    ", inplace=True)"
   ]
  },
  {
   "cell_type": "markdown",
   "metadata": {},
   "source": [
    "### Test"
   ]
  },
  {
   "cell_type": "code",
   "execution_count": 234,
   "metadata": {},
   "outputs": [
    {
     "data": {
      "text/plain": [
       "rating_numerator\n",
       "0.00       2\n",
       "1.00       8\n",
       "2.00       9\n",
       "3.00      19\n",
       "4.00      15\n",
       "5.00      35\n",
       "6.00      32\n",
       "7.00      54\n",
       "8.00     102\n",
       "9.00     156\n",
       "9.50       1\n",
       "9.75       2\n",
       "10.00    461\n",
       "11.00    463\n",
       "11.26      1\n",
       "11.27      1\n",
       "12.00    558\n",
       "13.00    351\n",
       "13.50      1\n",
       "14.00     54\n",
       "15.00      2\n",
       "17.00      1\n",
       "Name: rating_numerator, dtype: int64"
      ]
     },
     "execution_count": 234,
     "metadata": {},
     "output_type": "execute_result"
    }
   ],
   "source": [
    "df2_archive.groupby('rating_numerator').rating_numerator.count()"
   ]
  },
  {
   "cell_type": "markdown",
   "metadata": {},
   "source": [
    "## There are 156 tweets as retweets."
   ]
  },
  {
   "cell_type": "markdown",
   "metadata": {},
   "source": [
    "### Define"
   ]
  },
  {
   "cell_type": "markdown",
   "metadata": {},
   "source": [
    "> remove all observations which are actually retweets."
   ]
  },
  {
   "cell_type": "markdown",
   "metadata": {},
   "source": [
    "### Code"
   ]
  },
  {
   "cell_type": "code",
   "execution_count": 235,
   "metadata": {},
   "outputs": [
    {
     "data": {
      "text/html": [
       "<div>\n",
       "<style scoped>\n",
       "    .dataframe tbody tr th:only-of-type {\n",
       "        vertical-align: middle;\n",
       "    }\n",
       "\n",
       "    .dataframe tbody tr th {\n",
       "        vertical-align: top;\n",
       "    }\n",
       "\n",
       "    .dataframe thead th {\n",
       "        text-align: right;\n",
       "    }\n",
       "</style>\n",
       "<table border=\"1\" class=\"dataframe\">\n",
       "  <thead>\n",
       "    <tr style=\"text-align: right;\">\n",
       "      <th></th>\n",
       "      <th>tweet_id</th>\n",
       "      <th>in_reply_to_status_id</th>\n",
       "      <th>in_reply_to_user_id</th>\n",
       "      <th>timestamp</th>\n",
       "      <th>source</th>\n",
       "      <th>text</th>\n",
       "      <th>retweeted_status_id</th>\n",
       "      <th>retweeted_status_user_id</th>\n",
       "      <th>retweeted_status_timestamp</th>\n",
       "      <th>expanded_urls</th>\n",
       "      <th>rating_numerator</th>\n",
       "      <th>rating_denominator</th>\n",
       "      <th>name</th>\n",
       "      <th>doggo</th>\n",
       "      <th>floofer</th>\n",
       "      <th>pupper</th>\n",
       "      <th>puppo</th>\n",
       "      <th>multiple</th>\n",
       "    </tr>\n",
       "  </thead>\n",
       "  <tbody>\n",
       "    <tr>\n",
       "      <th>0</th>\n",
       "      <td>892420643555336193</td>\n",
       "      <td>NaN</td>\n",
       "      <td>NaN</td>\n",
       "      <td>2017-08-01 16:23:56+00:00</td>\n",
       "      <td>Twitter for iPhone</td>\n",
       "      <td>This is Phineas. He's a mystical boy. Only eve...</td>\n",
       "      <td>NaN</td>\n",
       "      <td>NaN</td>\n",
       "      <td>NaT</td>\n",
       "      <td>https://twitter.com/dog_rates/status/892420643...</td>\n",
       "      <td>13.0</td>\n",
       "      <td>10</td>\n",
       "      <td>Phineas</td>\n",
       "      <td>NaN</td>\n",
       "      <td>NaN</td>\n",
       "      <td>NaN</td>\n",
       "      <td>NaN</td>\n",
       "      <td>NaN</td>\n",
       "    </tr>\n",
       "    <tr>\n",
       "      <th>1</th>\n",
       "      <td>892177421306343426</td>\n",
       "      <td>NaN</td>\n",
       "      <td>NaN</td>\n",
       "      <td>2017-08-01 00:17:27+00:00</td>\n",
       "      <td>Twitter for iPhone</td>\n",
       "      <td>This is Tilly. She's just checking pup on you....</td>\n",
       "      <td>NaN</td>\n",
       "      <td>NaN</td>\n",
       "      <td>NaT</td>\n",
       "      <td>https://twitter.com/dog_rates/status/892177421...</td>\n",
       "      <td>13.0</td>\n",
       "      <td>10</td>\n",
       "      <td>Tilly</td>\n",
       "      <td>NaN</td>\n",
       "      <td>NaN</td>\n",
       "      <td>NaN</td>\n",
       "      <td>NaN</td>\n",
       "      <td>NaN</td>\n",
       "    </tr>\n",
       "    <tr>\n",
       "      <th>2</th>\n",
       "      <td>891815181378084864</td>\n",
       "      <td>NaN</td>\n",
       "      <td>NaN</td>\n",
       "      <td>2017-07-31 00:18:03+00:00</td>\n",
       "      <td>Twitter for iPhone</td>\n",
       "      <td>This is Archie. He is a rare Norwegian Pouncin...</td>\n",
       "      <td>NaN</td>\n",
       "      <td>NaN</td>\n",
       "      <td>NaT</td>\n",
       "      <td>https://twitter.com/dog_rates/status/891815181...</td>\n",
       "      <td>12.0</td>\n",
       "      <td>10</td>\n",
       "      <td>Archie</td>\n",
       "      <td>NaN</td>\n",
       "      <td>NaN</td>\n",
       "      <td>NaN</td>\n",
       "      <td>NaN</td>\n",
       "      <td>NaN</td>\n",
       "    </tr>\n",
       "    <tr>\n",
       "      <th>3</th>\n",
       "      <td>891689557279858688</td>\n",
       "      <td>NaN</td>\n",
       "      <td>NaN</td>\n",
       "      <td>2017-07-30 15:58:51+00:00</td>\n",
       "      <td>Twitter for iPhone</td>\n",
       "      <td>This is Darla. She commenced a snooze mid meal...</td>\n",
       "      <td>NaN</td>\n",
       "      <td>NaN</td>\n",
       "      <td>NaT</td>\n",
       "      <td>https://twitter.com/dog_rates/status/891689557...</td>\n",
       "      <td>13.0</td>\n",
       "      <td>10</td>\n",
       "      <td>Darla</td>\n",
       "      <td>NaN</td>\n",
       "      <td>NaN</td>\n",
       "      <td>NaN</td>\n",
       "      <td>NaN</td>\n",
       "      <td>NaN</td>\n",
       "    </tr>\n",
       "    <tr>\n",
       "      <th>4</th>\n",
       "      <td>891327558926688256</td>\n",
       "      <td>NaN</td>\n",
       "      <td>NaN</td>\n",
       "      <td>2017-07-29 16:00:24+00:00</td>\n",
       "      <td>Twitter for iPhone</td>\n",
       "      <td>This is Franklin. He would like you to stop ca...</td>\n",
       "      <td>NaN</td>\n",
       "      <td>NaN</td>\n",
       "      <td>NaT</td>\n",
       "      <td>https://twitter.com/dog_rates/status/891327558...</td>\n",
       "      <td>12.0</td>\n",
       "      <td>10</td>\n",
       "      <td>Franklin</td>\n",
       "      <td>NaN</td>\n",
       "      <td>NaN</td>\n",
       "      <td>NaN</td>\n",
       "      <td>NaN</td>\n",
       "      <td>NaN</td>\n",
       "    </tr>\n",
       "  </tbody>\n",
       "</table>\n",
       "</div>"
      ],
      "text/plain": [
       "             tweet_id  in_reply_to_status_id  in_reply_to_user_id  \\\n",
       "0  892420643555336193                    NaN                  NaN   \n",
       "1  892177421306343426                    NaN                  NaN   \n",
       "2  891815181378084864                    NaN                  NaN   \n",
       "3  891689557279858688                    NaN                  NaN   \n",
       "4  891327558926688256                    NaN                  NaN   \n",
       "\n",
       "                  timestamp              source  \\\n",
       "0 2017-08-01 16:23:56+00:00  Twitter for iPhone   \n",
       "1 2017-08-01 00:17:27+00:00  Twitter for iPhone   \n",
       "2 2017-07-31 00:18:03+00:00  Twitter for iPhone   \n",
       "3 2017-07-30 15:58:51+00:00  Twitter for iPhone   \n",
       "4 2017-07-29 16:00:24+00:00  Twitter for iPhone   \n",
       "\n",
       "                                                text  retweeted_status_id  \\\n",
       "0  This is Phineas. He's a mystical boy. Only eve...                  NaN   \n",
       "1  This is Tilly. She's just checking pup on you....                  NaN   \n",
       "2  This is Archie. He is a rare Norwegian Pouncin...                  NaN   \n",
       "3  This is Darla. She commenced a snooze mid meal...                  NaN   \n",
       "4  This is Franklin. He would like you to stop ca...                  NaN   \n",
       "\n",
       "   retweeted_status_user_id retweeted_status_timestamp  \\\n",
       "0                       NaN                        NaT   \n",
       "1                       NaN                        NaT   \n",
       "2                       NaN                        NaT   \n",
       "3                       NaN                        NaT   \n",
       "4                       NaN                        NaT   \n",
       "\n",
       "                                       expanded_urls  rating_numerator  \\\n",
       "0  https://twitter.com/dog_rates/status/892420643...              13.0   \n",
       "1  https://twitter.com/dog_rates/status/892177421...              13.0   \n",
       "2  https://twitter.com/dog_rates/status/891815181...              12.0   \n",
       "3  https://twitter.com/dog_rates/status/891689557...              13.0   \n",
       "4  https://twitter.com/dog_rates/status/891327558...              12.0   \n",
       "\n",
       "   rating_denominator      name doggo floofer pupper puppo multiple  \n",
       "0                  10   Phineas   NaN     NaN    NaN   NaN      NaN  \n",
       "1                  10     Tilly   NaN     NaN    NaN   NaN      NaN  \n",
       "2                  10    Archie   NaN     NaN    NaN   NaN      NaN  \n",
       "3                  10     Darla   NaN     NaN    NaN   NaN      NaN  \n",
       "4                  10  Franklin   NaN     NaN    NaN   NaN      NaN  "
      ]
     },
     "execution_count": 235,
     "metadata": {},
     "output_type": "execute_result"
    }
   ],
   "source": [
    "df2_archive.head()"
   ]
  },
  {
   "cell_type": "code",
   "execution_count": 236,
   "metadata": {},
   "outputs": [],
   "source": [
    "df2_archive.drop(\n",
    "    df2_archive[\n",
    "        df2_archive.retweeted_status_id.isin(df2_archive.tweet_id)\n",
    "    ].index,\n",
    "    inplace=True\n",
    ")"
   ]
  },
  {
   "cell_type": "markdown",
   "metadata": {},
   "source": [
    "### Test"
   ]
  },
  {
   "cell_type": "code",
   "execution_count": 237,
   "metadata": {
    "scrolled": true
   },
   "outputs": [
    {
     "data": {
      "text/plain": [
       "True"
      ]
     },
     "execution_count": 237,
     "metadata": {},
     "output_type": "execute_result"
    }
   ],
   "source": [
    "df2_archive.shape[0] != df_archive.shape[0]"
   ]
  },
  {
   "cell_type": "markdown",
   "metadata": {},
   "source": [
    "## There are unwanted columns of `twitter_archive_enhanced` should be removed."
   ]
  },
  {
   "cell_type": "markdown",
   "metadata": {},
   "source": [
    "### Define"
   ]
  },
  {
   "cell_type": "markdown",
   "metadata": {},
   "source": [
    "> rmove `in_reply_to_status_id`, `in_reply_to_user_id`, `retweeted_status_id`, `retweeted_status_user_id`, `retweeted_status_timestamp`, `expanded_urls` & `text` columns."
   ]
  },
  {
   "cell_type": "markdown",
   "metadata": {},
   "source": [
    "### Code"
   ]
  },
  {
   "cell_type": "code",
   "execution_count": 238,
   "metadata": {},
   "outputs": [],
   "source": [
    "df2_archive.drop(\n",
    "    ['in_reply_to_status_id',\n",
    "    'in_reply_to_user_id',\n",
    "    'retweeted_status_id',\n",
    "    'retweeted_status_user_id',\n",
    "    'retweeted_status_timestamp',\n",
    "    'expanded_urls',\n",
    "    'text'], axis=1, inplace=True\n",
    ")"
   ]
  },
  {
   "cell_type": "markdown",
   "metadata": {},
   "source": [
    "### Test"
   ]
  },
  {
   "cell_type": "code",
   "execution_count": 239,
   "metadata": {},
   "outputs": [
    {
     "data": {
      "text/plain": [
       "['tweet_id',\n",
       " 'timestamp',\n",
       " 'source',\n",
       " 'rating_numerator',\n",
       " 'rating_denominator',\n",
       " 'name',\n",
       " 'doggo',\n",
       " 'floofer',\n",
       " 'pupper',\n",
       " 'puppo',\n",
       " 'multiple']"
      ]
     },
     "execution_count": 239,
     "metadata": {},
     "output_type": "execute_result"
    }
   ],
   "source": [
    "list(df2_archive)"
   ]
  },
  {
   "cell_type": "markdown",
   "metadata": {},
   "source": [
    "<h3 id=\"-Gather\" style=\"\n",
    "    background-color: #bbb;\n",
    "    color: #fff;\n",
    "    padding: 10px 5px;\n",
    "\">image_predictions table</h3>"
   ]
  },
  {
   "cell_type": "markdown",
   "metadata": {},
   "source": [
    "## `id` column should be `string` type."
   ]
  },
  {
   "cell_type": "markdown",
   "metadata": {},
   "source": [
    "### Define"
   ]
  },
  {
   "cell_type": "markdown",
   "metadata": {},
   "source": [
    "> change the type of `tweet_id` to be string."
   ]
  },
  {
   "cell_type": "markdown",
   "metadata": {},
   "source": [
    "### Code"
   ]
  },
  {
   "cell_type": "code",
   "execution_count": 240,
   "metadata": {},
   "outputs": [],
   "source": [
    "df2_predictions.tweet_id = df2_predictions.tweet_id.astype('str')"
   ]
  },
  {
   "cell_type": "markdown",
   "metadata": {},
   "source": [
    "### Test"
   ]
  },
  {
   "cell_type": "code",
   "execution_count": 241,
   "metadata": {},
   "outputs": [
    {
     "name": "stdout",
     "output_type": "stream",
     "text": [
      "<class 'pandas.core.frame.DataFrame'>\n",
      "RangeIndex: 2075 entries, 0 to 2074\n",
      "Data columns (total 12 columns):\n",
      "tweet_id    2075 non-null object\n",
      "jpg_url     2075 non-null object\n",
      "img_num     2075 non-null int64\n",
      "p1          2075 non-null object\n",
      "p1_conf     2075 non-null float64\n",
      "p1_dog      2075 non-null bool\n",
      "p2          2075 non-null object\n",
      "p2_conf     2075 non-null float64\n",
      "p2_dog      2075 non-null bool\n",
      "p3          2075 non-null object\n",
      "p3_conf     2075 non-null float64\n",
      "p3_dog      2075 non-null bool\n",
      "dtypes: bool(3), float64(3), int64(1), object(5)\n",
      "memory usage: 152.1+ KB\n"
     ]
    }
   ],
   "source": [
    "df2_predictions.info()"
   ]
  },
  {
   "cell_type": "markdown",
   "metadata": {},
   "source": [
    "## there are 324 observations are not predected as a dog."
   ]
  },
  {
   "cell_type": "markdown",
   "metadata": {},
   "source": [
    "### Define"
   ]
  },
  {
   "cell_type": "markdown",
   "metadata": {},
   "source": [
    "> remove all observations were not predected as a dog."
   ]
  },
  {
   "cell_type": "markdown",
   "metadata": {},
   "source": [
    "### Code"
   ]
  },
  {
   "cell_type": "code",
   "execution_count": 242,
   "metadata": {},
   "outputs": [],
   "source": [
    "df2_predictions.drop(\n",
    "    df2_predictions.query('p1_dog == False & p2_dog == False & p3_dog == False').index\n",
    "    , inplace=True\n",
    ")"
   ]
  },
  {
   "cell_type": "markdown",
   "metadata": {},
   "source": [
    "### Test"
   ]
  },
  {
   "cell_type": "code",
   "execution_count": 243,
   "metadata": {},
   "outputs": [
    {
     "data": {
      "text/plain": [
       "True"
      ]
     },
     "execution_count": 243,
     "metadata": {},
     "output_type": "execute_result"
    }
   ],
   "source": [
    "# they should be not equal\n",
    "df2_predictions.shape[0] != df_predictions.shape[0]"
   ]
  },
  {
   "cell_type": "markdown",
   "metadata": {},
   "source": [
    "## There are unwanted columns of `image_predictions` should be removed."
   ]
  },
  {
   "cell_type": "markdown",
   "metadata": {},
   "source": [
    "### Define"
   ]
  },
  {
   "cell_type": "markdown",
   "metadata": {},
   "source": [
    "> remvoe `img_num` columns."
   ]
  },
  {
   "cell_type": "markdown",
   "metadata": {},
   "source": [
    "### Code"
   ]
  },
  {
   "cell_type": "code",
   "execution_count": 244,
   "metadata": {},
   "outputs": [],
   "source": [
    "df2_predictions.drop(['img_num'], axis=1, inplace=True)"
   ]
  },
  {
   "cell_type": "markdown",
   "metadata": {},
   "source": [
    "### Test"
   ]
  },
  {
   "cell_type": "code",
   "execution_count": 245,
   "metadata": {},
   "outputs": [
    {
     "data": {
      "text/plain": [
       "['tweet_id',\n",
       " 'jpg_url',\n",
       " 'p1',\n",
       " 'p1_conf',\n",
       " 'p1_dog',\n",
       " 'p2',\n",
       " 'p2_conf',\n",
       " 'p2_dog',\n",
       " 'p3',\n",
       " 'p3_conf',\n",
       " 'p3_dog']"
      ]
     },
     "execution_count": 245,
     "metadata": {},
     "output_type": "execute_result"
    }
   ],
   "source": [
    "list(df2_predictions)"
   ]
  },
  {
   "cell_type": "markdown",
   "metadata": {},
   "source": [
    "<h3 id=\"-Gather\" style=\"\n",
    "    background-color: #bbb;\n",
    "    color: #fff;\n",
    "    padding: 10px 5px;\n",
    "\">twitter table</h3>"
   ]
  },
  {
   "cell_type": "markdown",
   "metadata": {},
   "source": [
    "## `id` column should be `string` type."
   ]
  },
  {
   "cell_type": "markdown",
   "metadata": {},
   "source": [
    "### Define"
   ]
  },
  {
   "cell_type": "markdown",
   "metadata": {},
   "source": [
    "> change the type of `id` to be string."
   ]
  },
  {
   "cell_type": "markdown",
   "metadata": {},
   "source": [
    "### Code"
   ]
  },
  {
   "cell_type": "code",
   "execution_count": 246,
   "metadata": {},
   "outputs": [],
   "source": [
    "df2_tweets.id = df2_tweets.id.astype('str')"
   ]
  },
  {
   "cell_type": "markdown",
   "metadata": {},
   "source": [
    "### Test"
   ]
  },
  {
   "cell_type": "code",
   "execution_count": 247,
   "metadata": {},
   "outputs": [
    {
     "name": "stdout",
     "output_type": "stream",
     "text": [
      "<class 'pandas.core.frame.DataFrame'>\n",
      "RangeIndex: 2334 entries, 0 to 2333\n",
      "Data columns (total 30 columns):\n",
      "contributors                     0 non-null float64\n",
      "coordinates                      0 non-null float64\n",
      "created_at                       2334 non-null datetime64[ns]\n",
      "entities                         2334 non-null object\n",
      "extended_entities                1819 non-null object\n",
      "favorite_count                   2334 non-null int64\n",
      "favorited                        2334 non-null bool\n",
      "geo                              0 non-null float64\n",
      "id                               2334 non-null object\n",
      "id_str                           2334 non-null int64\n",
      "in_reply_to_screen_name          77 non-null object\n",
      "in_reply_to_status_id            77 non-null float64\n",
      "in_reply_to_status_id_str        77 non-null float64\n",
      "in_reply_to_user_id              77 non-null float64\n",
      "in_reply_to_user_id_str          77 non-null float64\n",
      "is_quote_status                  2334 non-null bool\n",
      "lang                             2334 non-null object\n",
      "place                            1 non-null object\n",
      "possibly_sensitive               2200 non-null float64\n",
      "possibly_sensitive_appealable    2200 non-null float64\n",
      "quoted_status                    24 non-null object\n",
      "quoted_status_id                 26 non-null float64\n",
      "quoted_status_id_str             26 non-null float64\n",
      "retweet_count                    2334 non-null int64\n",
      "retweeted                        2334 non-null bool\n",
      "retweeted_status                 165 non-null object\n",
      "source                           2334 non-null object\n",
      "text                             2334 non-null object\n",
      "truncated                        2334 non-null bool\n",
      "user                             2334 non-null object\n",
      "dtypes: bool(4), datetime64[ns](1), float64(11), int64(3), object(11)\n",
      "memory usage: 483.3+ KB\n"
     ]
    }
   ],
   "source": [
    "df2_tweets.info()"
   ]
  },
  {
   "cell_type": "markdown",
   "metadata": {},
   "source": [
    "## There are columns should be droped becuase either they have 1 repeated value or nothing."
   ]
  },
  {
   "cell_type": "markdown",
   "metadata": {},
   "source": [
    "### Define"
   ]
  },
  {
   "cell_type": "markdown",
   "metadata": {},
   "source": [
    "> remove all columns that have 1 repeatted value or nothing."
   ]
  },
  {
   "cell_type": "markdown",
   "metadata": {},
   "source": [
    "### Code"
   ]
  },
  {
   "cell_type": "code",
   "execution_count": 248,
   "metadata": {
    "scrolled": true
   },
   "outputs": [],
   "source": [
    "cols = []\n",
    "for col in df2_tweets.columns:\n",
    "    if(df2_tweets[col].value_counts().count() <=1):\n",
    "        cols.append(col)\n"
   ]
  },
  {
   "cell_type": "code",
   "execution_count": 249,
   "metadata": {},
   "outputs": [],
   "source": [
    "df2_tweets.drop(cols, axis=1, inplace=True)"
   ]
  },
  {
   "cell_type": "markdown",
   "metadata": {},
   "source": [
    "### Test"
   ]
  },
  {
   "cell_type": "code",
   "execution_count": 250,
   "metadata": {
    "scrolled": true
   },
   "outputs": [
    {
     "name": "stdout",
     "output_type": "stream",
     "text": [
      "2334 \t created_at\n",
      "2241 \t entities\n",
      "1819 \t extended_entities\n",
      "1995 \t favorite_count\n",
      "2334 \t id\n",
      "2334 \t id_str\n",
      "30 \t in_reply_to_screen_name\n",
      "76 \t in_reply_to_status_id\n",
      "76 \t in_reply_to_status_id_str\n",
      "30 \t in_reply_to_user_id\n",
      "30 \t in_reply_to_user_id_str\n",
      "2 \t is_quote_status\n",
      "9 \t lang\n",
      "24 \t quoted_status\n",
      "26 \t quoted_status_id\n",
      "26 \t quoted_status_id_str\n",
      "1733 \t retweet_count\n",
      "165 \t retweeted_status\n",
      "4 \t source\n",
      "2334 \t text\n",
      "2 \t truncated\n",
      "250 \t user\n"
     ]
    }
   ],
   "source": [
    "for col in df2_tweets.columns:\n",
    "    print(df2_tweets[col].value_counts().count(), '\\t', col)"
   ]
  },
  {
   "cell_type": "markdown",
   "metadata": {},
   "source": [
    "## There are unwanted columns of `tweets` should be removed."
   ]
  },
  {
   "cell_type": "markdown",
   "metadata": {},
   "source": [
    "### Define"
   ]
  },
  {
   "cell_type": "markdown",
   "metadata": {},
   "source": [
    "> remvoe `id`, `favorite_count` & `retweet_count` columns."
   ]
  },
  {
   "cell_type": "markdown",
   "metadata": {},
   "source": [
    "### Code"
   ]
  },
  {
   "cell_type": "code",
   "execution_count": 251,
   "metadata": {},
   "outputs": [],
   "source": [
    "df2_tweets.drop(\n",
    "    df2_tweets.columns.difference(['id', 'favorite_count', 'retweet_count']), axis=1, inplace=True\n",
    ")"
   ]
  },
  {
   "cell_type": "markdown",
   "metadata": {},
   "source": [
    "### Test"
   ]
  },
  {
   "cell_type": "code",
   "execution_count": 252,
   "metadata": {},
   "outputs": [
    {
     "data": {
      "text/plain": [
       "['favorite_count', 'id', 'retweet_count']"
      ]
     },
     "execution_count": 252,
     "metadata": {},
     "output_type": "execute_result"
    }
   ],
   "source": [
    "list(df2_tweets)"
   ]
  },
  {
   "cell_type": "markdown",
   "metadata": {},
   "source": [
    "<h3 id=\"-Gather\" style=\"\n",
    "    background-color: #bbb;\n",
    "    color: #fff;\n",
    "    padding: 10px 5px;\n",
    "\">Tidiness</h3>"
   ]
  },
  {
   "cell_type": "code",
   "execution_count": 253,
   "metadata": {},
   "outputs": [],
   "source": [
    "df3_predictions = df2_predictions.copy()\n",
    "df3_archive = df2_archive.copy()\n",
    "df3_tweets = df2_tweets.copy()"
   ]
  },
  {
   "cell_type": "markdown",
   "metadata": {},
   "source": [
    "## `doggo`, `floofer`, `pupper` & `puppo` columns of \"twitter_archive_enhanced\" have to be values in the new column called `type`.\n"
   ]
  },
  {
   "cell_type": "code",
   "execution_count": 254,
   "metadata": {},
   "outputs": [],
   "source": [
    "value_vars = ['multiple']\n",
    "cols = df3_archive.columns.difference(value_vars)\n",
    "\n",
    "df3_archive = df3_archive.melt(\n",
    "    id_vars=cols, value_vars=value_vars, value_name='stage'\n",
    ")\n",
    "\n",
    "df3_archive.reset_index(inplace=True)\n",
    "df3_archive.drop('variable', axis=1, inplace=True)"
   ]
  },
  {
   "cell_type": "code",
   "execution_count": 255,
   "metadata": {
    "scrolled": false
   },
   "outputs": [
    {
     "data": {
      "text/plain": [
       "pupper           228\n",
       "doggo             75\n",
       "puppo             24\n",
       "doggo,pupper      10\n",
       "floofer            9\n",
       "doggo,puppo        1\n",
       "doggo,floofer      1\n",
       "Name: stage, dtype: int64"
      ]
     },
     "execution_count": 255,
     "metadata": {},
     "output_type": "execute_result"
    }
   ],
   "source": [
    "df3_archive.stage.value_counts()"
   ]
  },
  {
   "cell_type": "markdown",
   "metadata": {},
   "source": [
    "## join all tables to create `twitter_archive_master.csv`."
   ]
  },
  {
   "cell_type": "code",
   "execution_count": 256,
   "metadata": {},
   "outputs": [],
   "source": [
    "df3_tweets.rename({'id':'tweet_id'}, axis=1, inplace=True)"
   ]
  },
  {
   "cell_type": "code",
   "execution_count": 257,
   "metadata": {},
   "outputs": [],
   "source": [
    "# without reset index, the merge will not working properly\n",
    "\n",
    "df3_master = df3_archive.merge(\n",
    "    df3_predictions, how='outer', on='tweet_id'\n",
    ").merge(\n",
    "    df3_tweets, how='outer', on='tweet_id'\n",
    ")"
   ]
  },
  {
   "cell_type": "code",
   "execution_count": 258,
   "metadata": {},
   "outputs": [],
   "source": [
    "df3_master.to_csv('twitter_archive_master.csv', index=False)"
   ]
  }
 ],
 "metadata": {
  "kernelspec": {
   "display_name": "Python 3",
   "language": "python",
   "name": "python3"
  },
  "language_info": {
   "codemirror_mode": {
    "name": "ipython",
    "version": 3
   },
   "file_extension": ".py",
   "mimetype": "text/x-python",
   "name": "python",
   "nbconvert_exporter": "python",
   "pygments_lexer": "ipython3",
   "version": "3.7.2"
  }
 },
 "nbformat": 4,
 "nbformat_minor": 2
}
